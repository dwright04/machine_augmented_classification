{
 "cells": [
  {
   "cell_type": "code",
   "execution_count": 1,
   "metadata": {
    "collapsed": false
   },
   "outputs": [
    {
     "name": "stderr",
     "output_type": "stream",
     "text": [
      "Using TensorFlow backend.\n",
      "/Users/dwright/anaconda2/envs/aind/lib/python3.6/importlib/_bootstrap.py:205: RuntimeWarning: compiletime version 3.5 of module 'tensorflow.python.framework.fast_tensor_util' does not match runtime version 3.6\n",
      "  return f(*args, **kwds)\n"
     ]
    }
   ],
   "source": [
    "import sys\n",
    "import pickle\n",
    "import scipy.io as sio\n",
    "import numpy as np\n",
    "import keras.backend as K\n",
    "from keras.optimizers import SGD\n",
    "from keras.utils import np_utils\n",
    "import matplotlib.pyplot as plt\n",
    "from itertools import combinations_with_replacement"
   ]
  },
  {
   "cell_type": "code",
   "execution_count": 2,
   "metadata": {
    "collapsed": false,
    "scrolled": true
   },
   "outputs": [
    {
     "name": "stderr",
     "output_type": "stream",
     "text": [
      "/Users/dwright/anaconda2/envs/aind/lib/python3.6/site-packages/matplotlib/__init__.py:1401: UserWarning:  This call to matplotlib.use() has no effect\n",
      "because the backend has already been chosen;\n",
      "matplotlib.use() must be called *before* pylab, matplotlib.pyplot,\n",
      "or matplotlib.backends is imported for the first time.\n",
      "\n",
      "  warnings.warn(_use_error_msg)\n"
     ]
    }
   ],
   "source": [
    "sys.path.insert(0,'/Users/dwright/dev/zoo/machine_augmented_classification/experiments/dissolving/mutitask/snhunters')\n",
    "from multitask_experiment import MultitaskDEC"
   ]
  },
  {
   "cell_type": "code",
   "execution_count": 3,
   "metadata": {
    "collapsed": true
   },
   "outputs": [],
   "source": [
    "sys.path.insert(0,'/Users/dwright/dev/zoo/machine_augmented_classification/experiments/dissolving')\n",
    "from dissolving_utils import get_cluster_centres, get_cluster_to_label_mapping\n",
    "from dissolving_utils import pca_plot"
   ]
  },
  {
   "cell_type": "code",
   "execution_count": 4,
   "metadata": {
    "collapsed": true
   },
   "outputs": [],
   "source": [
    "sys.path.insert(0,'/Users/dwright/dev/zoo/machine_augmented_classification/DEC-keras')\n",
    "from DEC import DEC"
   ]
  },
  {
   "cell_type": "code",
   "execution_count": 5,
   "metadata": {
    "collapsed": true
   },
   "outputs": [],
   "source": [
    "from sklearn.metrics import f1_score, roc_curve, homogeneity_score, normalized_mutual_info_score"
   ]
  },
  {
   "cell_type": "code",
   "execution_count": 6,
   "metadata": {
    "collapsed": true
   },
   "outputs": [],
   "source": [
    "def all_same(items):\n",
    "  return all(x == items[0] for x in items)"
   ]
  },
  {
   "cell_type": "code",
   "execution_count": 7,
   "metadata": {
    "collapsed": true
   },
   "outputs": [],
   "source": [
    "def get_best_mapping(y, predicted_clusters, n_clusters, fom):\n",
    "  best_metric = 0\n",
    "  best_mapping = []\n",
    "  for cluster_to_label_mapping in combinations_with_replacement([0,1], n_clusters):\n",
    "    if all_same(cluster_to_label_mapping):\n",
    "      continue\n",
    "    metric = fom(y, predicted_clusters, cluster_to_label_mapping)\n",
    "    if metric >= best_metric:\n",
    "      best_metric = metric\n",
    "      best_mapping = cluster_to_label_mapping\n",
    "  return best_metric, best_mapping"
   ]
  },
  {
   "cell_type": "code",
   "execution_count": 8,
   "metadata": {
    "collapsed": true
   },
   "outputs": [],
   "source": [
    "def calc_f1_score(y_true, predicted_clusters, cluster_to_label_mapping):\n",
    "  y_pred = []\n",
    "  for i in range(len(y_true)):\n",
    "    y_pred.append(cluster_to_label_mapping[predicted_clusters[i]])\n",
    "  return f1_score(y_true, np.array(y_pred))"
   ]
  },
  {
   "cell_type": "code",
   "execution_count": 9,
   "metadata": {
    "collapsed": true
   },
   "outputs": [],
   "source": [
    "def one_percent_fpr(y, pred, fom):\n",
    "    fpr, tpr, thresholds = roc_curve(y, pred)\n",
    "    FoM = 1-tpr[np.where(fpr<=fom)[0][-1]] # MDR at 1% FPR\n",
    "    threshold = thresholds[np.where(fpr<=fom)[0][-1]]\n",
    "    return FoM, threshold, fpr, tpr"
   ]
  },
  {
   "cell_type": "code",
   "execution_count": 10,
   "metadata": {
    "collapsed": true
   },
   "outputs": [],
   "source": [
    "def get_cluster_to_label_mapping_safe(y, y_pred, n_classes, n_clusters, toprint=True):\n",
    "  \"\"\"Enusre at least one cluster assigned to each label.\n",
    "  \"\"\"\n",
    "  one_hot_encoded = np_utils.to_categorical(y, n_classes)\n",
    "\n",
    "  cluster_to_label_mapping = []\n",
    "  n_assigned_list = []\n",
    "  majority_class_fractions = []\n",
    "  majority_class_pred = np.zeros(y.shape)\n",
    "  for cluster in range(n_clusters):\n",
    "    cluster_indices = np.where(y_pred == cluster)[0]\n",
    "    n_assigned_examples = cluster_indices.shape[0]\n",
    "    n_assigned_list.append(n_assigned_examples)\n",
    "    cluster_labels = one_hot_encoded[cluster_indices]\n",
    "    cluster_label_fractions = np.mean(cluster_labels, axis=0)\n",
    "    majority_cluster_class = np.argmax(cluster_label_fractions)\n",
    "    cluster_to_label_mapping.append(majority_cluster_class)\n",
    "    majority_class_pred[cluster_indices] += majority_cluster_class\n",
    "    majority_class_fractions.append(cluster_label_fractions[majority_cluster_class])\n",
    "    if toprint:\n",
    "      print(cluster, n_assigned_examples, majority_cluster_class, cluster_label_fractions[majority_cluster_class])\n",
    "  #print(cluster_to_label_mapping)\n",
    "  if toprint:\n",
    "    print(np.unique(y), np.unique(cluster_to_label_mapping))\n",
    "  try:\n",
    "    # make sure there is at least 1 cluster representing each class\n",
    "    assert np.all(np.unique(y) == np.unique(cluster_to_label_mapping))\n",
    "  except AssertionError:\n",
    "    # if there is no cluster for a class then we will assign a cluster to that\n",
    "    # class\n",
    "    \n",
    "    # find which class it is\n",
    "    # ASSUMPTION - this task is binary\n",
    "    \n",
    "    diff = list(set(np.unique(y)) - set(np.unique(cluster_to_label_mapping)))[0]\n",
    "      # we choose the cluster that contains the most examples of the class with no cluster\n",
    "      \n",
    "    one_hot = np_utils.to_categorical(y_pred[np.where(y==diff)[0]], \\\n",
    "                                        len(cluster_to_label_mapping))\n",
    "                                      \n",
    "    cluster_to_label_mapping[np.argmax(np.sum(one_hot, axis=0))] = int(diff)\n",
    "  if toprint:\n",
    "    print(cluster_to_label_mapping)\n",
    "  return cluster_to_label_mapping, n_assigned_list, majority_class_fractions"
   ]
  },
  {
   "cell_type": "markdown",
   "metadata": {},
   "source": [
    "## Clean labels"
   ]
  },
  {
   "cell_type": "code",
   "execution_count": 11,
   "metadata": {
    "collapsed": false
   },
   "outputs": [
    {
     "name": "stdout",
     "output_type": "stream",
     "text": [
      "(6916, 400) (2303, 400)\n"
     ]
    }
   ],
   "source": [
    "data = sio.loadmat('/Users/dwright/dev/zoo/machine_augmented_classification/data/snhunters/3pi_20x20_skew2_signPreserveNorm.mat')\n",
    "x_valid  = data['testX']\n",
    "y_valid  = np.squeeze(data['testy'])\n",
    "x_train  = data['X']\n",
    "y_train  = np.squeeze(data['y'])\n",
    "print(x_train.shape, x_valid.shape)"
   ]
  },
  {
   "cell_type": "code",
   "execution_count": 12,
   "metadata": {
    "collapsed": true
   },
   "outputs": [],
   "source": [
    "lcolours = ['#CAA8F5', '#D6FF79', '#A09BE7', '#5F00BA', '#56CBF9', \\\n",
    "            '#F3C969', '#ED254E', '#B0FF92', '#D9F0FF', '#46351D']\n",
    "\n",
    "# DEC constants from DEC paper\n",
    "batch_size = 256\n",
    "lr         = 0.01\n",
    "momentum   = 0.9\n",
    "tol        = 0.001\n",
    "maxiter    = 50\n",
    "#update_interval = 140 #perhaps this should be 1 for multitask learning\n",
    "update_interval = 10 #perhaps this should be 1 for multitask learning\n",
    "n_clusters = 10 # number of clusters to use\n",
    "n_classes  = 2  # number of classes"
   ]
  },
  {
   "cell_type": "code",
   "execution_count": 13,
   "metadata": {
    "collapsed": true
   },
   "outputs": [],
   "source": [
    "# load the pretrained DEC model for Supernova Hunters\n",
    "ae_weights  = '/Users/dwright/dev/zoo/machine_augmented_classification/DEC-keras/results/snh/ae_weights_snh.h5'\n",
    "dec_weights = '/Users/dwright/dev/zoo/machine_augmented_classification/DEC-keras/results/snh/10/DEC_model_final.h5'"
   ]
  },
  {
   "cell_type": "code",
   "execution_count": 12,
   "metadata": {
    "collapsed": false
   },
   "outputs": [],
   "source": [
    "dec = MultitaskDEC(dims=[x_valid.shape[-1], 500, 500, 2000, 10], \\\n",
    "                   n_clusters=n_clusters, batch_size=batch_size)\n",
    "dec.initialize_model(optimizer=SGD(lr=lr, momentum=momentum),\n",
    "                     ae_weights=ae_weights,\n",
    "                     x=x_train)\n",
    "dec.model.load_weights(dec_weights)"
   ]
  },
  {
   "cell_type": "code",
   "execution_count": 8,
   "metadata": {
    "collapsed": false,
    "scrolled": true
   },
   "outputs": [
    {
     "name": "stdout",
     "output_type": "stream",
     "text": [
      "Update interval 10\n",
      "Save interval 135.078125\n",
      "0 117 0 1.0\n",
      "1 328 0 0.6951219512195121\n",
      "2 710 0 0.7056338028169014\n",
      "3 1069 0 0.7034611786716558\n",
      "4 365 0 0.5726027397260274\n",
      "5 1673 0 0.5630603705917513\n",
      "6 1460 0 0.7904109589041096\n",
      "7 690 0 0.5811594202898551\n",
      "8 2 0 1.0\n",
      "9 502 0 0.603585657370518\n",
      "[0. 1.] [0]\n",
      "[0, 0, 0, 0, 0, 1, 0, 0, 0, 0]\n",
      "5\n",
      "[0.00860719 0.31423348 0.95513695 ... 0.33967993 0.9369725  0.00969982]\n",
      "Iter 0  :1% fpr 0.99003 , F1= 0.28857 h= 0.03865 ; loss= [0 0 0] ;\n",
      "\t valid 1% fpr=, 0.99217 , valid F1= 0.26258 h_valid= 0.0398 ; valid_loss=, [2.0816  1.77795 0.0681  0.30365]\n",
      "saving model:  [inf, inf, inf]  ->  [2.0816  1.77795 0.0681  0.30365]\n",
      "1.0 0.0\n",
      "saving model to: ./results/dec/DEC_model_0.h5\n",
      "1.0 0.0\n",
      "1.0 0.0\n",
      "1.0 0.0\n",
      "1.0 0.0\n",
      "1.0 0.0\n",
      "1.0 0.0\n",
      "1.0 0.0\n",
      "1.0 0.0\n",
      "1.0 0.0\n",
      "[2.7001707e-03 2.3472604e-01 1.4523689e-03 ... 2.1662091e-01 3.8277754e-01\n",
      " 3.8696217e-05]\n",
      "Iter 10  :1% fpr 0.61682 , F1= 0.87264 h= 0.15551 ; loss= [0.39576 0.23154 1.60387 0.16422] ;\n",
      "\t valid 1% fpr=, 0.56658 , valid F1= 0.80856 h_valid= 0.13783 ; valid_loss=, [0.46754 0.30512 0.16454 0.16242]\n",
      "saving model:  [2.0816  1.77795 0.0681  0.30365]  ->  [0.46754 0.30512 0.16454 0.16242]\n",
      "1.0 0.0\n",
      "1.0 0.0\n",
      "1.0 0.0\n",
      "1.0 0.0\n",
      "1.0 0.0\n",
      "1.0 0.0\n",
      "1.0 0.0\n",
      "1.0 0.0\n",
      "1.0 0.0\n",
      "1.0 0.0\n",
      "[8.1106457e-08 4.4679213e-03 1.6116648e-05 ... 1.7145867e-04 1.5773771e-02\n",
      " 9.7385357e-11]\n",
      "Iter 20  :1% fpr 0.15561 , F1= 0.97271 h= 0.23768 ; loss= [0.25099 0.08925 0.26404 0.16173] ;\n",
      "\t valid 1% fpr=, 0.47911 , valid F1= 0.84436 h_valid= 0.18198 ; valid_loss=, [0.42909 0.26895 0.13788 0.16014]\n",
      "saving model:  [0.46754 0.30512 0.16454 0.16242]  ->  [0.42909 0.26895 0.13788 0.16014]\n",
      "1.0 0.0\n",
      "1.0 0.0\n",
      "1.0 0.0\n",
      "1.0 0.0\n",
      "1.0 0.0\n",
      "1.0 0.0\n",
      "1.0 0.0\n",
      "1.0 0.0\n",
      "1.0 0.0\n",
      "1.0 0.0\n",
      "[2.6127956e-11 2.1926248e-03 1.0981832e-06 ... 5.1963584e-06 6.6554118e-03\n",
      " 3.0273652e-15]\n",
      "Iter 30  :1% fpr 0.00564 , F1= 0.98422 h= 0.31208 ; loss= [0.2226  0.0628  0.17052 0.1598 ] ;\n",
      "\t valid 1% fpr=, 0.51044 , valid F1= 0.85372 h_valid= 0.2472 ; valid_loss=, [0.48169 0.32335 0.12934 0.15834]\n",
      "1.0 0.0\n",
      "1.0 0.0\n",
      "1.0 0.0\n",
      "1.0 0.0\n",
      "1.0 0.0\n",
      "1.0 0.0\n",
      "1.0 0.0\n",
      "1.0 0.0\n",
      "1.0 0.0\n",
      "1.0 0.0\n",
      "[1.8068597e-16 1.8550555e-04 1.0999593e-09 ... 6.7965026e-08 1.1474916e-05\n",
      " 4.7215482e-20]\n",
      "Iter 40  :1% fpr 0.00087 , F1= 0.98979 h= 0.42201 ; loss= [0.18165 0.02367 0.14427 0.15798] ;\n",
      "\t valid 1% fpr=, 0.49478 , valid F1= 0.79672 h_valid= 0.32635 ; valid_loss=, [0.67622 0.5195  0.11793 0.15672]\n",
      "1.0 0.0\n",
      "1.0 0.0\n",
      "1.0 0.0\n",
      "1.0 0.0\n",
      "1.0 0.0\n",
      "1.0 0.0\n",
      "1.0 0.0\n",
      "1.0 0.0\n",
      "1.0 0.0\n",
      "1.0 0.0\n",
      "[6.6112791e-18 4.3027767e-04 1.0642115e-09 ... 1.0428188e-07 1.0207960e-05\n",
      " 1.2710438e-21]\n",
      "Iter 50  :1% fpr 0.0 , F1= 0.99268 h= 0.4161 ; loss= [0.1845  0.0277  0.13041 0.1568 ] ;\n",
      "\t valid 1% fpr=, 0.60183 , valid F1= 0.83541 h_valid= 0.31849 ; valid_loss=, [0.58286 0.42711 0.12134 0.15574]\n",
      "1.0 0.0\n",
      "1.0 0.0\n",
      "1.0 0.0\n",
      "1.0 0.0\n",
      "1.0 0.0\n",
      "1.0 0.0\n",
      "1.0 0.0\n",
      "1.0 0.0\n",
      "1.0 0.0\n",
      "1.0 0.0\n",
      "[1.2296625e-18 1.6572621e-05 2.0004428e-12 ... 3.8202215e-09 7.2293392e-06\n",
      " 3.7792325e-23]\n",
      "Iter 60  :1% fpr 0.00694 , F1= 0.98387 h= 0.40957 ; loss= [0.24965 0.0938  0.14019 0.15585] ;\n",
      "\t valid 1% fpr=, 0.73368 , valid F1= 0.81201 h_valid= 0.31587 ; valid_loss=, [0.67271 0.51796 0.11865 0.15475]\n",
      "1.0 0.0\n",
      "1.0 0.0\n",
      "1.0 0.0\n",
      "1.0 0.0\n",
      "1.0 0.0\n",
      "1.0 0.0\n",
      "1.0 0.0\n",
      "1.0 0.0\n",
      "1.0 0.0\n",
      "1.0 0.0\n",
      "[7.2442336e-22 1.3025295e-03 4.6343346e-12 ... 2.1494248e-10 7.8178476e-07\n",
      " 1.2719433e-25]\n",
      "Iter 70  :1% fpr 0.0 , F1= 0.99827 h= 0.45575 ; loss= [0.16191 0.00717 0.15044 0.15474] ;\n",
      "\t valid 1% fpr=, 0.5248 , valid F1= 0.84557 h_valid= 0.35913 ; valid_loss=, [0.63856 0.48487 0.11458 0.15369]\n",
      "1.0 0.0\n",
      "1.0 0.0\n",
      "1.0 0.0\n",
      "1.0 0.0\n",
      "1.0 0.0\n",
      "1.0 0.0\n",
      "1.0 0.0\n",
      "1.0 0.0\n",
      "1.0 0.0\n",
      "1.0 0.0\n",
      "[3.8340762e-24 2.2911209e-04 7.2794201e-13 ... 2.5617428e-10 6.4578906e-08\n",
      " 5.0871906e-27]\n",
      "Iter 80  :1% fpr 0.0 , F1= 0.99504 h= 0.47112 ; loss= [0.15977 0.00592 0.12015 0.15385] ;\n",
      "\t valid 1% fpr=, 0.63708 , valid F1= 0.84435 h_valid= 0.36017 ; valid_loss=, [0.67803 0.52491 0.11485 0.15312]\n",
      "1.0 0.0\n",
      "1.0 0.0\n",
      "1.0 0.0\n",
      "1.0 0.0\n",
      "1.0 0.0\n",
      "1.0 0.0\n",
      "1.0 0.0\n",
      "1.0 0.0\n",
      "1.0 0.0\n",
      "1.0 0.0\n",
      "[3.1849174e-26 4.3467045e-04 7.7441071e-15 ... 1.6150848e-11 2.7728499e-09\n",
      " 7.6829333e-30]\n",
      "Iter 90  :1% fpr 0.0 , F1= 0.99957 h= 0.49566 ; loss= [0.15426 0.00125 0.12791 0.15301] ;\n",
      "\t valid 1% fpr=, 0.60836 , valid F1= 0.84918 h_valid= 0.35879 ; valid_loss=, [0.72227 0.57013 0.10862 0.15214]\n",
      "1.0 0.0\n",
      "1.0 0.0\n",
      "1.0 0.0\n",
      "1.0 0.0\n",
      "1.0 0.0\n",
      "1.0 0.0\n",
      "1.0 0.0\n",
      "1.0 0.0\n",
      "1.0 0.0\n",
      "1.0 0.0\n",
      "[4.3368028e-28 9.1785696e-05 4.8611147e-16 ... 4.0697641e-12 2.2899020e-10\n",
      " 3.8076210e-32]\n",
      "Iter 100  :1% fpr 0.0 , F1= 1.0 h= 0.50307 ; loss= [0.15301 0.00078 0.10731 0.15224] ;\n",
      "\t valid 1% fpr=, 0.61749 , valid F1= 0.84182 h_valid= 0.35194 ; valid_loss=, [0.77438 0.62295 0.10592 0.15143]\n",
      "1.0 0.0\n",
      "1.0 0.0\n",
      "1.0 0.0\n",
      "1.0 0.0\n",
      "1.0 0.0\n",
      "1.0 0.0\n",
      "1.0 0.0\n",
      "1.0 0.0\n",
      "1.0 0.0\n",
      "1.0 0.0\n",
      "[2.5053560e-29 3.8385613e-05 1.3237276e-17 ... 1.0600791e-12 3.4252830e-11\n",
      " 1.1284749e-33]\n",
      "Iter 110  :1% fpr 0.0 , F1= 1.0 h= 0.51558 ; loss= [0.15201 0.00042 0.10126 0.1516 ] ;\n",
      "\t valid 1% fpr=, 0.65796 , valid F1= 0.83461 h_valid= 0.34914 ; valid_loss=, [0.82847 0.67761 0.10397 0.15086]\n",
      "1.0 0.0\n",
      "1.0 0.0\n",
      "1.0 0.0\n",
      "1.0 0.0\n",
      "1.0 0.0\n",
      "1.0 0.0\n",
      "1.0 0.0\n",
      "1.0 0.0\n",
      "1.0 0.0\n",
      "1.0 0.0\n",
      "[4.8934532e-30 2.8566008e-05 1.1529599e-18 ... 4.6659161e-13 8.9164023e-12\n",
      " 1.5649576e-34]\n",
      "Iter 120  :1% fpr 0.0 , F1= 1.0 h= 0.51434 ; loss= [0.15133 0.00033 0.09983 0.15101] ;\n",
      "\t valid 1% fpr=, 0.66319 , valid F1= 0.83727 h_valid= 0.34505 ; valid_loss=, [0.83677 0.68644 0.10258 0.15033]\n",
      "1.0 0.0\n",
      "1.0 0.0\n",
      "1.0 0.0\n",
      "1.0 0.0\n",
      "1.0 0.0\n",
      "1.0 0.0\n",
      "1.0 0.0\n",
      "1.0 0.0\n",
      "1.0 0.0\n",
      "1.0 0.0\n",
      "[6.6796554e-31 2.5971816e-05 6.3904846e-20 ... 1.6935516e-13 2.2214459e-12\n",
      " 1.7175037e-35]\n",
      "Iter 130  :1% fpr 0.0 , F1= 1.0 h= 0.52346 ; loss= [0.15076 0.00028 0.09699 0.15048] ;\n",
      "\t valid 1% fpr=, 0.64099 , valid F1= 0.83844 h_valid= 0.34087 ; valid_loss=, [0.85527 0.70543 0.10115 0.14983]\n",
      "1.0 0.0\n",
      "1.0 0.0\n",
      "1.0 0.0\n",
      "1.0 0.0\n",
      "1.0 0.0\n",
      "1.0 0.0\n",
      "1.0 0.0\n",
      "1.0 0.0\n",
      "1.0 0.0\n",
      "1.0 0.0\n",
      "[1.1114552e-24 3.0669858e-04 1.4971510e-16 ... 1.2389013e-13 2.4586242e-07\n",
      " 1.5513967e-30]\n",
      "Iter 140  :1% fpr 0.0 , F1= 1.0 h= 0.51986 ; loss= [0.15272 0.0021  0.08802 0.15063] ;\n",
      "\t valid 1% fpr=, 0.65666 , valid F1= 0.84375 h_valid= 0.36986 ; valid_loss=, [0.71106 0.56106 0.11081 0.15   ]\n",
      "1.0 0.0\n",
      "1.0 0.0\n",
      "1.0 0.0\n",
      "1.0 0.0\n",
      "1.0 0.0\n",
      "1.0 0.0\n",
      "1.0 0.0\n",
      "1.0 0.0\n",
      "1.0 0.0\n",
      "1.0 0.0\n",
      "[8.6490155e-27 9.1479953e-05 7.4319247e-19 ... 1.8742610e-14 2.0728718e-08\n",
      " 6.0888998e-33]\n",
      "Iter 150  :1% fpr 0.0 , F1= 1.0 h= 0.54278 ; loss= [0.15045 0.00049 0.11536 0.14996] ;\n",
      "\t valid 1% fpr=, 0.61358 , valid F1= 0.84066 h_valid= 0.35247 ; valid_loss=, [0.76309 0.61363 0.10571 0.14946]\n",
      "1.0 0.0\n",
      "1.0 0.0\n",
      "1.0 0.0\n",
      "1.0 0.0\n",
      "1.0 0.0\n",
      "1.0 0.0\n",
      "1.0 0.0\n",
      "1.0 0.0\n",
      "1.0 0.0\n",
      "1.0 0.0\n",
      "[8.7908793e-28 3.7631060e-05 2.4979716e-20 ... 5.1119472e-15 3.5942667e-09\n",
      " 1.0032304e-34]\n",
      "Iter 160  :1% fpr 0.0 , F1= 1.0 h= 0.54375 ; loss= [0.14978 0.00035 0.10308 0.14943] ;\n",
      "\t valid 1% fpr=, 0.60705 , valid F1= 0.83679 h_valid= 0.35066 ; valid_loss=, [0.79201 0.64303 0.10339 0.14898]\n",
      "1.0 0.0\n",
      "1.0 0.0\n",
      "1.0 0.0\n",
      "1.0 0.0\n",
      "1.0 0.0\n",
      "1.0 0.0\n",
      "1.0 0.0\n",
      "1.0 0.0\n",
      "1.0 0.0\n",
      "1.0 0.0\n",
      "[1.6248469e-28 2.1247022e-05 1.4222965e-21 ... 1.8241399e-15 9.0143082e-10\n",
      " 4.4510753e-36]\n",
      "Iter 170  :1% fpr 0.0 , F1= 1.0 h= 0.54934 ; loss= [0.14927 0.0003  0.0984  0.14897] ;\n",
      "\t valid 1% fpr=, 0.61749 , valid F1= 0.83553 h_valid= 0.3506 ; valid_loss=, [0.81637 0.66784 0.10133 0.14853]\n",
      "1.0 0.0\n",
      "1.0 0.0\n",
      "1.0 0.0\n",
      "1.0 0.0\n",
      "1.0 0.0\n",
      "1.0 0.0\n",
      "1.0 0.0\n",
      "1.0 0.0\n",
      "1.0 0.0\n",
      "1.0 0.0\n",
      "[2.6514578e-29 1.1015420e-05 1.1468778e-22 ... 6.9820571e-16 2.9324626e-10\n",
      " 3.1782124e-37]\n",
      "Iter 180  :1% fpr 0.0 , F1= 1.0 h= 0.55162 ; loss= [0.14876 0.00024 0.09651 0.14853] ;\n",
      "\t valid 1% fpr=, 0.65796 , valid F1= 0.83437 h_valid= 0.35378 ; valid_loss=, [0.83273 0.68459 0.09959 0.14815]\n",
      "1.0 0.0\n",
      "1.0 0.0\n",
      "1.0 0.0\n",
      "1.0 0.0\n",
      "1.0 0.0\n",
      "1.0 0.0\n",
      "1.0 0.0\n",
      "1.0 0.0\n",
      "1.0 0.0\n",
      "1.0 0.0\n",
      "[7.95856921e-30 6.42701298e-06 1.10380384e-23 ... 2.96273384e-16\n",
      " 1.16663096e-10 2.25533158e-38]\n",
      "Iter 190  :1% fpr 0.0 , F1= 1.0 h= 0.55142 ; loss= [0.14832 0.0002  0.09467 0.14811] ;\n",
      "\t valid 1% fpr=, 0.66057 , valid F1= 0.8338 h_valid= 0.34357 ; valid_loss=, [0.84616 0.69838 0.09779 0.14777]\n",
      "1.0 0.0\n",
      "1.0 0.0\n",
      "1.0 0.0\n",
      "1.0 0.0\n",
      "1.0 0.0\n",
      "1.0 0.0\n",
      "1.0 0.0\n",
      "1.0 0.0\n",
      "1.0 0.0\n",
      "1.0 0.0\n",
      "[2.7512056e-30 2.5974912e-06 1.7772255e-24 ... 1.4289294e-16 5.3548745e-11\n",
      " 0.0000000e+00]\n",
      "Iter 200  :1% fpr 0.0 , F1= 1.0 h= 0.55079 ; loss= [0.14792 0.00018 0.09146 0.14774] ;\n",
      "\t valid 1% fpr=, 0.6436 , valid F1= 0.82859 h_valid= 0.33863 ; valid_loss=, [0.85803 0.71059 0.09627 0.14744]\n",
      "0.0 1.0\n",
      "0.0 1.0\n",
      "0.0 1.0\n",
      "0.0 1.0\n",
      "0.0 1.0\n",
      "0.0 1.0\n",
      "0.0 1.0\n",
      "0.0 1.0\n",
      "0.0 1.0\n",
      "0.0 1.0\n",
      "[1.2391292e-30 9.4177562e-07 2.6730337e-25 ... 5.9974313e-17 2.4256302e-11\n",
      " 0.0000000e+00]\n",
      "Iter 210  :1% fpr 0.0 , F1= 1.0 h= 0.55347 ; loss= [0.14753 0.00016 0.0893  0.14737] ;\n",
      "\t valid 1% fpr=, 0.65144 , valid F1= 0.82869 h_valid= 0.33387 ; valid_loss=, [0.87545 0.72834 0.09493 0.14711]\n",
      "0.0 1.0\n",
      "0.0 1.0\n",
      "0.0 1.0\n",
      "0.0 1.0\n",
      "0.0 1.0\n",
      "0.0 1.0\n",
      "0.0 1.0\n",
      "0.0 1.0\n",
      "0.0 1.0\n",
      "0.0 1.0\n",
      "[7.0108016e-31 7.0303116e-07 5.4538909e-26 ... 3.8623776e-17 1.5047930e-11\n",
      " 0.0000000e+00]\n",
      "Iter 220  :1% fpr 0.0 , F1= 1.0 h= 0.55344 ; loss= [1.4716e-01 1.4000e-04 8.8550e-02 1.4702e-01] ;\n",
      "\t valid 1% fpr=, 0.61358 , valid F1= 0.83068 h_valid= 0.33777 ; valid_loss=, [0.87356 0.72675 0.0935  0.14681]\n",
      "0.0 1.0\n",
      "0.0 1.0\n",
      "0.0 1.0\n",
      "0.0 1.0\n",
      "0.0 1.0\n",
      "0.0 1.0\n",
      "0.0 1.0\n",
      "0.0 1.0\n",
      "0.0 1.0\n",
      "0.0 1.0\n",
      "[1.85484498e-31 1.10882425e-07 7.38729180e-27 ... 1.48179778e-17\n",
      " 5.28919573e-12 0.00000000e+00]\n",
      "Iter 230  :1% fpr 0.0 , F1= 1.0 h= 0.55413 ; loss= [1.4682e-01 1.3000e-04 8.5740e-02 1.4669e-01] ;\n",
      "\t valid 1% fpr=, 0.65927 , valid F1= 0.83181 h_valid= 0.33901 ; valid_loss=, [0.91226 0.76576 0.09193 0.1465 ]\n",
      "0.0 1.0\n",
      "0.0 1.0\n",
      "0.0 1.0\n",
      "0.0 1.0\n",
      "0.0 1.0\n",
      "0.0 1.0\n",
      "0.0 1.0\n",
      "0.0 1.0\n",
      "0.0 1.0\n",
      "0.0 1.0\n",
      "[1.1536606e-31 7.0308360e-08 1.8098228e-27 ... 9.6560457e-18 3.6377184e-12\n",
      " 0.0000000e+00]\n",
      "Iter 240  :1% fpr 0.0 , F1= 1.0 h= 0.54976 ; loss= [1.4650e-01 1.3000e-04 8.5470e-02 1.4637e-01] ;\n",
      "\t valid 1% fpr=, 0.62663 , valid F1= 0.83588 h_valid= 0.33814 ; valid_loss=, [0.90822 0.76197 0.09062 0.14624]\n",
      "0.0 1.0\n",
      "0.0 1.0\n",
      "0.0 1.0\n",
      "0.0 1.0\n",
      "0.0 1.0\n",
      "0.0 1.0\n",
      "0.0 1.0\n",
      "0.0 1.0\n",
      "0.0 1.0\n",
      "0.0 1.0\n",
      "[6.9532413e-32 2.7051696e-08 4.6019966e-28 ... 5.7446143e-18 1.9118637e-12\n",
      " 0.0000000e+00]\n",
      "Iter 250  :1% fpr 0.0 , F1= 1.0 h= 0.54865 ; loss= [1.4618e-01 1.2000e-04 8.2910e-02 1.4607e-01] ;\n",
      "\t valid 1% fpr=, 0.61488 , valid F1= 0.83624 h_valid= 0.34172 ; valid_loss=, [0.92054 0.77456 0.08915 0.14598]\n",
      "0.0 1.0\n",
      "0.0 1.0\n",
      "0.0 1.0\n",
      "0.0 1.0\n",
      "0.0 1.0\n",
      "0.0 1.0\n",
      "0.0 1.0\n",
      "0.0 1.0\n",
      "0.0 1.0\n",
      "0.0 1.0\n",
      "[3.6581514e-32 9.9787716e-09 1.2539665e-28 ... 3.5477917e-18 1.3026318e-12\n",
      " 0.0000000e+00]\n",
      "Iter 260  :1% fpr 0.0 , F1= 1.0 h= 0.54444 ; loss= [1.4588e-01 1.1000e-04 8.1420e-02 1.4577e-01] ;\n",
      "\t valid 1% fpr=, 0.61358 , valid F1= 0.83925 h_valid= 0.33945 ; valid_loss=, [0.92652 0.78081 0.08782 0.14571]\n",
      "0.0 1.0\n",
      "0.0 1.0\n",
      "0.0 1.0\n",
      "0.0 1.0\n",
      "0.0 1.0\n",
      "0.0 1.0\n",
      "0.0 1.0\n",
      "0.0 1.0\n",
      "0.0 1.0\n",
      "0.0 1.0\n",
      "[2.2631985e-32 3.5239474e-09 3.4239715e-29 ... 2.0954960e-18 6.7686850e-13\n",
      " 0.0000000e+00]\n",
      "Iter 270  :1% fpr 0.0 , F1= 1.0 h= 0.54246 ; loss= [1.4559e-01 1.1000e-04 7.9710e-02 1.4548e-01] ;\n",
      "\t valid 1% fpr=, 0.61749 , valid F1= 0.82923 h_valid= 0.33909 ; valid_loss=, [0.94464 0.79915 0.08681 0.14548]\n",
      "0.0 1.0\n",
      "0.0 1.0\n",
      "0.0 1.0\n",
      "0.0 1.0\n",
      "0.0 1.0\n",
      "0.0 1.0\n",
      "0.0 1.0\n",
      "0.0 1.0\n",
      "0.0 1.0\n",
      "0.0 1.0\n",
      "[1.4064853e-32 1.1695993e-09 1.0920900e-29 ... 1.3708670e-18 4.7484602e-13\n",
      " 0.0000000e+00]\n",
      "Iter 280  :1% fpr 0.0 , F1= 1.0 h= 0.53481 ; loss= [1.453e-01 1.000e-04 7.962e-02 1.452e-01] ;\n",
      "\t valid 1% fpr=, 0.60705 , valid F1= 0.83029 h_valid= 0.3402 ; valid_loss=, [0.95241 0.80718 0.08541 0.14522]\n",
      "0.0 1.0\n",
      "0.0 1.0\n",
      "0.0 1.0\n",
      "0.0 1.0\n",
      "0.0 1.0\n",
      "0.0 1.0\n",
      "0.0 1.0\n",
      "0.0 1.0\n",
      "0.0 1.0\n",
      "0.0 1.0\n",
      "[8.4028656e-33 3.6777392e-10 3.9186434e-30 ... 9.0458549e-19 3.5422766e-13\n",
      " 0.0000000e+00]\n",
      "Iter 290  :1% fpr 0.0 , F1= 1.0 h= 0.5349 ; loss= [1.4502e-01 1.0000e-04 7.7740e-02 1.4493e-01] ;\n",
      "\t valid 1% fpr=, 0.60313 , valid F1= 0.82947 h_valid= 0.34101 ; valid_loss=, [0.96169 0.81669 0.0843  0.14499]\n",
      "0.0 1.0\n",
      "0.0 1.0\n",
      "0.0 1.0\n",
      "0.0 1.0\n",
      "0.0 1.0\n",
      "0.0 1.0\n",
      "0.0 1.0\n",
      "0.0 1.0\n",
      "0.0 1.0\n",
      "0.0 1.0\n",
      "saving model to: ./results/dec/DEC_model_final.h5\n",
      "0 413 0 1.0\n",
      "1 75 0 0.9333333333333333\n",
      "2 675 0 1.0\n",
      "3 9 1 1.0\n",
      "4 420 1 0.7666666666666667\n",
      "5 1586 0 0.9974779319041615\n",
      "6 1796 0 0.7912026726057907\n",
      "7 932 1 0.7628755364806867\n",
      "8 0 0 nan\n",
      "9 1010 1 0.8722772277227723\n",
      "[0. 1.] [0 1]\n",
      "[0, 0, 0, 1, 1, 0, 0, 1, 0, 1]\n"
     ]
    },
    {
     "name": "stderr",
     "output_type": "stream",
     "text": [
      "/Users/dwright/anaconda2/envs/aind/lib/python3.6/site-packages/numpy/core/fromnumeric.py:2957: RuntimeWarning: Mean of empty slice.\n",
      "  out=out, **kwargs)\n",
      "/Users/dwright/anaconda2/envs/aind/lib/python3.6/site-packages/numpy/core/_methods.py:73: RuntimeWarning: invalid value encountered in true_divide\n",
      "  ret, rcount, out=ret, casting='unsafe', subok=False)\n"
     ]
    }
   ],
   "source": [
    "y_pred, metrics_dict = dec.clustering(x_train, np_utils.to_categorical(y_train), \\\n",
    "                                      (x_valid, np_utils.to_categorical(y_valid)), \\\n",
    "                                      pretrained_weights=dec_weights, maxiter=300)"
   ]
  },
  {
   "cell_type": "code",
   "execution_count": 9,
   "metadata": {
    "collapsed": false
   },
   "outputs": [
    {
     "data": {
      "image/png": "[encoded data removed]",
      "text/plain": [
       "<matplotlib.figure.Figure at 0x12957b400>"
      ]
     },
     "metadata": {},
     "output_type": "display_data"
    }
   ],
   "source": [
    "plt.plot(metrics_dict['iteration'], metrics_dict['train_f1'])\n",
    "plt.plot(metrics_dict['iteration'], metrics_dict['valid_f1'])\n",
    "plt.show()"
   ]
  },
  {
   "cell_type": "code",
   "execution_count": 10,
   "metadata": {
    "collapsed": false
   },
   "outputs": [
    {
     "data": {
      "image/png": "[encoded data removed]",
      "text/plain": [
       "<matplotlib.figure.Figure at 0x1292b39b0>"
      ]
     },
     "metadata": {},
     "output_type": "display_data"
    }
   ],
   "source": [
    "plt.plot(metrics_dict['iteration'], metrics_dict['train_fom'])\n",
    "plt.plot(metrics_dict['iteration'], metrics_dict['valid_fom'])\n",
    "plt.show()"
   ]
  },
  {
   "cell_type": "code",
   "execution_count": 11,
   "metadata": {
    "collapsed": false
   },
   "outputs": [
    {
     "data": {
      "image/png": "[encoded data removed]",
      "text/plain": [
       "<matplotlib.figure.Figure at 0x12987f390>"
      ]
     },
     "metadata": {},
     "output_type": "display_data"
    }
   ],
   "source": [
    "plt.plot(metrics_dict['iteration'], metrics_dict['train_h'])\n",
    "plt.plot(metrics_dict['iteration'], metrics_dict['valid_h'])\n",
    "plt.show()"
   ]
  },
  {
   "cell_type": "markdown",
   "metadata": {},
   "source": [
    "## First Vote Only"
   ]
  },
  {
   "cell_type": "code",
   "execution_count": 4,
   "metadata": {
    "collapsed": false
   },
   "outputs": [],
   "source": [
    "data = sio.loadmat('/Users/dwright/dev/zoo/machine_augmented_classification/data/snhunters/3pi_20x20_skew2_signPreserveNorm_volunteer_votes_first_only.mat')\n",
    "y_train  = np.squeeze(data['y']) == 'Yes'                                                                                       \n",
    "#y_valid  = np.squeeze(data['y_test']) == 'Yes'                                                                                   \n",
    "data = sio.loadmat('/Users/dwright/dev/zoo/machine_augmented_classification/data/snhunters/3pi_20x20_skew2_signPreserveNorm.mat')\n",
    "x_train = data['X']\n",
    "x_valid = data['testX']\n",
    "y_valid = np.squeeze(data['testy'])"
   ]
  },
  {
   "cell_type": "code",
   "execution_count": 5,
   "metadata": {
    "collapsed": false
   },
   "outputs": [
    {
     "ename": "NameError",
     "evalue": "name 'MultitaskDEC' is not defined",
     "output_type": "error",
     "traceback": [
      "\u001b[0;31m---------------------------------------------------------------------------\u001b[0m",
      "\u001b[0;31mNameError\u001b[0m                                 Traceback (most recent call last)",
      "\u001b[0;32m<ipython-input-5-b2684f8d460c>\u001b[0m in \u001b[0;36m<module>\u001b[0;34m()\u001b[0m\n\u001b[0;32m----> 1\u001b[0;31m \u001b[0mdec\u001b[0m \u001b[0;34m=\u001b[0m \u001b[0mMultitaskDEC\u001b[0m\u001b[0;34m(\u001b[0m\u001b[0mdims\u001b[0m\u001b[0;34m=\u001b[0m\u001b[0;34m[\u001b[0m\u001b[0mx_valid\u001b[0m\u001b[0;34m.\u001b[0m\u001b[0mshape\u001b[0m\u001b[0;34m[\u001b[0m\u001b[0;34m-\u001b[0m\u001b[0;36m1\u001b[0m\u001b[0;34m]\u001b[0m\u001b[0;34m,\u001b[0m \u001b[0;36m500\u001b[0m\u001b[0;34m,\u001b[0m \u001b[0;36m500\u001b[0m\u001b[0;34m,\u001b[0m \u001b[0;36m2000\u001b[0m\u001b[0;34m,\u001b[0m \u001b[0;36m10\u001b[0m\u001b[0;34m]\u001b[0m\u001b[0;34m,\u001b[0m                    \u001b[0mn_clusters\u001b[0m\u001b[0;34m=\u001b[0m\u001b[0mn_clusters\u001b[0m\u001b[0;34m,\u001b[0m \u001b[0mbatch_size\u001b[0m\u001b[0;34m=\u001b[0m\u001b[0mbatch_size\u001b[0m\u001b[0;34m)\u001b[0m\u001b[0;34m\u001b[0m\u001b[0m\n\u001b[0m\u001b[1;32m      2\u001b[0m dec.initialize_model(optimizer=SGD(lr=lr, momentum=momentum),\n\u001b[1;32m      3\u001b[0m                      \u001b[0mae_weights\u001b[0m\u001b[0;34m=\u001b[0m\u001b[0mae_weights\u001b[0m\u001b[0;34m,\u001b[0m\u001b[0;34m\u001b[0m\u001b[0m\n\u001b[1;32m      4\u001b[0m                      x=x_train)\n\u001b[1;32m      5\u001b[0m \u001b[0mdec\u001b[0m\u001b[0;34m.\u001b[0m\u001b[0mmodel\u001b[0m\u001b[0;34m.\u001b[0m\u001b[0mload_weights\u001b[0m\u001b[0;34m(\u001b[0m\u001b[0mdec_weights\u001b[0m\u001b[0;34m)\u001b[0m\u001b[0;34m\u001b[0m\u001b[0m\n",
      "\u001b[0;31mNameError\u001b[0m: name 'MultitaskDEC' is not defined"
     ]
    }
   ],
   "source": [
    "dec = MultitaskDEC(dims=[x_valid.shape[-1], 500, 500, 2000, 10], \\\n",
    "                   n_clusters=n_clusters, batch_size=batch_size)\n",
    "dec.initialize_model(optimizer=SGD(lr=lr, momentum=momentum),\n",
    "                     ae_weights=ae_weights,\n",
    "                     x=x_train)\n",
    "dec.model.load_weights(dec_weights)"
   ]
  },
  {
   "cell_type": "code",
   "execution_count": null,
   "metadata": {
    "collapsed": false,
    "scrolled": false
   },
   "outputs": [],
   "source": [
    "y_pred, metrics_dict = dec.clustering(x_train, np_utils.to_categorical(y_train), \\\n",
    "                                      (x_valid, np_utils.to_categorical(y_valid)), \\\n",
    "                                      pretrained_weights=dec_weights, maxiter=maxiter)"
   ]
  },
  {
   "cell_type": "code",
   "execution_count": 14,
   "metadata": {
    "collapsed": false
   },
   "outputs": [
    {
     "name": "stdout",
     "output_type": "stream",
     "text": [
      "0.7223326706428097\n"
     ]
    }
   ],
   "source": [
    "data = sio.loadmat('/Users/dwright/dev/zoo/machine_augmented_classification/data/snhunters/3pi_20x20_skew2_signPreserveNorm_volunteer_votes_first_only.mat')\n",
    "human_f1_benchmark = f1_score(y_valid, np.squeeze(data['y_test']) == 'Yes')\n",
    "print(human_f1_benchmark)"
   ]
  },
  {
   "cell_type": "code",
   "execution_count": null,
   "metadata": {
    "collapsed": false
   },
   "outputs": [],
   "source": [
    "plt.plot(metrics_dict['iteration'], metrics_dict['train_f1'])\n",
    "plt.plot(metrics_dict['iteration'], metrics_dict['valid_f1'])\n",
    "plt.plot(metrics_dict['iteration'], human_f1_benchmark*np.ones(np.array(metrics_dict['iteration']).shape), 'k--')\n",
    "plt.show()"
   ]
  },
  {
   "cell_type": "code",
   "execution_count": null,
   "metadata": {
    "collapsed": false
   },
   "outputs": [],
   "source": [
    "plt.plot(metrics_dict['iteration'], metrics_dict['train_fom'])\n",
    "plt.plot(metrics_dict['iteration'], metrics_dict['valid_fom'])\n",
    "plt.show()"
   ]
  },
  {
   "cell_type": "code",
   "execution_count": null,
   "metadata": {
    "collapsed": false
   },
   "outputs": [],
   "source": [
    "plt.plot(metrics_dict['iteration'], metrics_dict['train_h'])\n",
    "plt.plot(metrics_dict['iteration'], metrics_dict['valid_h'])\n",
    "plt.show()"
   ]
  },
  {
   "cell_type": "markdown",
   "metadata": {},
   "source": [
    "## Vote Fraction Analysis"
   ]
  },
  {
   "cell_type": "code",
   "execution_count": 15,
   "metadata": {
    "collapsed": false
   },
   "outputs": [],
   "source": [
    "vote_fraction_dict = pickle.load(open('/Users/dwright/dev/zoo/data/supernova-hunters-vote-fraction-dict.pkl', 'rb'))"
   ]
  },
  {
   "cell_type": "code",
   "execution_count": 16,
   "metadata": {
    "collapsed": false
   },
   "outputs": [
    {
     "name": "stdout",
     "output_type": "stream",
     "text": [
      "1170747061421652300_56452.478_26471976_55_diff\n",
      "['1001246931044034000_56559.503_28601931_52_diff', '1001246931044034000_56559.515_28603056_68_diff', '1001246931044034000_56559.527_28604731_58_diff', '1001246931044034000_56559.540_28606628_57_diff']\n"
     ]
    }
   ],
   "source": [
    "train_files = []\n",
    "for f in data['train_files']:\n",
    "  train_files.append(f.strip().replace('.fits',''))\n",
    "print(train_files[0])\n",
    "#train_files = set(train_files)\n",
    "print(list(set([i for i in train_files if train_files.count(i)>1])))"
   ]
  },
  {
   "cell_type": "code",
   "execution_count": 17,
   "metadata": {
    "collapsed": false
   },
   "outputs": [
    {
     "name": "stdout",
     "output_type": "stream",
     "text": [
      "1140125671321051200_56734.594_31357137_58_diff\n",
      "['1001246931044034000_56569.500_28727063_116_diff', '1001246931044034000_56569.512_28729009_121_diff', '1013335101303600300_56578.536_28832078_27_diff', '1013335101303600300_56578.525_28830506_29_diff']\n"
     ]
    }
   ],
   "source": [
    "valid_files = []\n",
    "for f in data['test_files']:\n",
    "  valid_files.append(f.strip().replace('.fits',''))\n",
    "print(valid_files[0])\n",
    "#train_files = set(train_files)\n",
    "print(list(set([i for i in valid_files if valid_files.count(i)>1])))"
   ]
  },
  {
   "cell_type": "code",
   "execution_count": 18,
   "metadata": {
    "collapsed": false
   },
   "outputs": [
    {
     "name": "stdout",
     "output_type": "stream",
     "text": [
      "0.03125\n",
      "0.6190476190476191\n"
     ]
    }
   ],
   "source": [
    "vote_fractions_train = []\n",
    "vote_fractions_valid = []\n",
    "seen = []\n",
    "for diff in train_files:\n",
    "  vote_fractions_train.append(vote_fraction_dict[diff])\n",
    "  seen.append(diff)\n",
    "for diff in valid_files:\n",
    "  vote_fractions_valid.append(vote_fraction_dict[diff])\n",
    "print(vote_fractions_train[0])\n",
    "print(vote_fractions_valid[0])\n",
    "vote_fractions_train = np.array(vote_fractions_train)\n",
    "vote_fractions_valid = np.array(vote_fractions_valid)"
   ]
  },
  {
   "cell_type": "code",
   "execution_count": 19,
   "metadata": {
    "collapsed": false
   },
   "outputs": [
    {
     "data": {
      "image/png": "[encoded data removed]",
      "text/plain": [
       "<matplotlib.figure.Figure at 0x11a8d9630>"
      ]
     },
     "metadata": {},
     "output_type": "display_data"
    }
   ],
   "source": [
    "data = sio.loadmat('/Users/dwright/dev/zoo/machine_augmented_classification/data/snhunters/3pi_20x20_skew2_signPreserveNorm.mat')\n",
    "y_train_true = np.squeeze(data['y'])\n",
    "bins = [x for x in np.arange(0,1.04,0.04)]\n",
    "plt.hist(vote_fractions_train[np.where(y_train_true==0)], alpha=0.5)\n",
    "plt.hist(vote_fractions_train[np.where(y_train_true==1)], alpha=0.5)\n",
    "plt.show()"
   ]
  },
  {
   "cell_type": "code",
   "execution_count": 20,
   "metadata": {
    "collapsed": true
   },
   "outputs": [],
   "source": [
    "y_train_vote_fractions = vote_fractions_train > 0.5\n",
    "y_valid_vote_fractions = vote_fractions_valid > 0.5"
   ]
  },
  {
   "cell_type": "code",
   "execution_count": 21,
   "metadata": {
    "collapsed": false
   },
   "outputs": [],
   "source": [
    "human_vote_fraction_benchmark = f1_score(y_valid, y_valid_vote_fractions)\n",
    "unavoidable_bias = 1 - f1_score(y_train, y_train_vote_fractions)"
   ]
  },
  {
   "cell_type": "code",
   "execution_count": 22,
   "metadata": {
    "collapsed": false
   },
   "outputs": [
    {
     "data": {
      "text/plain": [
       "(1.0,\n",
       " 2,\n",
       " array([0.        , 0.03514862, 1.        ]),\n",
       " array([0.        , 0.73472042, 1.        ]))"
      ]
     },
     "execution_count": 22,
     "metadata": {},
     "output_type": "execute_result"
    }
   ],
   "source": [
    "one_percent_fpr(y_train, y_train_vote_fractions, 0.01)"
   ]
  },
  {
   "cell_type": "code",
   "execution_count": 23,
   "metadata": {
    "collapsed": true
   },
   "outputs": [],
   "source": [
    "dec = MultitaskDEC(dims=[x_valid.shape[-1], 500, 500, 2000, 10], \\\n",
    "                   n_clusters=n_clusters, batch_size=batch_size)\n",
    "dec.initialize_model(optimizer=SGD(lr=lr, momentum=momentum),\n",
    "                     ae_weights=ae_weights,\n",
    "                     x=x_train)\n",
    "dec.model.load_weights(dec_weights)"
   ]
  },
  {
   "cell_type": "code",
   "execution_count": 24,
   "metadata": {
    "collapsed": true
   },
   "outputs": [],
   "source": [
    "cluster_centres = get_cluster_centres(dec)\n",
    "labels = [str(i) for i in range(n_clusters)]"
   ]
  },
  {
   "cell_type": "code",
   "execution_count": 25,
   "metadata": {
    "collapsed": false
   },
   "outputs": [
    {
     "data": {
      "image/png": "[encoded data removed]",
      "text/plain": [
       "<matplotlib.figure.Figure at 0x11fad3b70>"
      ]
     },
     "metadata": {},
     "output_type": "display_data"
    }
   ],
   "source": [
    "pca_plot(dec.encoder, x_train, cluster_centres, y=y_train, labels=labels, lcolours=[lcolours[0], lcolours[1]])"
   ]
  },
  {
   "cell_type": "code",
   "execution_count": 26,
   "metadata": {
    "collapsed": false
   },
   "outputs": [
    {
     "data": {
      "image/png": "[encoded data removed]",
      "text/plain": [
       "<matplotlib.figure.Figure at 0x11fd153c8>"
      ]
     },
     "metadata": {},
     "output_type": "display_data"
    }
   ],
   "source": [
    "pca_plot(dec.encoder, x_valid, cluster_centres, y=y_valid, labels=labels, lcolours=[lcolours[0], lcolours[1]])"
   ]
  },
  {
   "cell_type": "code",
   "execution_count": 27,
   "metadata": {
    "collapsed": false
   },
   "outputs": [],
   "source": [
    "best_mapping_benchmark, _ = get_best_mapping(y_valid, dec.predict_clusters(x_valid), n_clusters, calc_f1_score)"
   ]
  },
  {
   "cell_type": "code",
   "execution_count": 28,
   "metadata": {
    "collapsed": false,
    "scrolled": false
   },
   "outputs": [
    {
     "name": "stdout",
     "output_type": "stream",
     "text": [
      "Update interval 10\n",
      "Save interval 135.078125\n",
      "0 117 0 1.0\n",
      "1 328 0 0.7652439024390244\n",
      "2 710 0 0.7507042253521127\n",
      "3 1069 0 0.7567820392890552\n",
      "4 365 0 0.6876712328767123\n",
      "5 1673 0 0.6210400478182905\n",
      "6 1460 0 0.8397260273972603\n",
      "7 690 0 0.6898550724637681\n",
      "8 2 0 1.0\n",
      "9 502 0 0.7071713147410359\n",
      "[0. 1.] [0]\n",
      "[0, 0, 0, 0, 0, 1, 0, 0, 0, 0]\n",
      "5\n",
      "Iter 0  :1% fpr 0.98761 , F1= 0.23834 , F1c= 0.35921 h= 0.03551 nmi= 0.01922 ; loss= [0 0 0] ;\n",
      " v 1% fpr=, 0.98303 , vF1= 0.23321 , vF1c= 0.35969 vh= 0.0398 vnmi= 0.02271 ; vloss=, [0.70526 0.70526 0.0681  0.30365]\n",
      "saving model:  [inf, inf, inf]  ->  [0.70526 0.70526 0.0681  0.30365]\n",
      "1.0 0.0 0.0\n",
      "saving model to: ./results/dec/DEC_model_0.h5\n",
      "1.0 0.0 0.0\n",
      "1.0 0.0 0.0\n",
      "1.0 0.0 0.0\n",
      "1.0 0.0 0.0\n",
      "1.0 0.0 0.0\n",
      "1.0 0.0 0.0\n",
      "1.0 0.0 0.0\n",
      "1.0 0.0 0.0\n",
      "1.0 0.0 0.0\n"
     ]
    },
    {
     "name": "stderr",
     "output_type": "stream",
     "text": [
      "/Users/dwright/anaconda2/envs/aind/lib/python3.6/site-packages/numpy/core/fromnumeric.py:2957: RuntimeWarning: Mean of empty slice.\n",
      "  out=out, **kwargs)\n",
      "/Users/dwright/anaconda2/envs/aind/lib/python3.6/site-packages/numpy/core/_methods.py:73: RuntimeWarning: invalid value encountered in true_divide\n",
      "  ret, rcount, out=ret, casting='unsafe', subok=False)\n"
     ]
    },
    {
     "name": "stdout",
     "output_type": "stream",
     "text": [
      "Iter 10  :1% fpr 0.83037 , F1= 0.80105 , F1c= 0.82002 h= 0.53264 nmi= 0.43654 ; loss= [0.32047 0.32047 3.03496 0.43837] ;\n",
      " v 1% fpr=, 0.61097 , vF1= 0.71053 , vF1c= 0.78003 vh= 0.43307 vnmi= 0.35977 ; vloss=, [0.38736 0.38736 0.09422 0.41651]\n",
      "saving model:  [0.70526 0.70526 0.0681  0.30365]  ->  [0.38736 0.38736 0.09422 0.41651]\n",
      "1.0 0.0 0.0\n",
      "1.0 0.0 0.0\n",
      "1.0 0.0 0.0\n",
      "1.0 0.0 0.0\n",
      "1.0 0.0 0.0\n",
      "1.0 0.0 0.0\n",
      "1.0 0.0 0.0\n",
      "1.0 0.0 0.0\n",
      "1.0 0.0 0.0\n",
      "1.0 0.0 0.0\n",
      "Iter 20  :1% fpr 0.49381 , F1= 0.90181 , F1c= 0.88565 h= 0.66855 nmi= 0.58348 ; loss= [0.1829  0.1829  0.30517 0.42696] ;\n",
      " v 1% fpr=, 0.87076 , vF1= 0.77571 , vF1c= 0.79238 vh= 0.40895 vnmi= 0.35739 ; vloss=, [0.41563 0.41563 0.09074 0.41559]\n",
      "1.0 0.0 0.0\n",
      "1.0 0.0 0.0\n",
      "1.0 0.0 0.0\n",
      "1.0 0.0 0.0\n",
      "1.0 0.0 0.0\n",
      "1.0 0.0 0.0\n",
      "1.0 0.0 0.0\n",
      "1.0 0.0 0.0\n",
      "1.0 0.0 0.0\n",
      "1.0 0.0 0.0\n",
      "Iter 30  :1% fpr 0.37641 , F1= 0.92245 , F1c= 0.91774 h= 0.76134 nmi= 0.65841 ; loss= [0.12604 0.12604 0.25946 0.41477] ;\n",
      " v 1% fpr=, 0.71932 , vF1= 0.76369 , vF1c= 0.76879 vh= 0.39686 vnmi= 0.33684 ; vloss=, [0.466   0.466   0.09116 0.36839]\n",
      "1.0 0.0 0.0\n",
      "1.0 0.0 0.0\n",
      "1.0 0.0 0.0\n",
      "1.0 0.0 0.0\n",
      "1.0 0.0 0.0\n",
      "1.0 0.0 0.0\n",
      "1.0 0.0 0.0\n",
      "1.0 0.0 0.0\n",
      "1.0 0.0 0.0\n",
      "1.0 0.0 0.0\n",
      "Iter 40  :1% fpr 0.68767 , F1= 0.88586 , F1c= 0.89409 h= 0.70647 nmi= 0.61557 ; loss= [0.19375 0.19375 0.46405 0.38657] ;\n",
      " v 1% fpr=, 0.86554 , vF1= 0.76822 , vF1c= 0.76943 vh= 0.36837 vnmi= 0.33143 ; vloss=, [0.47003 0.47003 0.07964 0.37187]\n",
      "1.0 0.0 0.0\n",
      "1.0 0.0 0.0\n",
      "1.0 0.0 0.0\n",
      "1.0 0.0 0.0\n",
      "1.0 0.0 0.0\n",
      "1.0 0.0 0.0\n",
      "1.0 0.0 0.0\n",
      "1.0 0.0 0.0\n",
      "1.0 0.0 0.0\n",
      "1.0 0.0 0.0\n",
      "saving model to: ./results/dec/DEC_model_final.h5\n",
      "0 1 1 1.0\n",
      "1 0 0 nan\n",
      "2 21 1 0.9523809523809523\n",
      "3 0 0 nan\n",
      "4 4 1 1.0\n",
      "5 5370 0 0.9299813780260707\n",
      "6 1333 1 0.9654913728432108\n",
      "7 0 0 nan\n",
      "8 3 1 1.0\n",
      "9 184 1 0.9021739130434783\n",
      "[0. 1.] [0 1]\n",
      "[1, 0, 1, 0, 1, 0, 1, 0, 1, 1]\n"
     ]
    }
   ],
   "source": [
    "y_pred, metrics_dict = dec.clustering(x_train, np_utils.to_categorical(y_train_vote_fractions), \\\n",
    "                                      (x_valid, np_utils.to_categorical(y_valid)), \\\n",
    "                                      pretrained_weights=dec_weights, maxiter=maxiter, \\\n",
    "                                      alpha=K.variable(1.0), beta=K.variable(0.0), gamma=K.variable(0.0),  \\\n",
    "                                      loss_weight_decay=False, update_interval=10)"
   ]
  },
  {
   "cell_type": "code",
   "execution_count": 28,
   "metadata": {
    "collapsed": false
   },
   "outputs": [
    {
     "name": "stdout",
     "output_type": "stream",
     "text": [
      "0.4991854024112088\n"
     ]
    }
   ],
   "source": [
    "all_ones_benchmark = f1_score(y_valid, np.ones(y_valid.shape))\n",
    "print(all_ones_benchmark)"
   ]
  },
  {
   "cell_type": "code",
   "execution_count": 29,
   "metadata": {
    "collapsed": true
   },
   "outputs": [],
   "source": [
    "avoidable_bias = (1 - metrics_dict['train_f1'][-1]) - unavoidable_bias\n",
    "bias = unavoidable_bias + avoidable_bias"
   ]
  },
  {
   "cell_type": "code",
   "execution_count": 30,
   "metadata": {
    "collapsed": false
   },
   "outputs": [
    {
     "name": "stderr",
     "output_type": "stream",
     "text": [
      "/Users/dwright/anaconda2/envs/aind/lib/python3.6/site-packages/matplotlib/axes/_axes.py:545: UserWarning: No labelled objects found. Use label='...' kwarg on individual plots.\n",
      "  warnings.warn(\"No labelled objects found. \"\n"
     ]
    },
    {
     "data": {
      "image/png": "[encoded data removed]",
      "text/plain": [
       "<matplotlib.figure.Figure at 0x12715f358>"
      ]
     },
     "metadata": {},
     "output_type": "display_data"
    }
   ],
   "source": [
    "fig = plt.figure()\n",
    "ax1 = fig.add_subplot(111)\n",
    "ax1.plot(metrics_dict['iteration'], metrics_dict['train_f1'], label='train')\n",
    "ax1.plot(metrics_dict['iteration'], metrics_dict['valid_f1'], label='validation')\n",
    "ax1.set_xlim(0,metrics_dict['iteration'][-1])\n",
    "ax1.set_ylim(-0.01,1.01)\n",
    "ax1.set_xlabel('iteration')\n",
    "ax1.set_ylabel('f1 score')\n",
    "\n",
    "ax2 = fig.add_subplot(111, sharex=ax1, frameon=False)\n",
    "ax2.yaxis.tick_right()\n",
    "ax2.yaxis.set_label_position(\"right\")\n",
    "ax2.plot(metrics_dict['iteration'], human_f1_benchmark*np.ones(np.array(metrics_dict['iteration']).shape), 'k--')\n",
    "ax2.plot(metrics_dict['iteration'], human_vote_fraction_benchmark*np.ones(np.array(metrics_dict['iteration']).shape), 'k--')\n",
    "ax2.plot(metrics_dict['iteration'], all_ones_benchmark*np.ones(np.array(metrics_dict['iteration']).shape), 'k--')\n",
    "ax2.set_xlim(0,metrics_dict['iteration'][-1])\n",
    "ax2.set_ylim(-0.01,1.01)\n",
    "ax2.set_yticks([all_ones_benchmark, human_f1_benchmark, human_vote_fraction_benchmark])\n",
    "ax2.set_yticklabels(['all ones', 'single volunteer', 'vote fractions'])\n",
    "plt.legend(loc='lower center')\n",
    "plt.show()"
   ]
  },
  {
   "cell_type": "code",
   "execution_count": 31,
   "metadata": {
    "collapsed": false
   },
   "outputs": [
    {
     "name": "stderr",
     "output_type": "stream",
     "text": [
      "/Users/dwright/anaconda2/envs/aind/lib/python3.6/site-packages/matplotlib/axes/_axes.py:545: UserWarning: No labelled objects found. Use label='...' kwarg on individual plots.\n",
      "  warnings.warn(\"No labelled objects found. \"\n"
     ]
    },
    {
     "data": {
      "image/png": "[encoded data removed]",
      "text/plain": [
       "<matplotlib.figure.Figure at 0x1272b32b0>"
      ]
     },
     "metadata": {},
     "output_type": "display_data"
    }
   ],
   "source": [
    "fig = plt.figure()\n",
    "ax1 = fig.add_subplot(111)\n",
    "ax1.plot(metrics_dict['iteration'], metrics_dict['train_f1c'], label='train')\n",
    "ax1.plot(metrics_dict['iteration'], metrics_dict['valid_f1c'], label='validation')\n",
    "ax1.set_xlim(0,metrics_dict['iteration'][-1])\n",
    "ax1.set_ylim(-0.01,1.01)\n",
    "ax1.set_xlabel('iteration')\n",
    "ax1.set_ylabel('clustering f1 score')\n",
    "\n",
    "ax2 = fig.add_subplot(111, sharex=ax1, frameon=False)\n",
    "ax2.yaxis.tick_right()\n",
    "ax2.yaxis.set_label_position(\"right\")\n",
    "ax2.plot(metrics_dict['iteration'], best_mapping_benchmark*np.ones(np.array(metrics_dict['iteration']).shape), 'k--')\n",
    "ax2.set_xlim(0,metrics_dict['iteration'][-1])\n",
    "ax2.set_ylim(-0.01,1.01)\n",
    "ax2.set_yticks([best_mapping_benchmark])\n",
    "ax2.set_yticklabels(['best mapping'])\n",
    "plt.legend(loc='lower center')\n",
    "plt.show()"
   ]
  },
  {
   "cell_type": "code",
   "execution_count": 32,
   "metadata": {
    "collapsed": false
   },
   "outputs": [
    {
     "data": {
      "image/png": "[encoded data removed]",
      "text/plain": [
       "<matplotlib.figure.Figure at 0x1271517f0>"
      ]
     },
     "metadata": {},
     "output_type": "display_data"
    }
   ],
   "source": [
    "plt.plot(metrics_dict['iteration'], metrics_dict['train_fom'], label='train')\n",
    "plt.plot(metrics_dict['iteration'], metrics_dict['valid_fom'], label='validation')\n",
    "plt.xlim(0,metrics_dict['iteration'][-1])\n",
    "plt.ylim(-0.01,1.01)\n",
    "plt.xlabel('iteration')\n",
    "plt.ylabel('MDR at fixed 1% FPR')\n",
    "plt.legend(loc='lower left')\n",
    "plt.show()"
   ]
  },
  {
   "cell_type": "code",
   "execution_count": 33,
   "metadata": {
    "collapsed": false
   },
   "outputs": [
    {
     "data": {
      "image/png": "[encoded data removed]",
      "text/plain": [
       "<matplotlib.figure.Figure at 0x1278b5b38>"
      ]
     },
     "metadata": {},
     "output_type": "display_data"
    }
   ],
   "source": [
    "plt.plot(metrics_dict['iteration'], metrics_dict['train_h'], label='train')\n",
    "plt.plot(metrics_dict['iteration'], metrics_dict['valid_h'], label='validation')\n",
    "plt.xlim(0,metrics_dict['iteration'][-1])\n",
    "plt.ylim(-0.01,1.01)\n",
    "plt.xlabel('iteration')\n",
    "plt.ylabel('homogeneity')\n",
    "plt.legend(loc='lower center')\n",
    "plt.show()"
   ]
  },
  {
   "cell_type": "code",
   "execution_count": 34,
   "metadata": {
    "collapsed": false
   },
   "outputs": [
    {
     "data": {
      "image/png": "[encoded data removed]",
      "text/plain": [
       "<matplotlib.figure.Figure at 0x1291602e8>"
      ]
     },
     "metadata": {},
     "output_type": "display_data"
    }
   ],
   "source": [
    "plt.plot(metrics_dict['iteration'], metrics_dict['train_nmi'], label='train')\n",
    "plt.plot(metrics_dict['iteration'], metrics_dict['valid_nmi'], label='validation')\n",
    "plt.xlim(0,metrics_dict['iteration'][-1])\n",
    "plt.ylim(-0.01,1.01)\n",
    "plt.xlabel('iteration')\n",
    "plt.ylabel('nmi')\n",
    "plt.legend(loc='lower center')\n",
    "plt.show()"
   ]
  },
  {
   "cell_type": "code",
   "execution_count": 35,
   "metadata": {
    "collapsed": false
   },
   "outputs": [
    {
     "name": "stdout",
     "output_type": "stream",
     "text": [
      "[[ 1.1306739  -1.655289    2.0733926  -2.3765278  -0.875512    1.9738472\n",
      "  -1.9629846   0.24659044  2.082265    2.3592186 ]\n",
      " [-1.7717493   2.5832264  -1.7944757   2.6582658   2.7475598   0.40123937\n",
      "   3.2175567   1.985381    1.1694818   1.1405479 ]\n",
      " [-1.5901926  -1.0920275  -2.9530172   3.5749907   2.5699525  -1.266001\n",
      "   3.0694034   0.74658495 -0.5741602   3.4941716 ]\n",
      " [-2.4317276   7.411134    0.59735537  2.326586    3.2154996   2.17575\n",
      "   3.3579617   3.6148932   2.9893134  -2.4211373 ]\n",
      " [-1.4621476   4.1510706   3.141893   -0.25153607  0.15950537  1.153616\n",
      "  -0.19475055  1.2431815   1.7099178  -3.0265062 ]\n",
      " [ 0.8187018  -6.211489   -5.2273073   2.212052    1.2575694  -3.58559\n",
      "   1.3153456  -1.8189073  -4.356935    2.90652   ]\n",
      " [ 2.5579736  -5.4745636   1.3056866  -4.925394   -4.5113916  -1.3146411\n",
      "  -4.891727   -3.172585   -3.0816793  -2.35075   ]\n",
      " [-0.37379152  1.1287268   5.008456   -2.7566051  -2.7947562   1.2843289\n",
      "  -3.0676463  -0.17278717  1.0935912  -2.9005346 ]\n",
      " [ 2.3441522   2.1636708  -1.1633883   0.26260337 -0.27390644  1.6194276\n",
      "  -1.5403714  -2.099812    1.6956823   1.8605603 ]\n",
      " [ 0.54670984 -2.395984   -1.4826187  -1.2510961  -0.8984634  -1.3181908\n",
      "  -1.0638298  -1.2410568  -2.4153452  -0.984634  ]]\n"
     ]
    }
   ],
   "source": [
    "cluster_centres = get_cluster_centres(dec)\n",
    "print(cluster_centres)\n",
    "labels = [str(i) for i in range(n_clusters)]"
   ]
  },
  {
   "cell_type": "code",
   "execution_count": 36,
   "metadata": {
    "collapsed": false
   },
   "outputs": [
    {
     "data": {
      "image/png": "[encoded data removed]",
      "text/plain": [
       "<matplotlib.figure.Figure at 0x123caa9b0>"
      ]
     },
     "metadata": {},
     "output_type": "display_data"
    }
   ],
   "source": [
    "pca_plot(dec.encoder, x_train, cluster_centres, y=y_train, labels=labels, lcolours=[lcolours[0], lcolours[1]])"
   ]
  },
  {
   "cell_type": "code",
   "execution_count": 37,
   "metadata": {
    "collapsed": false
   },
   "outputs": [
    {
     "data": {
      "image/png": "[encoded data removed]",
      "text/plain": [
       "<matplotlib.figure.Figure at 0x12723fd68>"
      ]
     },
     "metadata": {},
     "output_type": "display_data"
    }
   ],
   "source": [
    "pca_plot(dec.encoder, x_valid, cluster_centres, y=y_valid, labels=labels, lcolours=[lcolours[0], lcolours[1]])"
   ]
  },
  {
   "cell_type": "code",
   "execution_count": 38,
   "metadata": {
    "collapsed": true
   },
   "outputs": [],
   "source": [
    "x_all = np.concatenate((x_train, x_valid))\n",
    "y_all = np.concatenate((y_train, y_valid))"
   ]
  },
  {
   "cell_type": "code",
   "execution_count": 153,
   "metadata": {
    "collapsed": true
   },
   "outputs": [],
   "source": [
    "class ReDEC(DEC):\n",
    "    def clustering(self, train_data, valid_data=None,\n",
    "                   tol=1e-3,\n",
    "                   update_interval=140,\n",
    "                   maxiter=2e4,\n",
    "                   pretrained_weights=None,\n",
    "                   save_dir='./results/dec'):\n",
    "        x = np.concatenate((x_train, x_valid))\n",
    "        print('Update interval', update_interval)\n",
    "        save_interval = x.shape[0] / self.batch_size * 5  # 5 epochs\n",
    "        print('Save interval', save_interval)\n",
    "\n",
    "        frame_index = 1\n",
    "\n",
    "        import csv, os\n",
    "        if not os.path.exists(save_dir):\n",
    "            os.makedirs(save_dir)\n",
    "          \n",
    "        metrics_dict = {'iteration':[],\n",
    "                        'train_f1c':[],\n",
    "                        'train_h':[],\n",
    "                        'train_nmi':[],\n",
    "                        'valid_f1c':[],\n",
    "                        'valid_h':[],\n",
    "                        'valid_nmi':[]\n",
    "                        }\n",
    "        loss = 0\n",
    "        index = 0\n",
    "        for ite in range(int(maxiter)):\n",
    "            if self.video_path:\n",
    "                self.model.save_weights(self.video_path+'/%s_%06d_weights.h5'%('clustering', frame_index))\n",
    "                frame_index += 1\n",
    "\n",
    "            if ite % update_interval == 0:\n",
    "                q = self.model.predict(x, verbose=0)\n",
    "                p = self.target_distribution(q)  # update the auxiliary target distribution p\n",
    "\n",
    "                # evaluate the clustering performance\n",
    "                y_pred = q.argmax(1)\n",
    "                if ite > 0:\n",
    "                  delta_label = np.sum(y_pred != y_pred_last).astype(np.float32) / y_pred.shape[0]\n",
    "                y_pred_last = y_pred\n",
    "                if valid_data is not None:\n",
    "                  loss = np.round(loss, 5)\n",
    "                  train_q = q = self.model.predict(train_data[0], verbose=0)\n",
    "                  train_p = self.target_distribution(train_q)\n",
    "                  c_map, _, _ = \\\n",
    "                    get_cluster_to_label_mapping_safe(train_data[1], train_q.argmax(1), n_classes, n_clusters, toprint=False)\n",
    "                  train_cluster_pred = self.model.predict(train_data[0], verbose=0).argmax(1)\n",
    "                  f1c = np.round(calc_f1_score(train_data[1], train_cluster_pred, c_map), 5)\n",
    "                  h = np.round(homogeneity_score(train_data[1], train_cluster_pred), 5)\n",
    "                  nmi = np.round(normalized_mutual_info_score(train_data[1], train_cluster_pred), 5)\n",
    "                    \n",
    "                  valid_q = self.model.predict(valid_data[0], verbose=0)\n",
    "                  valid_p = self.target_distribution(valid_q)\n",
    "                  val_loss = np.round(self.model.test_on_batch(valid_data[0], valid_p), 5)\n",
    "                  valid_cluster_pred = valid_q.argmax(1)\n",
    "                  f1c_valid = np.round(calc_f1_score(valid_data[1], valid_cluster_pred, c_map), 5)\n",
    "                  h_valid = np.round(homogeneity_score(valid_data[1], valid_cluster_pred), 5)\n",
    "                  nmi_valid = np.round(normalized_mutual_info_score(valid_data[1], valid_cluster_pred), 5)\n",
    "\n",
    "                  print('Iter', ite,', F1c=', f1c, 'h=', h, 'nmi=', nmi, '; loss=', loss, ';', \\\n",
    "                        'vF1c=', f1c_valid,'vh=', h_valid, 'vnmi=', nmi_valid, '; vloss=,', val_loss)\n",
    "                  metrics_dict['iteration'].append(ite)\n",
    "                  metrics_dict['train_f1c'].append(f1c)\n",
    "                  metrics_dict['train_h'].append(h)\n",
    "                  metrics_dict['train_nmi'].append(nmi)\n",
    "                  metrics_dict['valid_f1c'].append(f1c_valid)\n",
    "                  metrics_dict['valid_h'].append(h_valid)\n",
    "                  metrics_dict['valid_nmi'].append(nmi_valid)\n",
    "                # check stop criterion\n",
    "                if ite > 0 and delta_label < tol:\n",
    "                    print('delta_label ', delta_label, '< tol ', tol)\n",
    "                    print('Reached tolerance threshold. Stopping training.')\n",
    "                    break\n",
    "\n",
    "            # train on batch\n",
    "            if (index + 1) * self.batch_size > x.shape[0]:\n",
    "                loss = self.model.train_on_batch(x=x[index * self.batch_size::],\n",
    "                                                 y=p[index * self.batch_size::])\n",
    "                index = 0\n",
    "            else:\n",
    "                loss = self.model.train_on_batch(x=x[index * self.batch_size:(index + 1) * self.batch_size],\n",
    "                                                 y=p[index * self.batch_size:(index + 1) * self.batch_size])\n",
    "                index += 1\n",
    "\n",
    "            # save intermediate model\n",
    "            if ite % save_interval == 0:\n",
    "                # save IDEC model checkpoints\n",
    "                print('saving model to:', save_dir + '/DEC_model_' + str(ite) + '.h5')\n",
    "                self.model.save_weights(save_dir + '/DEC_model_' + str(ite) + '.h5')\n",
    "\n",
    "            ite += 1\n",
    "\n",
    "        # save the trained model\n",
    "        print('saving model to:', save_dir + '/DEC_model_final.h5')\n",
    "        self.model.save_weights(save_dir + '/DEC_model_final.h5')\n",
    "\n",
    "        return y_pred, metrics_dict"
   ]
  },
  {
   "cell_type": "code",
   "execution_count": 154,
   "metadata": {
    "collapsed": true
   },
   "outputs": [],
   "source": [
    "redec = ReDEC(dims=[x_valid.shape[-1], 500, 500, 2000, 10], \\\n",
    "                   n_clusters=n_clusters, batch_size=batch_size)\n",
    "redec.initialize_model(optimizer=SGD(lr=lr, momentum=momentum),\n",
    "                     ae_weights=ae_weights,\n",
    "                     x=x_train)\n",
    "redec.model.load_weights(dec_weights)"
   ]
  },
  {
   "cell_type": "code",
   "execution_count": 155,
   "metadata": {
    "collapsed": false
   },
   "outputs": [
    {
     "name": "stdout",
     "output_type": "stream",
     "text": [
      "__________________________________________________________________________________________________\n",
      "Layer (type)                    Output Shape         Param #     Connected to                     \n",
      "==================================================================================================\n",
      "input_1 (InputLayer)            (None, 400)          0                                            \n",
      "__________________________________________________________________________________________________\n",
      "model_2 (Model)                 (None, 10)           1473010     input_1[0][0]                    \n",
      "__________________________________________________________________________________________________\n",
      "clustering (ClusteringLayer)    (None, 10)           100         model_2[1][0]                    \n",
      "__________________________________________________________________________________________________\n",
      "dense_1 (Dense)                 (None, 2)            22          clustering[0][0]                 \n",
      "__________________________________________________________________________________________________\n",
      "model_1 (Model)                 (None, 400)          2946410     input_1[0][0]                    \n",
      "==================================================================================================\n",
      "Total params: 2,946,532\n",
      "Trainable params: 2,946,532\n",
      "Non-trainable params: 0\n",
      "__________________________________________________________________________________________________\n"
     ]
    }
   ],
   "source": [
    "dec.model.summary()"
   ]
  },
  {
   "cell_type": "code",
   "execution_count": 156,
   "metadata": {
    "collapsed": false
   },
   "outputs": [
    {
     "data": {
      "text/plain": [
       "<keras.engine.training.Model at 0x12117d898>"
      ]
     },
     "execution_count": 156,
     "metadata": {},
     "output_type": "execute_result"
    }
   ],
   "source": [
    "dec.model.layers[1]"
   ]
  },
  {
   "cell_type": "code",
   "execution_count": 157,
   "metadata": {
    "collapsed": false
   },
   "outputs": [],
   "source": [
    "for i in range(1,len(dec.model.layers[1].layers)):\n",
    "    redec.model.layers[i].set_weights(dec.model.layers[1].layers[i].get_weights())\n",
    "redec.model.layers[-1].set_weights(dec.model.layers[2].get_weights())"
   ]
  },
  {
   "cell_type": "code",
   "execution_count": 158,
   "metadata": {
    "collapsed": false,
    "scrolled": false
   },
   "outputs": [
    {
     "name": "stdout",
     "output_type": "stream",
     "text": [
      "Update interval 140\n",
      "Save interval 180.05859375\n"
     ]
    },
    {
     "name": "stderr",
     "output_type": "stream",
     "text": [
      "/Users/dwright/anaconda2/envs/aind/lib/python3.6/site-packages/numpy/core/fromnumeric.py:2957: RuntimeWarning: Mean of empty slice.\n",
      "  out=out, **kwargs)\n",
      "/Users/dwright/anaconda2/envs/aind/lib/python3.6/site-packages/numpy/core/_methods.py:73: RuntimeWarning: invalid value encountered in true_divide\n",
      "  ret, rcount, out=ret, casting='unsafe', subok=False)\n"
     ]
    },
    {
     "name": "stdout",
     "output_type": "stream",
     "text": [
      "Iter 0 , F1c= 0.83896 h= 0.49204 nmi= 0.45316 ; loss= 0 ; vF1c= 0.77962 vh= 0.38264 vnmi= 0.31863 ; vloss=, 0.09146\n",
      "saving model to: ./results/dec/DEC_model_0.h5\n",
      "Iter 140 , F1c= 0.84153 h= 0.49572 nmi= 0.44114 ; loss= 0.08525 ; vF1c= 0.77931 vh= 0.38331 vnmi= 0.3088 ; vloss=, 0.10114\n",
      "Iter 280 , F1c= 0.84493 h= 0.50229 nmi= 0.43125 ; loss= 0.05144 ; vF1c= 0.78391 vh= 0.39114 vnmi= 0.3045 ; vloss=, 0.10873\n",
      "Iter 420 , F1c= 0.84477 h= 0.50461 nmi= 0.411 ; loss= 0.0647 ; vF1c= 0.79482 vh= 0.41029 vnmi= 0.30796 ; vloss=, 0.11706\n",
      "Iter 560 , F1c= 0.84434 h= 0.50782 nmi= 0.39487 ; loss= 0.07343 ; vF1c= 0.80545 vh= 0.42914 vnmi= 0.30794 ; vloss=, 0.12529\n",
      "Iter 700 , F1c= 0.83824 h= 0.5135 nmi= 0.38241 ; loss= 0.09881 ; vF1c= 0.7907 vh= 0.43013 vnmi= 0.29733 ; vloss=, 0.13077\n",
      "Iter 840 , F1c= 0.83867 h= 0.51834 nmi= 0.37296 ; loss= 0.09569 ; vF1c= 0.78873 vh= 0.43234 vnmi= 0.28988 ; vloss=, 0.13168\n",
      "Iter 980 , F1c= 0.84003 h= 0.52274 nmi= 0.36608 ; loss= 0.09193 ; vF1c= 0.78495 vh= 0.43047 vnmi= 0.28259 ; vloss=, 0.13134\n",
      "Iter 1120 , F1c= 0.84069 h= 0.52715 nmi= 0.36141 ; loss= 0.10594 ; vF1c= 0.78378 vh= 0.43753 vnmi= 0.28348 ; vloss=, 0.13419\n",
      "Iter 1260 , F1c= 0.83748 h= 0.53077 nmi= 0.35757 ; loss= 0.11156 ; vF1c= 0.77495 vh= 0.43747 vnmi= 0.27865 ; vloss=, 0.13785\n",
      "Iter 1400 , F1c= 0.83807 h= 0.53214 nmi= 0.35349 ; loss= 0.11184 ; vF1c= 0.77123 vh= 0.42989 vnmi= 0.27137 ; vloss=, 0.13323\n",
      "Iter 1540 , F1c= 0.83846 h= 0.5342 nmi= 0.35156 ; loss= 0.09941 ; vF1c= 0.7741 vh= 0.43462 vnmi= 0.27251 ; vloss=, 0.13152\n",
      "Iter 1680 , F1c= 0.83758 h= 0.53417 nmi= 0.34685 ; loss= 0.116 ; vF1c= 0.77678 vh= 0.43725 vnmi= 0.27094 ; vloss=, 0.13114\n",
      "Iter 1820 , F1c= 0.83736 h= 0.53313 nmi= 0.34425 ; loss= 0.11396 ; vF1c= 0.7703 vh= 0.43518 vnmi= 0.26832 ; vloss=, 0.12798\n",
      "Iter 1960 , F1c= 0.83636 h= 0.53156 nmi= 0.34061 ; loss= 0.1058 ; vF1c= 0.76966 vh= 0.43399 vnmi= 0.26674 ; vloss=, 0.12377\n",
      "Iter 2100 , F1c= 0.83674 h= 0.53148 nmi= 0.33875 ; loss= 0.11088 ; vF1c= 0.77083 vh= 0.43512 vnmi= 0.26593 ; vloss=, 0.12125\n",
      "Iter 2240 , F1c= 0.83628 h= 0.53241 nmi= 0.3381 ; loss= 0.10533 ; vF1c= 0.77298 vh= 0.4418 vnmi= 0.26911 ; vloss=, 0.12009\n",
      "Iter 2380 , F1c= 0.83663 h= 0.53417 nmi= 0.33683 ; loss= 0.0951 ; vF1c= 0.77181 vh= 0.44075 vnmi= 0.26668 ; vloss=, 0.1175\n",
      "Iter 2520 , F1c= 0.83579 h= 0.5333 nmi= 0.33507 ; loss= 0.1039 ; vF1c= 0.77009 vh= 0.44025 vnmi= 0.26612 ; vloss=, 0.11508\n",
      "Iter 2660 , F1c= 0.83656 h= 0.53539 nmi= 0.33551 ; loss= 0.11189 ; vF1c= 0.76923 vh= 0.43892 vnmi= 0.26478 ; vloss=, 0.1108\n",
      "Iter 2800 , F1c= 0.83702 h= 0.53552 nmi= 0.33505 ; loss= 0.09308 ; vF1c= 0.77095 vh= 0.4409 vnmi= 0.26544 ; vloss=, 0.11144\n",
      "Iter 2940 , F1c= 0.83806 h= 0.53698 nmi= 0.33508 ; loss= 0.09032 ; vF1c= 0.77117 vh= 0.44091 vnmi= 0.26475 ; vloss=, 0.10894\n",
      "Iter 3080 , F1c= 0.83664 h= 0.53569 nmi= 0.33272 ; loss= 0.09834 ; vF1c= 0.76772 vh= 0.44022 vnmi= 0.26338 ; vloss=, 0.10963\n",
      "Iter 3220 , F1c= 0.83652 h= 0.53526 nmi= 0.33199 ; loss= 0.09272 ; vF1c= 0.76804 vh= 0.43901 vnmi= 0.26243 ; vloss=, 0.10753\n",
      "Iter 3360 , F1c= 0.83791 h= 0.53752 nmi= 0.33348 ; loss= 0.10211 ; vF1c= 0.77107 vh= 0.44419 vnmi= 0.26513 ; vloss=, 0.10393\n",
      "Iter 3500 , F1c= 0.8376 h= 0.53678 nmi= 0.33235 ; loss= 0.09347 ; vF1c= 0.77107 vh= 0.44379 vnmi= 0.26428 ; vloss=, 0.10395\n",
      "Iter 3640 , F1c= 0.8371 h= 0.53783 nmi= 0.33255 ; loss= 0.08997 ; vF1c= 0.7688 vh= 0.44023 vnmi= 0.26186 ; vloss=, 0.1045\n",
      "Iter 3780 , F1c= 0.83622 h= 0.53638 nmi= 0.33015 ; loss= 0.09337 ; vF1c= 0.76685 vh= 0.4369 vnmi= 0.25928 ; vloss=, 0.10471\n",
      "Iter 3920 , F1c= 0.83607 h= 0.53774 nmi= 0.33146 ; loss= 0.09012 ; vF1c= 0.76685 vh= 0.43681 vnmi= 0.25927 ; vloss=, 0.10007\n",
      "Iter 4060 , F1c= 0.83565 h= 0.53781 nmi= 0.33074 ; loss= 0.08355 ; vF1c= 0.76599 vh= 0.43618 vnmi= 0.25839 ; vloss=, 0.10266\n",
      "Iter 4200 , F1c= 0.83503 h= 0.53769 nmi= 0.33019 ; loss= 0.0951 ; vF1c= 0.76458 vh= 0.43448 vnmi= 0.2566 ; vloss=, 0.10088\n",
      "Iter 4340 , F1c= 0.83538 h= 0.53783 nmi= 0.3294 ; loss= 0.1016 ; vF1c= 0.76284 vh= 0.4332 vnmi= 0.25582 ; vloss=, 0.1009\n",
      "Iter 4480 , F1c= 0.83511 h= 0.53757 nmi= 0.32892 ; loss= 0.10151 ; vF1c= 0.76587 vh= 0.43831 vnmi= 0.25877 ; vloss=, 0.09938\n",
      "Iter 4620 , F1c= 0.83364 h= 0.53788 nmi= 0.33005 ; loss= 0.12978 ; vF1c= 0.76312 vh= 0.43655 vnmi= 0.25718 ; vloss=, 0.11945\n",
      "Iter 4760 , F1c= 0.83445 h= 0.5371 nmi= 0.328 ; loss= 0.0767 ; vF1c= 0.765 vh= 0.43554 vnmi= 0.25636 ; vloss=, 0.09504\n",
      "Iter 4900 , F1c= 0.83476 h= 0.53766 nmi= 0.32826 ; loss= 0.08347 ; vF1c= 0.76346 vh= 0.43462 vnmi= 0.25565 ; vloss=, 0.09461\n",
      "Iter 5040 , F1c= 0.83511 h= 0.5386 nmi= 0.32843 ; loss= 0.08844 ; vF1c= 0.76379 vh= 0.43311 vnmi= 0.25467 ; vloss=, 0.09517\n",
      "Iter 5180 , F1c= 0.83469 h= 0.53815 nmi= 0.32843 ; loss= 0.05138 ; vF1c= 0.76346 vh= 0.43496 vnmi= 0.25563 ; vloss=, 0.08972\n",
      "Iter 5320 , F1c= 0.83469 h= 0.53744 nmi= 0.32721 ; loss= 0.08262 ; vF1c= 0.764 vh= 0.43434 vnmi= 0.25525 ; vloss=, 0.08818\n",
      "Iter 5460 , F1c= 0.83442 h= 0.5381 nmi= 0.32758 ; loss= 0.08841 ; vF1c= 0.76487 vh= 0.43708 vnmi= 0.25663 ; vloss=, 0.09115\n",
      "Iter 5600 , F1c= 0.83434 h= 0.53691 nmi= 0.32623 ; loss= 0.08602 ; vF1c= 0.764 vh= 0.43491 vnmi= 0.25492 ; vloss=, 0.09163\n",
      "Iter 5740 , F1c= 0.83515 h= 0.53701 nmi= 0.32618 ; loss= 0.07927 ; vF1c= 0.76454 vh= 0.43572 vnmi= 0.25515 ; vloss=, 0.09277\n",
      "Iter 5880 , F1c= 0.83457 h= 0.53595 nmi= 0.3256 ; loss= 0.07669 ; vF1c= 0.76454 vh= 0.43583 vnmi= 0.25512 ; vloss=, 0.08876\n",
      "Iter 6020 , F1c= 0.83442 h= 0.53697 nmi= 0.32585 ; loss= 0.08003 ; vF1c= 0.764 vh= 0.43451 vnmi= 0.25418 ; vloss=, 0.08565\n",
      "Iter 6160 , F1c= 0.83415 h= 0.53764 nmi= 0.32593 ; loss= 0.08465 ; vF1c= 0.76454 vh= 0.43548 vnmi= 0.25447 ; vloss=, 0.08959\n",
      "Iter 6300 , F1c= 0.83437 h= 0.53465 nmi= 0.32459 ; loss= 0.07623 ; vF1c= 0.76433 vh= 0.43381 vnmi= 0.25371 ; vloss=, 0.10111\n",
      "Iter 6440 , F1c= 0.83403 h= 0.53606 nmi= 0.3246 ; loss= 0.08065 ; vF1c= 0.76346 vh= 0.43359 vnmi= 0.25324 ; vloss=, 0.09193\n",
      "Iter 6580 , F1c= 0.83384 h= 0.53581 nmi= 0.32439 ; loss= 0.09271 ; vF1c= 0.76596 vh= 0.43796 vnmi= 0.25559 ; vloss=, 0.09311\n",
      "Iter 6720 , F1c= 0.83457 h= 0.53727 nmi= 0.32552 ; loss= 0.08389 ; vF1c= 0.76596 vh= 0.43712 vnmi= 0.25512 ; vloss=, 0.08431\n",
      "Iter 6860 , F1c= 0.83364 h= 0.53577 nmi= 0.32444 ; loss= 0.10095 ; vF1c= 0.764 vh= 0.43428 vnmi= 0.25339 ; vloss=, 0.11734\n",
      "Iter 7000 , F1c= 0.83337 h= 0.53468 nmi= 0.32356 ; loss= 0.11551 ; vF1c= 0.7615 vh= 0.4318 vnmi= 0.25214 ; vloss=, 0.10974\n",
      "Iter 7140 , F1c= 0.83345 h= 0.53503 nmi= 0.32287 ; loss= 0.08609 ; vF1c= 0.76238 vh= 0.43113 vnmi= 0.25133 ; vloss=, 0.09131\n",
      "Iter 7280 , F1c= 0.83376 h= 0.53587 nmi= 0.32211 ; loss= 0.07677 ; vF1c= 0.76204 vh= 0.43587 vnmi= 0.25348 ; vloss=, 0.09555\n",
      "Iter 7420 , F1c= 0.83214 h= 0.5331 nmi= 0.32013 ; loss= 0.11757 ; vF1c= 0.75847 vh= 0.4325 vnmi= 0.25183 ; vloss=, 0.10276\n",
      "Iter 7560 , F1c= 0.83295 h= 0.53333 nmi= 0.31929 ; loss= 0.0713 ; vF1c= 0.76076 vh= 0.43259 vnmi= 0.25139 ; vloss=, 0.09746\n",
      "Iter 7700 , F1c= 0.83364 h= 0.53513 nmi= 0.32067 ; loss= 0.13274 ; vF1c= 0.76292 vh= 0.43587 vnmi= 0.25282 ; vloss=, 0.10425\n",
      "Iter 7840 , F1c= 0.83341 h= 0.53585 nmi= 0.32065 ; loss= 0.10121 ; vF1c= 0.764 vh= 0.43635 vnmi= 0.25276 ; vloss=, 0.0954\n",
      "Iter 7980 , F1c= 0.83349 h= 0.53642 nmi= 0.32122 ; loss= 0.09834 ; vF1c= 0.76433 vh= 0.43578 vnmi= 0.253 ; vloss=, 0.10397\n",
      "Iter 8120 , F1c= 0.83368 h= 0.53689 nmi= 0.32046 ; loss= 0.06667 ; vF1c= 0.76292 vh= 0.43381 vnmi= 0.2513 ; vloss=, 0.08781\n",
      "Iter 8260 , F1c= 0.83407 h= 0.537 nmi= 0.31977 ; loss= 0.07571 ; vF1c= 0.76346 vh= 0.43318 vnmi= 0.25 ; vloss=, 0.08496\n",
      "Iter 8400 , F1c= 0.83368 h= 0.53587 nmi= 0.31882 ; loss= 0.06914 ; vF1c= 0.76292 vh= 0.43138 vnmi= 0.24874 ; vloss=, 0.08556\n",
      "Iter 8540 , F1c= 0.83434 h= 0.53736 nmi= 0.31985 ; loss= 0.06438 ; vF1c= 0.76184 vh= 0.43227 vnmi= 0.24929 ; vloss=, 0.07817\n",
      "Iter 8680 , F1c= 0.83434 h= 0.53785 nmi= 0.31964 ; loss= 0.07478 ; vF1c= 0.7613 vh= 0.43299 vnmi= 0.24943 ; vloss=, 0.07985\n",
      "Iter 8820 , F1c= 0.83407 h= 0.53733 nmi= 0.31886 ; loss= 0.06695 ; vF1c= 0.76346 vh= 0.43302 vnmi= 0.24955 ; vloss=, 0.08388\n",
      "Iter 8960 , F1c= 0.83395 h= 0.53564 nmi= 0.31814 ; loss= 0.09051 ; vF1c= 0.7613 vh= 0.43138 vnmi= 0.24885 ; vloss=, 0.09057\n",
      "Iter 9100 , F1c= 0.83407 h= 0.53641 nmi= 0.3186 ; loss= 0.08918 ; vF1c= 0.76258 vh= 0.43172 vnmi= 0.24861 ; vloss=, 0.08564\n",
      "Iter 9240 , F1c= 0.83442 h= 0.53661 nmi= 0.31866 ; loss= 0.08247 ; vF1c= 0.76042 vh= 0.43075 vnmi= 0.24814 ; vloss=, 0.08824\n",
      "Iter 9380 , F1c= 0.83461 h= 0.53787 nmi= 0.31981 ; loss= 0.07968 ; vF1c= 0.764 vh= 0.43361 vnmi= 0.25059 ; vloss=, 0.085\n",
      "Iter 9520 , F1c= 0.83407 h= 0.53715 nmi= 0.31906 ; loss= 0.09126 ; vF1c= 0.7619 vh= 0.43306 vnmi= 0.24972 ; vloss=, 0.09103\n",
      "Iter 9660 , F1c= 0.83434 h= 0.53722 nmi= 0.319 ; loss= 0.08161 ; vF1c= 0.76278 vh= 0.43228 vnmi= 0.24919 ; vloss=, 0.08766\n",
      "Iter 9800 , F1c= 0.83461 h= 0.53706 nmi= 0.31837 ; loss= 0.0872 ; vF1c= 0.75974 vh= 0.43104 vnmi= 0.24796 ; vloss=, 0.08674\n",
      "Iter 9940 , F1c= 0.8338 h= 0.53671 nmi= 0.31832 ; loss= 0.07232 ; vF1c= 0.75695 vh= 0.42974 vnmi= 0.24811 ; vloss=, 0.08248\n",
      "Iter 10080 , F1c= 0.83326 h= 0.53598 nmi= 0.31732 ; loss= 0.07866 ; vF1c= 0.74946 vh= 0.42729 vnmi= 0.24567 ; vloss=, 0.09187\n",
      "Iter 10220 , F1c= 0.8336 h= 0.53602 nmi= 0.31754 ; loss= 0.09807 ; vF1c= 0.75036 vh= 0.42745 vnmi= 0.24557 ; vloss=, 0.09415\n",
      "Iter 10360 , F1c= 0.83287 h= 0.53692 nmi= 0.31781 ; loss= 0.04307 ; vF1c= 0.74456 vh= 0.42873 vnmi= 0.24675 ; vloss=, 0.09062\n",
      "Iter 10500 , F1c= 0.83306 h= 0.53686 nmi= 0.31787 ; loss= 0.06878 ; vF1c= 0.73961 vh= 0.42668 vnmi= 0.24545 ; vloss=, 0.08073\n",
      "Iter 10640 , F1c= 0.83322 h= 0.53684 nmi= 0.31763 ; loss= 0.07226 ; vF1c= 0.74052 vh= 0.42838 vnmi= 0.24587 ; vloss=, 0.07777\n",
      "Iter 10780 , F1c= 0.83275 h= 0.53628 nmi= 0.31722 ; loss= 0.06373 ; vF1c= 0.74198 vh= 0.42931 vnmi= 0.24651 ; vloss=, 0.0768\n",
      "Iter 10920 , F1c= 0.83295 h= 0.53704 nmi= 0.31793 ; loss= 0.06949 ; vF1c= 0.74106 vh= 0.42958 vnmi= 0.24691 ; vloss=, 0.0875\n",
      "Iter 11060 , F1c= 0.83302 h= 0.53655 nmi= 0.31731 ; loss= 0.0695 ; vF1c= 0.74198 vh= 0.42863 vnmi= 0.2459 ; vloss=, 0.07889\n",
      "Iter 11200 , F1c= 0.83302 h= 0.53665 nmi= 0.31723 ; loss= 0.0766 ; vF1c= 0.74106 vh= 0.42867 vnmi= 0.24586 ; vloss=, 0.07995\n",
      "Iter 11340 , F1c= 0.8326 h= 0.53577 nmi= 0.317 ; loss= 0.06407 ; vF1c= 0.73776 vh= 0.42585 vnmi= 0.24477 ; vloss=, 0.08867\n",
      "Iter 11480 , F1c= 0.83135 h= 0.5365 nmi= 0.31757 ; loss= 0.08592 ; vF1c= 0.73102 vh= 0.42559 vnmi= 0.24436 ; vloss=, 0.08604\n",
      "Iter 11620 , F1c= 0.83442 h= 0.53639 nmi= 0.31758 ; loss= 0.07377 ; vF1c= 0.74042 vh= 0.42214 vnmi= 0.24303 ; vloss=, 0.09824\n",
      "Iter 11760 , F1c= 0.83271 h= 0.53495 nmi= 0.31632 ; loss= 0.07134 ; vF1c= 0.74165 vh= 0.42666 vnmi= 0.24495 ; vloss=, 0.08013\n",
      "Iter 11900 , F1c= 0.83283 h= 0.53563 nmi= 0.31649 ; loss= 0.06426 ; vF1c= 0.73999 vh= 0.42659 vnmi= 0.24463 ; vloss=, 0.083\n",
      "Iter 12040 , F1c= 0.83283 h= 0.536 nmi= 0.31666 ; loss= 0.07292 ; vF1c= 0.73568 vh= 0.42804 vnmi= 0.2455 ; vloss=, 0.08357\n",
      "Iter 12180 , F1c= 0.83422 h= 0.53567 nmi= 0.31653 ; loss= 0.07675 ; vF1c= 0.74165 vh= 0.42539 vnmi= 0.24417 ; vloss=, 0.09515\n",
      "Iter 12320 , F1c= 0.83252 h= 0.53525 nmi= 0.31602 ; loss= 0.07313 ; vF1c= 0.74052 vh= 0.42719 vnmi= 0.24469 ; vloss=, 0.08697\n",
      "Iter 12460 , F1c= 0.83244 h= 0.53485 nmi= 0.31558 ; loss= 0.07354 ; vF1c= 0.73961 vh= 0.42618 vnmi= 0.24415 ; vloss=, 0.0786\n",
      "Iter 12600 , F1c= 0.83283 h= 0.53665 nmi= 0.3165 ; loss= 0.06766 ; vF1c= 0.74069 vh= 0.42932 vnmi= 0.24567 ; vloss=, 0.0875\n",
      "Iter 12740 , F1c= 0.83264 h= 0.53582 nmi= 0.31579 ; loss= 0.06807 ; vF1c= 0.74015 vh= 0.42802 vnmi= 0.24494 ; vloss=, 0.07598\n",
      "Iter 12880 , F1c= 0.83271 h= 0.53575 nmi= 0.31607 ; loss= 0.06913 ; vF1c= 0.74106 vh= 0.42928 vnmi= 0.24547 ; vloss=, 0.08469\n",
      "Iter 13020 , F1c= 0.83244 h= 0.53517 nmi= 0.31524 ; loss= 0.078 ; vF1c= 0.74052 vh= 0.42761 vnmi= 0.24451 ; vloss=, 0.07791\n",
      "Iter 13160 , F1c= 0.83244 h= 0.5353 nmi= 0.31544 ; loss= 0.06814 ; vF1c= 0.74052 vh= 0.42758 vnmi= 0.24444 ; vloss=, 0.07532\n",
      "Iter 13300 , F1c= 0.83264 h= 0.53515 nmi= 0.31538 ; loss= 0.06847 ; vF1c= 0.73961 vh= 0.42634 vnmi= 0.24379 ; vloss=, 0.08689\n",
      "Iter 13440 , F1c= 0.83326 h= 0.53626 nmi= 0.3161 ; loss= 0.06436 ; vF1c= 0.74052 vh= 0.42837 vnmi= 0.24484 ; vloss=, 0.08571\n",
      "Iter 13580 , F1c= 0.83186 h= 0.53331 nmi= 0.31405 ; loss= 0.06695 ; vF1c= 0.73891 vh= 0.42397 vnmi= 0.24259 ; vloss=, 0.09798\n",
      "Iter 13720 , F1c= 0.83271 h= 0.53553 nmi= 0.31545 ; loss= 0.0552 ; vF1c= 0.74106 vh= 0.4287 vnmi= 0.24505 ; vloss=, 0.07289\n",
      "Iter 13860 , F1c= 0.83264 h= 0.53504 nmi= 0.31504 ; loss= 0.06134 ; vF1c= 0.73692 vh= 0.42283 vnmi= 0.24179 ; vloss=, 0.09985\n",
      "Iter 14000 , F1c= 0.83271 h= 0.53493 nmi= 0.31476 ; loss= 0.06524 ; vF1c= 0.73945 vh= 0.42673 vnmi= 0.24378 ; vloss=, 0.07518\n",
      "Iter 14140 , F1c= 0.83244 h= 0.53509 nmi= 0.31441 ; loss= 0.06775 ; vF1c= 0.73891 vh= 0.42626 vnmi= 0.24331 ; vloss=, 0.09269\n",
      "Iter 14280 , F1c= 0.83264 h= 0.53577 nmi= 0.31475 ; loss= 0.0659 ; vF1c= 0.73853 vh= 0.42742 vnmi= 0.24387 ; vloss=, 0.07387\n",
      "Iter 14420 , F1c= 0.83264 h= 0.53581 nmi= 0.31454 ; loss= 0.06655 ; vF1c= 0.73853 vh= 0.42736 vnmi= 0.24375 ; vloss=, 0.08184\n",
      "Iter 14560 , F1c= 0.83236 h= 0.53543 nmi= 0.31425 ; loss= 0.07225 ; vF1c= 0.73815 vh= 0.42763 vnmi= 0.24373 ; vloss=, 0.08816\n",
      "Iter 14700 , F1c= 0.83236 h= 0.53591 nmi= 0.3152 ; loss= 0.08489 ; vF1c= 0.73723 vh= 0.42747 vnmi= 0.24387 ; vloss=, 0.08165\n",
      "Iter 14840 , F1c= 0.83217 h= 0.53547 nmi= 0.31423 ; loss= 0.07985 ; vF1c= 0.73999 vh= 0.42805 vnmi= 0.24395 ; vloss=, 0.08805\n",
      "Iter 14980 , F1c= 0.83244 h= 0.53566 nmi= 0.31442 ; loss= 0.0776 ; vF1c= 0.73999 vh= 0.42808 vnmi= 0.24411 ; vloss=, 0.08498\n",
      "Iter 15120 , F1c= 0.83384 h= 0.53454 nmi= 0.3141 ; loss= 0.06937 ; vF1c= 0.73593 vh= 0.42105 vnmi= 0.24077 ; vloss=, 0.12139\n",
      "Iter 15260 , F1c= 0.83213 h= 0.53383 nmi= 0.31328 ; loss= 0.06157 ; vF1c= 0.73493 vh= 0.42043 vnmi= 0.23988 ; vloss=, 0.08487\n",
      "Iter 15400 , F1c= 0.83252 h= 0.53592 nmi= 0.31425 ; loss= 0.06522 ; vF1c= 0.73707 vh= 0.42572 vnmi= 0.2421 ; vloss=, 0.08695\n",
      "Iter 15540 , F1c= 0.83225 h= 0.53553 nmi= 0.314 ; loss= 0.04101 ; vF1c= 0.73799 vh= 0.42587 vnmi= 0.24224 ; vloss=, 0.08691\n",
      "Iter 15680 , F1c= 0.83271 h= 0.5361 nmi= 0.31411 ; loss= 0.06453 ; vF1c= 0.73745 vh= 0.4252 vnmi= 0.24178 ; vloss=, 0.07841\n",
      "Iter 15820 , F1c= 0.8326 h= 0.53563 nmi= 0.31385 ; loss= 0.06729 ; vF1c= 0.7373 vh= 0.42449 vnmi= 0.24144 ; vloss=, 0.08077\n",
      "Iter 15960 , F1c= 0.83252 h= 0.53592 nmi= 0.3139 ; loss= 0.07651 ; vF1c= 0.73508 vh= 0.42333 vnmi= 0.24056 ; vloss=, 0.07911\n",
      "Iter 16100 , F1c= 0.83236 h= 0.53612 nmi= 0.31426 ; loss= 0.06723 ; vF1c= 0.73431 vh= 0.42272 vnmi= 0.24032 ; vloss=, 0.08558\n",
      "Iter 16240 , F1c= 0.83283 h= 0.53684 nmi= 0.3144 ; loss= 0.07342 ; vF1c= 0.73314 vh= 0.42269 vnmi= 0.23994 ; vloss=, 0.08731\n",
      "Iter 16380 , F1c= 0.83225 h= 0.53561 nmi= 0.3137 ; loss= 0.05694 ; vF1c= 0.73353 vh= 0.42184 vnmi= 0.23948 ; vloss=, 0.07363\n",
      "Iter 16520 , F1c= 0.83225 h= 0.53548 nmi= 0.3136 ; loss= 0.06007 ; vF1c= 0.73314 vh= 0.4215 vnmi= 0.23919 ; vloss=, 0.07397\n",
      "Iter 16660 , F1c= 0.83225 h= 0.53551 nmi= 0.31359 ; loss= 0.06174 ; vF1c= 0.73221 vh= 0.42151 vnmi= 0.23913 ; vloss=, 0.07491\n",
      "Iter 16800 , F1c= 0.83252 h= 0.5358 nmi= 0.31369 ; loss= 0.05581 ; vF1c= 0.73221 vh= 0.42166 vnmi= 0.23919 ; vloss=, 0.07891\n",
      "Iter 16940 , F1c= 0.83252 h= 0.53574 nmi= 0.31372 ; loss= 0.06472 ; vF1c= 0.73128 vh= 0.42143 vnmi= 0.23914 ; vloss=, 0.0699\n",
      "delta_label  0.0008677730773402755 < tol  0.001\n",
      "Reached tolerance threshold. Stopping training.\n",
      "saving model to: ./results/dec/DEC_model_final.h5\n"
     ]
    }
   ],
   "source": [
    "y_pred, metrics_dict = redec.clustering((x_train, y_train), (x_valid, y_valid), pretrained_weights=None, maxiter=2e4, update_interval=140)"
   ]
  },
  {
   "cell_type": "code",
   "execution_count": 159,
   "metadata": {
    "collapsed": false
   },
   "outputs": [
    {
     "name": "stdout",
     "output_type": "stream",
     "text": [
      "[[ 7.42788911e-01 -1.31579697e+00  2.20745206e+00 -2.17030001e+00\n",
      "  -1.19956803e+00  1.46283913e+00 -1.98102856e+00 -3.98328202e-03\n",
      "   1.49067962e+00  1.34563684e+00]\n",
      " [-2.06436300e+00  3.24004388e+00 -1.86707056e+00  3.37686491e+00\n",
      "   3.47801304e+00  5.02524137e-01  3.80922413e+00  2.41367340e+00\n",
      "   1.41977334e+00  1.26839900e+00]\n",
      " [-1.18693054e+00 -1.16080546e+00 -3.66150260e+00  3.36766052e+00\n",
      "   2.80220699e+00 -1.21648037e+00  3.17907000e+00  7.60343671e-01\n",
      "  -7.35365033e-01  3.41563559e+00]\n",
      " [-3.37767100e+00  9.33662987e+00  9.39668059e-01  3.29826832e+00\n",
      "   4.12347412e+00  2.54510570e+00  4.41209078e+00  4.51071405e+00\n",
      "   3.90895224e+00 -2.63659477e+00]\n",
      " [-1.79822767e+00  5.56650639e+00  4.06260920e+00 -5.06448030e-01\n",
      "   1.19059965e-01  2.12108707e+00 -1.08530819e-01  2.03210378e+00\n",
      "   2.67992067e+00 -3.56801271e+00]\n",
      " [ 8.91740143e-01 -7.38951683e+00 -6.59897518e+00  2.58002806e+00\n",
      "   1.50920177e+00 -4.27732277e+00  1.74186957e+00 -2.07617259e+00\n",
      "  -5.20667648e+00  3.71729398e+00]\n",
      " [ 3.00866294e+00 -6.71755838e+00  1.45409441e+00 -5.92239952e+00\n",
      "  -5.44985628e+00 -1.70286655e+00 -5.96367741e+00 -3.91319489e+00\n",
      "  -3.92265415e+00 -2.76776433e+00]\n",
      " [-1.82146221e-01  1.84168494e+00  6.20724297e+00 -3.72935772e+00\n",
      "  -3.18973207e+00  1.91526079e+00 -3.80467272e+00 -2.14866586e-02\n",
      "   1.73752356e+00 -3.72122598e+00]\n",
      " [ 2.63588881e+00  2.44509435e+00 -1.27878046e+00  3.35590333e-01\n",
      "  -2.82746583e-01  1.86659920e+00 -1.68346751e+00 -2.31953335e+00\n",
      "   2.00593019e+00  2.22441864e+00]\n",
      " [ 1.13706183e+00 -5.01615191e+00 -1.95992005e+00 -1.20564997e+00\n",
      "  -1.29024661e+00 -2.08713174e+00 -1.36031461e+00 -1.98167348e+00\n",
      "  -3.20409751e+00  4.71184313e-01]]\n"
     ]
    },
    {
     "data": {
      "image/png": "[encoded data removed]",
      "text/plain": [
       "<matplotlib.figure.Figure at 0x134dc65c0>"
      ]
     },
     "metadata": {},
     "output_type": "display_data"
    }
   ],
   "source": [
    "cluster_centres = get_cluster_centres(redec)\n",
    "print(cluster_centres)\n",
    "labels = [str(i) for i in range(n_clusters)]\n",
    "pca_plot(redec.encoder, x_train, cluster_centres, y=y_train, labels=labels, lcolours=[lcolours[0], lcolours[1]])"
   ]
  },
  {
   "cell_type": "code",
   "execution_count": 160,
   "metadata": {
    "collapsed": false
   },
   "outputs": [
    {
     "name": "stdout",
     "output_type": "stream",
     "text": [
      "0 167 0 0.8922155688622755\n",
      "1 435 0 0.7195402298850575\n",
      "2 387 0 0.9018087855297158\n",
      "3 1821 1 0.8923668314113125\n",
      "4 773 1 0.8602846054333765\n",
      "5 768 0 0.9973958333333334\n",
      "6 998 0 0.9529058116232465\n",
      "7 743 0 0.5612382234185733\n",
      "8 0 0 nan\n",
      "9 3127 0 0.9264470738727214\n",
      "[0. 1.] [0 1]\n",
      "[0, 0, 0, 1, 1, 0, 0, 0, 0, 0]\n"
     ]
    },
    {
     "name": "stderr",
     "output_type": "stream",
     "text": [
      "/Users/dwright/anaconda2/envs/aind/lib/python3.6/site-packages/numpy/core/fromnumeric.py:2957: RuntimeWarning: Mean of empty slice.\n",
      "  out=out, **kwargs)\n",
      "/Users/dwright/anaconda2/envs/aind/lib/python3.6/site-packages/numpy/core/_methods.py:73: RuntimeWarning: invalid value encountered in true_divide\n",
      "  ret, rcount, out=ret, casting='unsafe', subok=False)\n"
     ]
    },
    {
     "data": {
      "text/plain": [
       "([0, 0, 0, 1, 1, 0, 0, 0, 0, 0],\n",
       " [167, 435, 387, 1821, 773, 768, 998, 743, 0, 3127],\n",
       " [0.8922155688622755,\n",
       "  0.7195402298850575,\n",
       "  0.9018087855297158,\n",
       "  0.8923668314113125,\n",
       "  0.8602846054333765,\n",
       "  0.9973958333333334,\n",
       "  0.9529058116232465,\n",
       "  0.5612382234185733,\n",
       "  nan,\n",
       "  0.9264470738727214])"
      ]
     },
     "execution_count": 160,
     "metadata": {},
     "output_type": "execute_result"
    }
   ],
   "source": [
    "get_cluster_to_label_mapping_safe(y_all, y_pred, n_classes, n_clusters, toprint=True)"
   ]
  },
  {
   "cell_type": "code",
   "execution_count": null,
   "metadata": {
    "collapsed": true
   },
   "outputs": [],
   "source": []
  }
 ],
 "metadata": {
  "kernelspec": {
   "display_name": "Python [aind]",
   "language": "python",
   "name": "Python [aind]"
  },
  "language_info": {
   "codemirror_mode": {
    "name": "ipython",
    "version": 3
   },
   "file_extension": ".py",
   "mimetype": "text/x-python",
   "name": "python",
   "nbconvert_exporter": "python",
   "pygments_lexer": "ipython3",
   "version": "3.6.0"
  }
 },
 "nbformat": 4,
 "nbformat_minor": 2
}
