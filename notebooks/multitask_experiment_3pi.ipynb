{
 "cells": [
  {
   "cell_type": "code",
   "execution_count": 1,
   "metadata": {
    "collapsed": false
   },
   "outputs": [
    {
     "name": "stderr",
     "output_type": "stream",
     "text": [
      "Using TensorFlow backend.\n",
      "/Users/dwright/anaconda2/envs/aind/lib/python3.6/importlib/_bootstrap.py:205: RuntimeWarning: compiletime version 3.5 of module 'tensorflow.python.framework.fast_tensor_util' does not match runtime version 3.6\n",
      "  return f(*args, **kwds)\n"
     ]
    }
   ],
   "source": [
    "import sys\n",
    "import pickle\n",
    "import scipy.io as sio\n",
    "import numpy as np\n",
    "import keras.backend as K\n",
    "from keras.optimizers import SGD\n",
    "from keras.utils import np_utils\n",
    "import matplotlib.pyplot as plt\n",
    "from itertools import combinations_with_replacement"
   ]
  },
  {
   "cell_type": "code",
   "execution_count": 2,
   "metadata": {
    "collapsed": false,
    "scrolled": true
   },
   "outputs": [
    {
     "name": "stderr",
     "output_type": "stream",
     "text": [
      "/Users/dwright/anaconda2/envs/aind/lib/python3.6/site-packages/matplotlib/__init__.py:1401: UserWarning:  This call to matplotlib.use() has no effect\n",
      "because the backend has already been chosen;\n",
      "matplotlib.use() must be called *before* pylab, matplotlib.pyplot,\n",
      "or matplotlib.backends is imported for the first time.\n",
      "\n",
      "  warnings.warn(_use_error_msg)\n"
     ]
    }
   ],
   "source": [
    "sys.path.insert(0,'/Users/dwright/dev/zoo/machine_augmented_classification/experiments/dissolving/mutitask/snhunters')\n",
    "from multitask_experiment import MultitaskDEC"
   ]
  },
  {
   "cell_type": "code",
   "execution_count": 3,
   "metadata": {
    "collapsed": true
   },
   "outputs": [],
   "source": [
    "sys.path.insert(0,'/Users/dwright/dev/zoo/machine_augmented_classification/experiments/dissolving')\n",
    "from dissolving_utils import get_cluster_centres, get_cluster_to_label_mapping\n",
    "from dissolving_utils import pca_plot"
   ]
  },
  {
   "cell_type": "code",
   "execution_count": 4,
   "metadata": {
    "collapsed": true
   },
   "outputs": [],
   "source": [
    "from sklearn.metrics import f1_score"
   ]
  },
  {
   "cell_type": "code",
   "execution_count": 5,
   "metadata": {
    "collapsed": true
   },
   "outputs": [],
   "source": [
    "def all_same(items):\n",
    "  return all(x == items[0] for x in items)"
   ]
  },
  {
   "cell_type": "code",
   "execution_count": 6,
   "metadata": {
    "collapsed": true
   },
   "outputs": [],
   "source": [
    "def get_best_mapping(y, predicted_clusters, n_clusters, fom):\n",
    "  best_metric = 0\n",
    "  best_mapping = []\n",
    "  for cluster_to_label_mapping in combinations_with_replacement([0,1], n_clusters):\n",
    "    if all_same(cluster_to_label_mapping):\n",
    "      continue\n",
    "    metric = fom(y, predicted_clusters, cluster_to_label_mapping)\n",
    "    if metric >= best_metric:\n",
    "      best_metric = metric\n",
    "      best_mapping = cluster_to_label_mapping\n",
    "  return best_metric, best_mapping"
   ]
  },
  {
   "cell_type": "code",
   "execution_count": 7,
   "metadata": {
    "collapsed": true
   },
   "outputs": [],
   "source": [
    "def calc_f1_score(y_true, predicted_clusters, cluster_to_label_mapping):\n",
    "  y_pred = []\n",
    "  for i in range(len(y_true)):\n",
    "    y_pred.append(cluster_to_label_mapping[predicted_clusters[i]])\n",
    "  return f1_score(y_true, np.array(y_pred))"
   ]
  },
  {
   "cell_type": "markdown",
   "metadata": {},
   "source": [
    "## Clean labels"
   ]
  },
  {
   "cell_type": "code",
   "execution_count": 8,
   "metadata": {
    "collapsed": false
   },
   "outputs": [
    {
     "name": "stdout",
     "output_type": "stream",
     "text": [
      "(6916, 400) (2303, 400)\n"
     ]
    }
   ],
   "source": [
    "data = sio.loadmat('/Users/dwright/dev/zoo/machine_augmented_classification/data/snhunters/3pi_20x20_skew2_signPreserveNorm.mat')\n",
    "x_valid  = data['testX']\n",
    "y_valid  = np.squeeze(data['testy'])\n",
    "x_train  = data['X']\n",
    "y_train  = np.squeeze(data['y'])\n",
    "print(x_train.shape, x_valid.shape)"
   ]
  },
  {
   "cell_type": "code",
   "execution_count": 9,
   "metadata": {
    "collapsed": true
   },
   "outputs": [],
   "source": [
    "lcolours = ['#CAA8F5', '#D6FF79', '#A09BE7', '#5F00BA', '#56CBF9', \\\n",
    "            '#F3C969', '#ED254E', '#B0FF92', '#D9F0FF', '#46351D']\n",
    "\n",
    "# DEC constants from DEC paper\n",
    "batch_size = 256\n",
    "lr         = 0.01\n",
    "momentum   = 0.9\n",
    "tol        = 0.001\n",
    "maxiter    = 3e2\n",
    "#update_interval = 140 #perhaps this should be 1 for multitask learning\n",
    "update_interval = 10 #perhaps this should be 1 for multitask learning\n",
    "n_clusters = 10 # number of clusters to use\n",
    "n_classes  = 2  # number of classes"
   ]
  },
  {
   "cell_type": "code",
   "execution_count": 10,
   "metadata": {
    "collapsed": true
   },
   "outputs": [],
   "source": [
    "# load the pretrained DEC model for Supernova Hunters\n",
    "ae_weights  = '/Users/dwright/dev/zoo/machine_augmented_classification/DEC-keras/results/snh/ae_weights_snh.h5'\n",
    "dec_weights = '/Users/dwright/dev/zoo/machine_augmented_classification/DEC-keras/results/snh/10/DEC_model_final.h5'"
   ]
  },
  {
   "cell_type": "code",
   "execution_count": 7,
   "metadata": {
    "collapsed": false
   },
   "outputs": [],
   "source": [
    "dec = MultitaskDEC(dims=[x_valid.shape[-1], 500, 500, 2000, 10], \\\n",
    "                   n_clusters=n_clusters, batch_size=batch_size)\n",
    "dec.initialize_model(optimizer=SGD(lr=lr, momentum=momentum),\n",
    "                     ae_weights=ae_weights,\n",
    "                     x=x_train)\n",
    "dec.model.load_weights(dec_weights)"
   ]
  },
  {
   "cell_type": "code",
   "execution_count": 8,
   "metadata": {
    "collapsed": false,
    "scrolled": true
   },
   "outputs": [
    {
     "name": "stdout",
     "output_type": "stream",
     "text": [
      "Update interval 10\n",
      "Save interval 135.078125\n",
      "0 117 0 1.0\n",
      "1 328 0 0.6951219512195121\n",
      "2 710 0 0.7056338028169014\n",
      "3 1069 0 0.7034611786716558\n",
      "4 365 0 0.5726027397260274\n",
      "5 1673 0 0.5630603705917513\n",
      "6 1460 0 0.7904109589041096\n",
      "7 690 0 0.5811594202898551\n",
      "8 2 0 1.0\n",
      "9 502 0 0.603585657370518\n",
      "[0. 1.] [0]\n",
      "[0, 0, 0, 0, 0, 1, 0, 0, 0, 0]\n",
      "5\n",
      "[0.00860719 0.31423348 0.95513695 ... 0.33967993 0.9369725  0.00969982]\n",
      "Iter 0  :1% fpr 0.99003 , F1= 0.28857 h= 0.03865 ; loss= [0 0 0] ;\n",
      "\t valid 1% fpr=, 0.99217 , valid F1= 0.26258 h_valid= 0.0398 ; valid_loss=, [2.0816  1.77795 0.0681  0.30365]\n",
      "saving model:  [inf, inf, inf]  ->  [2.0816  1.77795 0.0681  0.30365]\n",
      "1.0 0.0\n",
      "saving model to: ./results/dec/DEC_model_0.h5\n",
      "1.0 0.0\n",
      "1.0 0.0\n",
      "1.0 0.0\n",
      "1.0 0.0\n",
      "1.0 0.0\n",
      "1.0 0.0\n",
      "1.0 0.0\n",
      "1.0 0.0\n",
      "1.0 0.0\n",
      "[2.7001707e-03 2.3472604e-01 1.4523689e-03 ... 2.1662091e-01 3.8277754e-01\n",
      " 3.8696217e-05]\n",
      "Iter 10  :1% fpr 0.61682 , F1= 0.87264 h= 0.15551 ; loss= [0.39576 0.23154 1.60387 0.16422] ;\n",
      "\t valid 1% fpr=, 0.56658 , valid F1= 0.80856 h_valid= 0.13783 ; valid_loss=, [0.46754 0.30512 0.16454 0.16242]\n",
      "saving model:  [2.0816  1.77795 0.0681  0.30365]  ->  [0.46754 0.30512 0.16454 0.16242]\n",
      "1.0 0.0\n",
      "1.0 0.0\n",
      "1.0 0.0\n",
      "1.0 0.0\n",
      "1.0 0.0\n",
      "1.0 0.0\n",
      "1.0 0.0\n",
      "1.0 0.0\n",
      "1.0 0.0\n",
      "1.0 0.0\n",
      "[8.1106457e-08 4.4679213e-03 1.6116648e-05 ... 1.7145867e-04 1.5773771e-02\n",
      " 9.7385357e-11]\n",
      "Iter 20  :1% fpr 0.15561 , F1= 0.97271 h= 0.23768 ; loss= [0.25099 0.08925 0.26404 0.16173] ;\n",
      "\t valid 1% fpr=, 0.47911 , valid F1= 0.84436 h_valid= 0.18198 ; valid_loss=, [0.42909 0.26895 0.13788 0.16014]\n",
      "saving model:  [0.46754 0.30512 0.16454 0.16242]  ->  [0.42909 0.26895 0.13788 0.16014]\n",
      "1.0 0.0\n",
      "1.0 0.0\n",
      "1.0 0.0\n",
      "1.0 0.0\n",
      "1.0 0.0\n",
      "1.0 0.0\n",
      "1.0 0.0\n",
      "1.0 0.0\n",
      "1.0 0.0\n",
      "1.0 0.0\n",
      "[2.6127956e-11 2.1926248e-03 1.0981832e-06 ... 5.1963584e-06 6.6554118e-03\n",
      " 3.0273652e-15]\n",
      "Iter 30  :1% fpr 0.00564 , F1= 0.98422 h= 0.31208 ; loss= [0.2226  0.0628  0.17052 0.1598 ] ;\n",
      "\t valid 1% fpr=, 0.51044 , valid F1= 0.85372 h_valid= 0.2472 ; valid_loss=, [0.48169 0.32335 0.12934 0.15834]\n",
      "1.0 0.0\n",
      "1.0 0.0\n",
      "1.0 0.0\n",
      "1.0 0.0\n",
      "1.0 0.0\n",
      "1.0 0.0\n",
      "1.0 0.0\n",
      "1.0 0.0\n",
      "1.0 0.0\n",
      "1.0 0.0\n",
      "[1.8068597e-16 1.8550555e-04 1.0999593e-09 ... 6.7965026e-08 1.1474916e-05\n",
      " 4.7215482e-20]\n",
      "Iter 40  :1% fpr 0.00087 , F1= 0.98979 h= 0.42201 ; loss= [0.18165 0.02367 0.14427 0.15798] ;\n",
      "\t valid 1% fpr=, 0.49478 , valid F1= 0.79672 h_valid= 0.32635 ; valid_loss=, [0.67622 0.5195  0.11793 0.15672]\n",
      "1.0 0.0\n",
      "1.0 0.0\n",
      "1.0 0.0\n",
      "1.0 0.0\n",
      "1.0 0.0\n",
      "1.0 0.0\n",
      "1.0 0.0\n",
      "1.0 0.0\n",
      "1.0 0.0\n",
      "1.0 0.0\n",
      "[6.6112791e-18 4.3027767e-04 1.0642115e-09 ... 1.0428188e-07 1.0207960e-05\n",
      " 1.2710438e-21]\n",
      "Iter 50  :1% fpr 0.0 , F1= 0.99268 h= 0.4161 ; loss= [0.1845  0.0277  0.13041 0.1568 ] ;\n",
      "\t valid 1% fpr=, 0.60183 , valid F1= 0.83541 h_valid= 0.31849 ; valid_loss=, [0.58286 0.42711 0.12134 0.15574]\n",
      "1.0 0.0\n",
      "1.0 0.0\n",
      "1.0 0.0\n",
      "1.0 0.0\n",
      "1.0 0.0\n",
      "1.0 0.0\n",
      "1.0 0.0\n",
      "1.0 0.0\n",
      "1.0 0.0\n",
      "1.0 0.0\n",
      "[1.2296625e-18 1.6572621e-05 2.0004428e-12 ... 3.8202215e-09 7.2293392e-06\n",
      " 3.7792325e-23]\n",
      "Iter 60  :1% fpr 0.00694 , F1= 0.98387 h= 0.40957 ; loss= [0.24965 0.0938  0.14019 0.15585] ;\n",
      "\t valid 1% fpr=, 0.73368 , valid F1= 0.81201 h_valid= 0.31587 ; valid_loss=, [0.67271 0.51796 0.11865 0.15475]\n",
      "1.0 0.0\n",
      "1.0 0.0\n",
      "1.0 0.0\n",
      "1.0 0.0\n",
      "1.0 0.0\n",
      "1.0 0.0\n",
      "1.0 0.0\n",
      "1.0 0.0\n",
      "1.0 0.0\n",
      "1.0 0.0\n",
      "[7.2442336e-22 1.3025295e-03 4.6343346e-12 ... 2.1494248e-10 7.8178476e-07\n",
      " 1.2719433e-25]\n",
      "Iter 70  :1% fpr 0.0 , F1= 0.99827 h= 0.45575 ; loss= [0.16191 0.00717 0.15044 0.15474] ;\n",
      "\t valid 1% fpr=, 0.5248 , valid F1= 0.84557 h_valid= 0.35913 ; valid_loss=, [0.63856 0.48487 0.11458 0.15369]\n",
      "1.0 0.0\n",
      "1.0 0.0\n",
      "1.0 0.0\n",
      "1.0 0.0\n",
      "1.0 0.0\n",
      "1.0 0.0\n",
      "1.0 0.0\n",
      "1.0 0.0\n",
      "1.0 0.0\n",
      "1.0 0.0\n",
      "[3.8340762e-24 2.2911209e-04 7.2794201e-13 ... 2.5617428e-10 6.4578906e-08\n",
      " 5.0871906e-27]\n",
      "Iter 80  :1% fpr 0.0 , F1= 0.99504 h= 0.47112 ; loss= [0.15977 0.00592 0.12015 0.15385] ;\n",
      "\t valid 1% fpr=, 0.63708 , valid F1= 0.84435 h_valid= 0.36017 ; valid_loss=, [0.67803 0.52491 0.11485 0.15312]\n",
      "1.0 0.0\n",
      "1.0 0.0\n",
      "1.0 0.0\n",
      "1.0 0.0\n",
      "1.0 0.0\n",
      "1.0 0.0\n",
      "1.0 0.0\n",
      "1.0 0.0\n",
      "1.0 0.0\n",
      "1.0 0.0\n",
      "[3.1849174e-26 4.3467045e-04 7.7441071e-15 ... 1.6150848e-11 2.7728499e-09\n",
      " 7.6829333e-30]\n",
      "Iter 90  :1% fpr 0.0 , F1= 0.99957 h= 0.49566 ; loss= [0.15426 0.00125 0.12791 0.15301] ;\n",
      "\t valid 1% fpr=, 0.60836 , valid F1= 0.84918 h_valid= 0.35879 ; valid_loss=, [0.72227 0.57013 0.10862 0.15214]\n",
      "1.0 0.0\n",
      "1.0 0.0\n",
      "1.0 0.0\n",
      "1.0 0.0\n",
      "1.0 0.0\n",
      "1.0 0.0\n",
      "1.0 0.0\n",
      "1.0 0.0\n",
      "1.0 0.0\n",
      "1.0 0.0\n",
      "[4.3368028e-28 9.1785696e-05 4.8611147e-16 ... 4.0697641e-12 2.2899020e-10\n",
      " 3.8076210e-32]\n",
      "Iter 100  :1% fpr 0.0 , F1= 1.0 h= 0.50307 ; loss= [0.15301 0.00078 0.10731 0.15224] ;\n",
      "\t valid 1% fpr=, 0.61749 , valid F1= 0.84182 h_valid= 0.35194 ; valid_loss=, [0.77438 0.62295 0.10592 0.15143]\n",
      "1.0 0.0\n",
      "1.0 0.0\n",
      "1.0 0.0\n",
      "1.0 0.0\n",
      "1.0 0.0\n",
      "1.0 0.0\n",
      "1.0 0.0\n",
      "1.0 0.0\n",
      "1.0 0.0\n",
      "1.0 0.0\n",
      "[2.5053560e-29 3.8385613e-05 1.3237276e-17 ... 1.0600791e-12 3.4252830e-11\n",
      " 1.1284749e-33]\n",
      "Iter 110  :1% fpr 0.0 , F1= 1.0 h= 0.51558 ; loss= [0.15201 0.00042 0.10126 0.1516 ] ;\n",
      "\t valid 1% fpr=, 0.65796 , valid F1= 0.83461 h_valid= 0.34914 ; valid_loss=, [0.82847 0.67761 0.10397 0.15086]\n",
      "1.0 0.0\n",
      "1.0 0.0\n",
      "1.0 0.0\n",
      "1.0 0.0\n",
      "1.0 0.0\n",
      "1.0 0.0\n",
      "1.0 0.0\n",
      "1.0 0.0\n",
      "1.0 0.0\n",
      "1.0 0.0\n",
      "[4.8934532e-30 2.8566008e-05 1.1529599e-18 ... 4.6659161e-13 8.9164023e-12\n",
      " 1.5649576e-34]\n",
      "Iter 120  :1% fpr 0.0 , F1= 1.0 h= 0.51434 ; loss= [0.15133 0.00033 0.09983 0.15101] ;\n",
      "\t valid 1% fpr=, 0.66319 , valid F1= 0.83727 h_valid= 0.34505 ; valid_loss=, [0.83677 0.68644 0.10258 0.15033]\n",
      "1.0 0.0\n",
      "1.0 0.0\n",
      "1.0 0.0\n",
      "1.0 0.0\n",
      "1.0 0.0\n",
      "1.0 0.0\n",
      "1.0 0.0\n",
      "1.0 0.0\n",
      "1.0 0.0\n",
      "1.0 0.0\n",
      "[6.6796554e-31 2.5971816e-05 6.3904846e-20 ... 1.6935516e-13 2.2214459e-12\n",
      " 1.7175037e-35]\n",
      "Iter 130  :1% fpr 0.0 , F1= 1.0 h= 0.52346 ; loss= [0.15076 0.00028 0.09699 0.15048] ;\n",
      "\t valid 1% fpr=, 0.64099 , valid F1= 0.83844 h_valid= 0.34087 ; valid_loss=, [0.85527 0.70543 0.10115 0.14983]\n",
      "1.0 0.0\n",
      "1.0 0.0\n",
      "1.0 0.0\n",
      "1.0 0.0\n",
      "1.0 0.0\n",
      "1.0 0.0\n",
      "1.0 0.0\n",
      "1.0 0.0\n",
      "1.0 0.0\n",
      "1.0 0.0\n",
      "[1.1114552e-24 3.0669858e-04 1.4971510e-16 ... 1.2389013e-13 2.4586242e-07\n",
      " 1.5513967e-30]\n",
      "Iter 140  :1% fpr 0.0 , F1= 1.0 h= 0.51986 ; loss= [0.15272 0.0021  0.08802 0.15063] ;\n",
      "\t valid 1% fpr=, 0.65666 , valid F1= 0.84375 h_valid= 0.36986 ; valid_loss=, [0.71106 0.56106 0.11081 0.15   ]\n",
      "1.0 0.0\n",
      "1.0 0.0\n",
      "1.0 0.0\n",
      "1.0 0.0\n",
      "1.0 0.0\n",
      "1.0 0.0\n",
      "1.0 0.0\n",
      "1.0 0.0\n",
      "1.0 0.0\n",
      "1.0 0.0\n",
      "[8.6490155e-27 9.1479953e-05 7.4319247e-19 ... 1.8742610e-14 2.0728718e-08\n",
      " 6.0888998e-33]\n",
      "Iter 150  :1% fpr 0.0 , F1= 1.0 h= 0.54278 ; loss= [0.15045 0.00049 0.11536 0.14996] ;\n",
      "\t valid 1% fpr=, 0.61358 , valid F1= 0.84066 h_valid= 0.35247 ; valid_loss=, [0.76309 0.61363 0.10571 0.14946]\n",
      "1.0 0.0\n",
      "1.0 0.0\n",
      "1.0 0.0\n",
      "1.0 0.0\n",
      "1.0 0.0\n",
      "1.0 0.0\n",
      "1.0 0.0\n",
      "1.0 0.0\n",
      "1.0 0.0\n",
      "1.0 0.0\n",
      "[8.7908793e-28 3.7631060e-05 2.4979716e-20 ... 5.1119472e-15 3.5942667e-09\n",
      " 1.0032304e-34]\n",
      "Iter 160  :1% fpr 0.0 , F1= 1.0 h= 0.54375 ; loss= [0.14978 0.00035 0.10308 0.14943] ;\n",
      "\t valid 1% fpr=, 0.60705 , valid F1= 0.83679 h_valid= 0.35066 ; valid_loss=, [0.79201 0.64303 0.10339 0.14898]\n",
      "1.0 0.0\n",
      "1.0 0.0\n",
      "1.0 0.0\n",
      "1.0 0.0\n",
      "1.0 0.0\n",
      "1.0 0.0\n",
      "1.0 0.0\n",
      "1.0 0.0\n",
      "1.0 0.0\n",
      "1.0 0.0\n",
      "[1.6248469e-28 2.1247022e-05 1.4222965e-21 ... 1.8241399e-15 9.0143082e-10\n",
      " 4.4510753e-36]\n",
      "Iter 170  :1% fpr 0.0 , F1= 1.0 h= 0.54934 ; loss= [0.14927 0.0003  0.0984  0.14897] ;\n",
      "\t valid 1% fpr=, 0.61749 , valid F1= 0.83553 h_valid= 0.3506 ; valid_loss=, [0.81637 0.66784 0.10133 0.14853]\n",
      "1.0 0.0\n",
      "1.0 0.0\n",
      "1.0 0.0\n",
      "1.0 0.0\n",
      "1.0 0.0\n",
      "1.0 0.0\n",
      "1.0 0.0\n",
      "1.0 0.0\n",
      "1.0 0.0\n",
      "1.0 0.0\n",
      "[2.6514578e-29 1.1015420e-05 1.1468778e-22 ... 6.9820571e-16 2.9324626e-10\n",
      " 3.1782124e-37]\n",
      "Iter 180  :1% fpr 0.0 , F1= 1.0 h= 0.55162 ; loss= [0.14876 0.00024 0.09651 0.14853] ;\n",
      "\t valid 1% fpr=, 0.65796 , valid F1= 0.83437 h_valid= 0.35378 ; valid_loss=, [0.83273 0.68459 0.09959 0.14815]\n",
      "1.0 0.0\n",
      "1.0 0.0\n",
      "1.0 0.0\n",
      "1.0 0.0\n",
      "1.0 0.0\n",
      "1.0 0.0\n",
      "1.0 0.0\n",
      "1.0 0.0\n",
      "1.0 0.0\n",
      "1.0 0.0\n",
      "[7.95856921e-30 6.42701298e-06 1.10380384e-23 ... 2.96273384e-16\n",
      " 1.16663096e-10 2.25533158e-38]\n",
      "Iter 190  :1% fpr 0.0 , F1= 1.0 h= 0.55142 ; loss= [0.14832 0.0002  0.09467 0.14811] ;\n",
      "\t valid 1% fpr=, 0.66057 , valid F1= 0.8338 h_valid= 0.34357 ; valid_loss=, [0.84616 0.69838 0.09779 0.14777]\n",
      "1.0 0.0\n",
      "1.0 0.0\n",
      "1.0 0.0\n",
      "1.0 0.0\n",
      "1.0 0.0\n",
      "1.0 0.0\n",
      "1.0 0.0\n",
      "1.0 0.0\n",
      "1.0 0.0\n",
      "1.0 0.0\n",
      "[2.7512056e-30 2.5974912e-06 1.7772255e-24 ... 1.4289294e-16 5.3548745e-11\n",
      " 0.0000000e+00]\n",
      "Iter 200  :1% fpr 0.0 , F1= 1.0 h= 0.55079 ; loss= [0.14792 0.00018 0.09146 0.14774] ;\n",
      "\t valid 1% fpr=, 0.6436 , valid F1= 0.82859 h_valid= 0.33863 ; valid_loss=, [0.85803 0.71059 0.09627 0.14744]\n",
      "0.0 1.0\n",
      "0.0 1.0\n",
      "0.0 1.0\n",
      "0.0 1.0\n",
      "0.0 1.0\n",
      "0.0 1.0\n",
      "0.0 1.0\n",
      "0.0 1.0\n",
      "0.0 1.0\n",
      "0.0 1.0\n",
      "[1.2391292e-30 9.4177562e-07 2.6730337e-25 ... 5.9974313e-17 2.4256302e-11\n",
      " 0.0000000e+00]\n",
      "Iter 210  :1% fpr 0.0 , F1= 1.0 h= 0.55347 ; loss= [0.14753 0.00016 0.0893  0.14737] ;\n",
      "\t valid 1% fpr=, 0.65144 , valid F1= 0.82869 h_valid= 0.33387 ; valid_loss=, [0.87545 0.72834 0.09493 0.14711]\n",
      "0.0 1.0\n",
      "0.0 1.0\n",
      "0.0 1.0\n",
      "0.0 1.0\n",
      "0.0 1.0\n",
      "0.0 1.0\n",
      "0.0 1.0\n",
      "0.0 1.0\n",
      "0.0 1.0\n",
      "0.0 1.0\n",
      "[7.0108016e-31 7.0303116e-07 5.4538909e-26 ... 3.8623776e-17 1.5047930e-11\n",
      " 0.0000000e+00]\n",
      "Iter 220  :1% fpr 0.0 , F1= 1.0 h= 0.55344 ; loss= [1.4716e-01 1.4000e-04 8.8550e-02 1.4702e-01] ;\n",
      "\t valid 1% fpr=, 0.61358 , valid F1= 0.83068 h_valid= 0.33777 ; valid_loss=, [0.87356 0.72675 0.0935  0.14681]\n",
      "0.0 1.0\n",
      "0.0 1.0\n",
      "0.0 1.0\n",
      "0.0 1.0\n",
      "0.0 1.0\n",
      "0.0 1.0\n",
      "0.0 1.0\n",
      "0.0 1.0\n",
      "0.0 1.0\n",
      "0.0 1.0\n",
      "[1.85484498e-31 1.10882425e-07 7.38729180e-27 ... 1.48179778e-17\n",
      " 5.28919573e-12 0.00000000e+00]\n",
      "Iter 230  :1% fpr 0.0 , F1= 1.0 h= 0.55413 ; loss= [1.4682e-01 1.3000e-04 8.5740e-02 1.4669e-01] ;\n",
      "\t valid 1% fpr=, 0.65927 , valid F1= 0.83181 h_valid= 0.33901 ; valid_loss=, [0.91226 0.76576 0.09193 0.1465 ]\n",
      "0.0 1.0\n",
      "0.0 1.0\n",
      "0.0 1.0\n",
      "0.0 1.0\n",
      "0.0 1.0\n",
      "0.0 1.0\n",
      "0.0 1.0\n",
      "0.0 1.0\n",
      "0.0 1.0\n",
      "0.0 1.0\n",
      "[1.1536606e-31 7.0308360e-08 1.8098228e-27 ... 9.6560457e-18 3.6377184e-12\n",
      " 0.0000000e+00]\n",
      "Iter 240  :1% fpr 0.0 , F1= 1.0 h= 0.54976 ; loss= [1.4650e-01 1.3000e-04 8.5470e-02 1.4637e-01] ;\n",
      "\t valid 1% fpr=, 0.62663 , valid F1= 0.83588 h_valid= 0.33814 ; valid_loss=, [0.90822 0.76197 0.09062 0.14624]\n",
      "0.0 1.0\n",
      "0.0 1.0\n",
      "0.0 1.0\n",
      "0.0 1.0\n",
      "0.0 1.0\n",
      "0.0 1.0\n",
      "0.0 1.0\n",
      "0.0 1.0\n",
      "0.0 1.0\n",
      "0.0 1.0\n",
      "[6.9532413e-32 2.7051696e-08 4.6019966e-28 ... 5.7446143e-18 1.9118637e-12\n",
      " 0.0000000e+00]\n",
      "Iter 250  :1% fpr 0.0 , F1= 1.0 h= 0.54865 ; loss= [1.4618e-01 1.2000e-04 8.2910e-02 1.4607e-01] ;\n",
      "\t valid 1% fpr=, 0.61488 , valid F1= 0.83624 h_valid= 0.34172 ; valid_loss=, [0.92054 0.77456 0.08915 0.14598]\n",
      "0.0 1.0\n",
      "0.0 1.0\n",
      "0.0 1.0\n",
      "0.0 1.0\n",
      "0.0 1.0\n",
      "0.0 1.0\n",
      "0.0 1.0\n",
      "0.0 1.0\n",
      "0.0 1.0\n",
      "0.0 1.0\n",
      "[3.6581514e-32 9.9787716e-09 1.2539665e-28 ... 3.5477917e-18 1.3026318e-12\n",
      " 0.0000000e+00]\n",
      "Iter 260  :1% fpr 0.0 , F1= 1.0 h= 0.54444 ; loss= [1.4588e-01 1.1000e-04 8.1420e-02 1.4577e-01] ;\n",
      "\t valid 1% fpr=, 0.61358 , valid F1= 0.83925 h_valid= 0.33945 ; valid_loss=, [0.92652 0.78081 0.08782 0.14571]\n",
      "0.0 1.0\n",
      "0.0 1.0\n",
      "0.0 1.0\n",
      "0.0 1.0\n",
      "0.0 1.0\n",
      "0.0 1.0\n",
      "0.0 1.0\n",
      "0.0 1.0\n",
      "0.0 1.0\n",
      "0.0 1.0\n",
      "[2.2631985e-32 3.5239474e-09 3.4239715e-29 ... 2.0954960e-18 6.7686850e-13\n",
      " 0.0000000e+00]\n",
      "Iter 270  :1% fpr 0.0 , F1= 1.0 h= 0.54246 ; loss= [1.4559e-01 1.1000e-04 7.9710e-02 1.4548e-01] ;\n",
      "\t valid 1% fpr=, 0.61749 , valid F1= 0.82923 h_valid= 0.33909 ; valid_loss=, [0.94464 0.79915 0.08681 0.14548]\n",
      "0.0 1.0\n",
      "0.0 1.0\n",
      "0.0 1.0\n",
      "0.0 1.0\n",
      "0.0 1.0\n",
      "0.0 1.0\n",
      "0.0 1.0\n",
      "0.0 1.0\n",
      "0.0 1.0\n",
      "0.0 1.0\n",
      "[1.4064853e-32 1.1695993e-09 1.0920900e-29 ... 1.3708670e-18 4.7484602e-13\n",
      " 0.0000000e+00]\n",
      "Iter 280  :1% fpr 0.0 , F1= 1.0 h= 0.53481 ; loss= [1.453e-01 1.000e-04 7.962e-02 1.452e-01] ;\n",
      "\t valid 1% fpr=, 0.60705 , valid F1= 0.83029 h_valid= 0.3402 ; valid_loss=, [0.95241 0.80718 0.08541 0.14522]\n",
      "0.0 1.0\n",
      "0.0 1.0\n",
      "0.0 1.0\n",
      "0.0 1.0\n",
      "0.0 1.0\n",
      "0.0 1.0\n",
      "0.0 1.0\n",
      "0.0 1.0\n",
      "0.0 1.0\n",
      "0.0 1.0\n",
      "[8.4028656e-33 3.6777392e-10 3.9186434e-30 ... 9.0458549e-19 3.5422766e-13\n",
      " 0.0000000e+00]\n",
      "Iter 290  :1% fpr 0.0 , F1= 1.0 h= 0.5349 ; loss= [1.4502e-01 1.0000e-04 7.7740e-02 1.4493e-01] ;\n",
      "\t valid 1% fpr=, 0.60313 , valid F1= 0.82947 h_valid= 0.34101 ; valid_loss=, [0.96169 0.81669 0.0843  0.14499]\n",
      "0.0 1.0\n",
      "0.0 1.0\n",
      "0.0 1.0\n",
      "0.0 1.0\n",
      "0.0 1.0\n",
      "0.0 1.0\n",
      "0.0 1.0\n",
      "0.0 1.0\n",
      "0.0 1.0\n",
      "0.0 1.0\n",
      "saving model to: ./results/dec/DEC_model_final.h5\n",
      "0 413 0 1.0\n",
      "1 75 0 0.9333333333333333\n",
      "2 675 0 1.0\n",
      "3 9 1 1.0\n",
      "4 420 1 0.7666666666666667\n",
      "5 1586 0 0.9974779319041615\n",
      "6 1796 0 0.7912026726057907\n",
      "7 932 1 0.7628755364806867\n",
      "8 0 0 nan\n",
      "9 1010 1 0.8722772277227723\n",
      "[0. 1.] [0 1]\n",
      "[0, 0, 0, 1, 1, 0, 0, 1, 0, 1]\n"
     ]
    },
    {
     "name": "stderr",
     "output_type": "stream",
     "text": [
      "/Users/dwright/anaconda2/envs/aind/lib/python3.6/site-packages/numpy/core/fromnumeric.py:2957: RuntimeWarning: Mean of empty slice.\n",
      "  out=out, **kwargs)\n",
      "/Users/dwright/anaconda2/envs/aind/lib/python3.6/site-packages/numpy/core/_methods.py:73: RuntimeWarning: invalid value encountered in true_divide\n",
      "  ret, rcount, out=ret, casting='unsafe', subok=False)\n"
     ]
    }
   ],
   "source": [
    "y_pred, metrics_dict = dec.clustering(x_train, np_utils.to_categorical(y_train), \\\n",
    "                                      (x_valid, np_utils.to_categorical(y_valid)), \\\n",
    "                                      pretrained_weights=dec_weights, maxiter=300)"
   ]
  },
  {
   "cell_type": "code",
   "execution_count": 9,
   "metadata": {
    "collapsed": false
   },
   "outputs": [
    {
     "data": {
      "image/png": "[encoded data removed]",
      "text/plain": [
       "<matplotlib.figure.Figure at 0x12957b400>"
      ]
     },
     "metadata": {},
     "output_type": "display_data"
    }
   ],
   "source": [
    "plt.plot(metrics_dict['iteration'], metrics_dict['train_f1'])\n",
    "plt.plot(metrics_dict['iteration'], metrics_dict['valid_f1'])\n",
    "plt.show()"
   ]
  },
  {
   "cell_type": "code",
   "execution_count": 10,
   "metadata": {
    "collapsed": false
   },
   "outputs": [
    {
     "data": {
      "image/png": "[encoded data removed]",
      "text/plain": [
       "<matplotlib.figure.Figure at 0x1292b39b0>"
      ]
     },
     "metadata": {},
     "output_type": "display_data"
    }
   ],
   "source": [
    "plt.plot(metrics_dict['iteration'], metrics_dict['train_fom'])\n",
    "plt.plot(metrics_dict['iteration'], metrics_dict['valid_fom'])\n",
    "plt.show()"
   ]
  },
  {
   "cell_type": "code",
   "execution_count": 11,
   "metadata": {
    "collapsed": false
   },
   "outputs": [
    {
     "data": {
      "image/png": "[encoded data removed]",
      "text/plain": [
       "<matplotlib.figure.Figure at 0x12987f390>"
      ]
     },
     "metadata": {},
     "output_type": "display_data"
    }
   ],
   "source": [
    "plt.plot(metrics_dict['iteration'], metrics_dict['train_h'])\n",
    "plt.plot(metrics_dict['iteration'], metrics_dict['valid_h'])\n",
    "plt.show()"
   ]
  },
  {
   "cell_type": "markdown",
   "metadata": {},
   "source": [
    "## First Vote Only"
   ]
  },
  {
   "cell_type": "code",
   "execution_count": 4,
   "metadata": {
    "collapsed": false
   },
   "outputs": [],
   "source": [
    "data = sio.loadmat('/Users/dwright/dev/zoo/machine_augmented_classification/data/snhunters/3pi_20x20_skew2_signPreserveNorm_volunteer_votes_first_only.mat')\n",
    "y_train  = np.squeeze(data['y']) == 'Yes'                                                                                       \n",
    "#y_valid  = np.squeeze(data['y_test']) == 'Yes'                                                                                   \n",
    "data = sio.loadmat('/Users/dwright/dev/zoo/machine_augmented_classification/data/snhunters/3pi_20x20_skew2_signPreserveNorm.mat')\n",
    "x_train = data['X']\n",
    "x_valid = data['testX']\n",
    "y_valid = np.squeeze(data['testy'])"
   ]
  },
  {
   "cell_type": "code",
   "execution_count": 5,
   "metadata": {
    "collapsed": false
   },
   "outputs": [
    {
     "ename": "NameError",
     "evalue": "name 'MultitaskDEC' is not defined",
     "output_type": "error",
     "traceback": [
      "\u001b[0;31m---------------------------------------------------------------------------\u001b[0m",
      "\u001b[0;31mNameError\u001b[0m                                 Traceback (most recent call last)",
      "\u001b[0;32m<ipython-input-5-b2684f8d460c>\u001b[0m in \u001b[0;36m<module>\u001b[0;34m()\u001b[0m\n\u001b[0;32m----> 1\u001b[0;31m \u001b[0mdec\u001b[0m \u001b[0;34m=\u001b[0m \u001b[0mMultitaskDEC\u001b[0m\u001b[0;34m(\u001b[0m\u001b[0mdims\u001b[0m\u001b[0;34m=\u001b[0m\u001b[0;34m[\u001b[0m\u001b[0mx_valid\u001b[0m\u001b[0;34m.\u001b[0m\u001b[0mshape\u001b[0m\u001b[0;34m[\u001b[0m\u001b[0;34m-\u001b[0m\u001b[0;36m1\u001b[0m\u001b[0;34m]\u001b[0m\u001b[0;34m,\u001b[0m \u001b[0;36m500\u001b[0m\u001b[0;34m,\u001b[0m \u001b[0;36m500\u001b[0m\u001b[0;34m,\u001b[0m \u001b[0;36m2000\u001b[0m\u001b[0;34m,\u001b[0m \u001b[0;36m10\u001b[0m\u001b[0;34m]\u001b[0m\u001b[0;34m,\u001b[0m                    \u001b[0mn_clusters\u001b[0m\u001b[0;34m=\u001b[0m\u001b[0mn_clusters\u001b[0m\u001b[0;34m,\u001b[0m \u001b[0mbatch_size\u001b[0m\u001b[0;34m=\u001b[0m\u001b[0mbatch_size\u001b[0m\u001b[0;34m)\u001b[0m\u001b[0;34m\u001b[0m\u001b[0m\n\u001b[0m\u001b[1;32m      2\u001b[0m dec.initialize_model(optimizer=SGD(lr=lr, momentum=momentum),\n\u001b[1;32m      3\u001b[0m                      \u001b[0mae_weights\u001b[0m\u001b[0;34m=\u001b[0m\u001b[0mae_weights\u001b[0m\u001b[0;34m,\u001b[0m\u001b[0;34m\u001b[0m\u001b[0m\n\u001b[1;32m      4\u001b[0m                      x=x_train)\n\u001b[1;32m      5\u001b[0m \u001b[0mdec\u001b[0m\u001b[0;34m.\u001b[0m\u001b[0mmodel\u001b[0m\u001b[0;34m.\u001b[0m\u001b[0mload_weights\u001b[0m\u001b[0;34m(\u001b[0m\u001b[0mdec_weights\u001b[0m\u001b[0;34m)\u001b[0m\u001b[0;34m\u001b[0m\u001b[0m\n",
      "\u001b[0;31mNameError\u001b[0m: name 'MultitaskDEC' is not defined"
     ]
    }
   ],
   "source": [
    "dec = MultitaskDEC(dims=[x_valid.shape[-1], 500, 500, 2000, 10], \\\n",
    "                   n_clusters=n_clusters, batch_size=batch_size)\n",
    "dec.initialize_model(optimizer=SGD(lr=lr, momentum=momentum),\n",
    "                     ae_weights=ae_weights,\n",
    "                     x=x_train)\n",
    "dec.model.load_weights(dec_weights)"
   ]
  },
  {
   "cell_type": "code",
   "execution_count": null,
   "metadata": {
    "collapsed": false,
    "scrolled": false
   },
   "outputs": [],
   "source": [
    "y_pred, metrics_dict = dec.clustering(x_train, np_utils.to_categorical(y_train), \\\n",
    "                                      (x_valid, np_utils.to_categorical(y_valid)), \\\n",
    "                                      pretrained_weights=dec_weights, maxiter=100)"
   ]
  },
  {
   "cell_type": "code",
   "execution_count": 11,
   "metadata": {
    "collapsed": false
   },
   "outputs": [
    {
     "name": "stdout",
     "output_type": "stream",
     "text": [
      "0.7223326706428097\n"
     ]
    }
   ],
   "source": [
    "data = sio.loadmat('/Users/dwright/dev/zoo/machine_augmented_classification/data/snhunters/3pi_20x20_skew2_signPreserveNorm_volunteer_votes_first_only.mat')\n",
    "human_f1_benchmark = f1_score(y_valid, np.squeeze(data['y_test']) == 'Yes')\n",
    "print(human_f1_benchmark)"
   ]
  },
  {
   "cell_type": "code",
   "execution_count": null,
   "metadata": {
    "collapsed": false
   },
   "outputs": [],
   "source": [
    "plt.plot(metrics_dict['iteration'], metrics_dict['train_f1'])\n",
    "plt.plot(metrics_dict['iteration'], metrics_dict['valid_f1'])\n",
    "plt.plot(metrics_dict['iteration'], human_f1_benchmark*np.ones(np.array(metrics_dict['iteration']).shape), 'k--')\n",
    "plt.show()"
   ]
  },
  {
   "cell_type": "code",
   "execution_count": null,
   "metadata": {
    "collapsed": false
   },
   "outputs": [],
   "source": [
    "plt.plot(metrics_dict['iteration'], metrics_dict['train_fom'])\n",
    "plt.plot(metrics_dict['iteration'], metrics_dict['valid_fom'])\n",
    "plt.show()"
   ]
  },
  {
   "cell_type": "code",
   "execution_count": null,
   "metadata": {
    "collapsed": false
   },
   "outputs": [],
   "source": [
    "plt.plot(metrics_dict['iteration'], metrics_dict['train_h'])\n",
    "plt.plot(metrics_dict['iteration'], metrics_dict['valid_h'])\n",
    "plt.show()"
   ]
  },
  {
   "cell_type": "markdown",
   "metadata": {},
   "source": [
    "## Vote Fraction Analysis"
   ]
  },
  {
   "cell_type": "code",
   "execution_count": 12,
   "metadata": {
    "collapsed": false
   },
   "outputs": [],
   "source": [
    "vote_fraction_dict = pickle.load(open('/Users/dwright/dev/zoo/data/supernova-hunters-vote-fraction-dict.pkl', 'rb'))"
   ]
  },
  {
   "cell_type": "code",
   "execution_count": 13,
   "metadata": {
    "collapsed": false
   },
   "outputs": [
    {
     "name": "stdout",
     "output_type": "stream",
     "text": [
      "1170747061421652300_56452.478_26471976_55_diff\n",
      "['1001246931044034000_56559.503_28601931_52_diff', '1001246931044034000_56559.540_28606628_57_diff', '1001246931044034000_56559.515_28603056_68_diff', '1001246931044034000_56559.527_28604731_58_diff']\n"
     ]
    }
   ],
   "source": [
    "train_files = []\n",
    "for f in data['train_files']:\n",
    "  train_files.append(f.strip().replace('.fits',''))\n",
    "print(train_files[0])\n",
    "#train_files = set(train_files)\n",
    "print(list(set([i for i in train_files if train_files.count(i)>1])))"
   ]
  },
  {
   "cell_type": "code",
   "execution_count": 14,
   "metadata": {
    "collapsed": false
   },
   "outputs": [
    {
     "name": "stdout",
     "output_type": "stream",
     "text": [
      "1140125671321051200_56734.594_31357137_58_diff\n",
      "['1013335101303600300_56578.525_28830506_29_diff', '1001246931044034000_56569.512_28729009_121_diff', '1001246931044034000_56569.500_28727063_116_diff', '1013335101303600300_56578.536_28832078_27_diff']\n"
     ]
    }
   ],
   "source": [
    "valid_files = []\n",
    "for f in data['test_files']:\n",
    "  valid_files.append(f.strip().replace('.fits',''))\n",
    "print(valid_files[0])\n",
    "#train_files = set(train_files)\n",
    "print(list(set([i for i in valid_files if valid_files.count(i)>1])))"
   ]
  },
  {
   "cell_type": "code",
   "execution_count": 15,
   "metadata": {
    "collapsed": false
   },
   "outputs": [
    {
     "name": "stdout",
     "output_type": "stream",
     "text": [
      "0.03125\n",
      "0.6190476190476191\n"
     ]
    }
   ],
   "source": [
    "vote_fractions_train = []\n",
    "vote_fractions_valid = []\n",
    "seen = []\n",
    "for diff in train_files:\n",
    "  vote_fractions_train.append(vote_fraction_dict[diff])\n",
    "  seen.append(diff)\n",
    "for diff in valid_files:\n",
    "  vote_fractions_valid.append(vote_fraction_dict[diff])\n",
    "print(vote_fractions_train[0])\n",
    "print(vote_fractions_valid[0])\n",
    "vote_fractions_train = np.array(vote_fractions_train)\n",
    "vote_fractions_valid = np.array(vote_fractions_valid)"
   ]
  },
  {
   "cell_type": "code",
   "execution_count": 16,
   "metadata": {
    "collapsed": false
   },
   "outputs": [
    {
     "data": {
      "image/png": "[encoded data removed]",
      "text/plain": [
       "<matplotlib.figure.Figure at 0x118a129b0>"
      ]
     },
     "metadata": {},
     "output_type": "display_data"
    }
   ],
   "source": [
    "data = sio.loadmat('/Users/dwright/dev/zoo/machine_augmented_classification/data/snhunters/3pi_20x20_skew2_signPreserveNorm.mat')\n",
    "y_train_true = np.squeeze(data['y'])\n",
    "bins = [x for x in np.arange(0,1.04,0.04)]\n",
    "plt.hist(vote_fractions_train[np.where(y_train_true==0)], alpha=0.5)\n",
    "plt.hist(vote_fractions_train[np.where(y_train_true==1)], alpha=0.5)\n",
    "plt.show()"
   ]
  },
  {
   "cell_type": "code",
   "execution_count": 17,
   "metadata": {
    "collapsed": true
   },
   "outputs": [],
   "source": [
    "y_train_vote_fractions = vote_fractions_train > 0.5\n",
    "y_valid_vote_fractions = vote_fractions_valid > 0.5"
   ]
  },
  {
   "cell_type": "code",
   "execution_count": 18,
   "metadata": {
    "collapsed": false
   },
   "outputs": [],
   "source": [
    "human_vote_fraction_benchmark = f1_score(y_valid, y_valid_vote_fractions)"
   ]
  },
  {
   "cell_type": "code",
   "execution_count": 19,
   "metadata": {
    "collapsed": true
   },
   "outputs": [],
   "source": [
    "dec = MultitaskDEC(dims=[x_valid.shape[-1], 500, 500, 2000, 10], \\\n",
    "                   n_clusters=n_clusters, batch_size=batch_size)\n",
    "dec.initialize_model(optimizer=SGD(lr=lr, momentum=momentum),\n",
    "                     ae_weights=ae_weights,\n",
    "                     x=x_train)\n",
    "dec.model.load_weights(dec_weights)"
   ]
  },
  {
   "cell_type": "code",
   "execution_count": 21,
   "metadata": {
    "collapsed": true
   },
   "outputs": [],
   "source": [
    "cluster_centres = get_cluster_centres(dec)\n",
    "labels = [str(i) for i in range(n_clusters)]"
   ]
  },
  {
   "cell_type": "code",
   "execution_count": 22,
   "metadata": {
    "collapsed": false
   },
   "outputs": [
    {
     "data": {
      "image/png": "[encoded data removed]",
      "text/plain": [
       "<matplotlib.figure.Figure at 0x120b0a9b0>"
      ]
     },
     "metadata": {},
     "output_type": "display_data"
    }
   ],
   "source": [
    "pca_plot(dec.encoder, x_train, cluster_centres, y=y_train, labels=labels, lcolours=[lcolours[0], lcolours[1]])"
   ]
  },
  {
   "cell_type": "code",
   "execution_count": 23,
   "metadata": {
    "collapsed": false
   },
   "outputs": [
    {
     "data": {
      "image/png": "[encoded data removed]",
      "text/plain": [
       "<matplotlib.figure.Figure at 0x11dbb4710>"
      ]
     },
     "metadata": {},
     "output_type": "display_data"
    }
   ],
   "source": [
    "pca_plot(dec.encoder, x_valid, cluster_centres, y=y_valid, labels=labels, lcolours=[lcolours[0], lcolours[1]])"
   ]
  },
  {
   "cell_type": "code",
   "execution_count": 24,
   "metadata": {
    "collapsed": false
   },
   "outputs": [],
   "source": [
    "best_mapping_benchmark, _ = get_best_mapping(y_valid, dec.predict_clusters(x_valid), n_clusters, calc_f1_score)"
   ]
  },
  {
   "cell_type": "code",
   "execution_count": 25,
   "metadata": {
    "collapsed": false,
    "scrolled": false
   },
   "outputs": [
    {
     "name": "stdout",
     "output_type": "stream",
     "text": [
      "Update interval 10\n",
      "Save interval 135.078125\n",
      "0 117 0 1.0\n",
      "1 328 0 0.7652439024390244\n",
      "2 710 0 0.7507042253521127\n",
      "3 1069 0 0.7567820392890552\n",
      "4 365 0 0.6876712328767123\n",
      "5 1673 0 0.6210400478182905\n",
      "6 1460 0 0.8397260273972603\n",
      "7 690 0 0.6898550724637681\n",
      "8 2 0 1.0\n",
      "9 502 0 0.7071713147410359\n",
      "[0. 1.] [0]\n",
      "[0, 0, 0, 0, 0, 1, 0, 0, 0, 0]\n",
      "5\n",
      "Iter 0  :1% fpr 0.98761 , F1= 0.23834 , F1c= 0.35921 h= 0.03551 ; loss= [0 0 0] ;\n",
      " valid 1% fpr=, 0.98303 , valid F1= 0.23321 , valid F1c= 0.35969 h_valid= 0.0398 ; valid_loss=, [1.00892 0.70526 0.0681  0.30365]\n",
      "saving model:  [inf, inf, inf]  ->  [1.00892 0.70526 0.0681  0.30365]\n",
      "1.0 0.0 1.0\n",
      "saving model to: ./results/dec/DEC_model_0.h5\n",
      "1.0 0.0 1.0\n",
      "1.0 0.0 1.0\n",
      "1.0 0.0 1.0\n",
      "1.0 0.0 1.0\n",
      "1.0 0.0 1.0\n",
      "1.0 0.0 1.0\n",
      "1.0 0.0 1.0\n",
      "1.0 0.0 1.0\n",
      "1.0 0.0 1.0\n"
     ]
    },
    {
     "name": "stderr",
     "output_type": "stream",
     "text": [
      "/Users/dwright/anaconda2/envs/aind/lib/python3.6/site-packages/numpy/core/fromnumeric.py:2957: RuntimeWarning: Mean of empty slice.\n",
      "  out=out, **kwargs)\n",
      "/Users/dwright/anaconda2/envs/aind/lib/python3.6/site-packages/numpy/core/_methods.py:73: RuntimeWarning: invalid value encountered in true_divide\n",
      "  ret, rcount, out=ret, casting='unsafe', subok=False)\n"
     ]
    },
    {
     "name": "stdout",
     "output_type": "stream",
     "text": [
      "Iter 10  :1% fpr 0.83037 , F1= 0.76279 , F1c= 0.82329 h= 0.55899 ; loss= [0.44963 0.29106 3.29903 0.15857] ;\n",
      " valid 1% fpr=, 0.70496 , valid F1= 0.63884 , valid F1c= 0.73763 h_valid= 0.46411 ; valid_loss=, [0.56925 0.41202 0.12393 0.15723]\n",
      "saving model:  [1.00892 0.70526 0.0681  0.30365]  ->  [0.56925 0.41202 0.12393 0.15723]\n",
      "1.0 0.0 1.0\n",
      "1.0 0.0 1.0\n",
      "1.0 0.0 1.0\n",
      "1.0 0.0 1.0\n",
      "1.0 0.0 1.0\n",
      "1.0 0.0 1.0\n",
      "1.0 0.0 1.0\n",
      "1.0 0.0 1.0\n",
      "1.0 0.0 1.0\n",
      "1.0 0.0 1.0\n",
      "Iter 20  :1% fpr 0.30318 , F1= 0.9127 , F1c= 0.91175 h= 0.73535 ; loss= [0.31283 0.1574  0.39575 0.15543] ;\n",
      " valid 1% fpr=, 0.75065 , valid F1= 0.74907 , valid F1c= 0.76238 h_valid= 0.4295 ; valid_loss=, [0.57156 0.41551 0.11095 0.15605]\n",
      "1.0 0.0 1.0\n",
      "1.0 0.0 1.0\n",
      "1.0 0.0 1.0\n",
      "1.0 0.0 1.0\n",
      "1.0 0.0 1.0\n",
      "1.0 0.0 1.0\n",
      "1.0 0.0 1.0\n",
      "1.0 0.0 1.0\n",
      "1.0 0.0 1.0\n",
      "1.0 0.0 1.0\n",
      "Iter 30  :1% fpr 0.79214 , F1= 0.91537 , F1c= 0.91591 h= 0.74736 ; loss= [0.30068 0.14736 0.31989 0.15331] ;\n",
      " valid 1% fpr=, 0.82768 , valid F1= 0.76384 , valid F1c= 0.76384 h_valid= 0.40581 ; valid_loss=, [0.64121 0.48711 0.09879 0.1541 ]\n",
      "1.0 0.0 1.0\n",
      "1.0 0.0 1.0\n",
      "1.0 0.0 1.0\n",
      "1.0 0.0 1.0\n",
      "1.0 0.0 1.0\n",
      "1.0 0.0 1.0\n",
      "1.0 0.0 1.0\n",
      "1.0 0.0 1.0\n",
      "1.0 0.0 1.0\n",
      "1.0 0.0 1.0\n",
      "Iter 40  :1% fpr 0.99946 , F1= 0.77994 , F1c= 0.7866 h= 0.52693 ; loss= [0.25651 0.10555 0.3369  0.15097] ;\n",
      " valid 1% fpr=, 0.98172 , valid F1= 0.74493 , valid F1c= 0.74346 h_valid= 0.32721 ; valid_loss=, [0.84074 0.68128 0.098   0.15947]\n",
      "1.0 0.0 1.0\n",
      "1.0 0.0 1.0\n",
      "1.0 0.0 1.0\n",
      "1.0 0.0 1.0\n",
      "1.0 0.0 1.0\n",
      "1.0 0.0 1.0\n",
      "1.0 0.0 1.0\n",
      "1.0 0.0 1.0\n",
      "1.0 0.0 1.0\n",
      "1.0 0.0 1.0\n",
      "Iter 50  :1% fpr 0.11632 , F1= 0.95142 , F1c= 0.95492 h= 0.85014 ; loss= [0.24295 0.09231 0.76201 0.15064] ;\n",
      " valid 1% fpr=, 0.89817 , valid F1= 0.75469 , valid F1c= 0.72307 h_valid= 0.37812 ; valid_loss=, [0.7252  0.57587 0.09942 0.14933]\n",
      "0.0 1.0 1.0\n",
      "0.0 1.0 1.0\n",
      "0.0 1.0 1.0\n",
      "0.0 1.0 1.0\n",
      "0.0 1.0 1.0\n",
      "0.0 1.0 1.0\n",
      "0.0 1.0 1.0\n",
      "0.0 1.0 1.0\n",
      "0.0 1.0 1.0\n",
      "0.0 1.0 1.0\n",
      "Iter 60  :1% fpr 0.09962 , F1= 0.9252 , F1c= 0.95497 h= 0.8685 ; loss= [0.20297 0.05655 0.2064  0.14642] ;\n",
      " valid 1% fpr=, 0.89295 , valid F1= 0.61176 , valid F1c= 0.72835 h_valid= 0.31979 ; valid_loss=, [0.94812 0.79871 0.0939  0.14941]\n",
      "0.0 1.0 1.0\n",
      "0.0 1.0 1.0\n",
      "0.0 1.0 1.0\n",
      "0.0 1.0 1.0\n",
      "0.0 1.0 1.0\n",
      "0.0 1.0 1.0\n",
      "0.0 1.0 1.0\n",
      "0.0 1.0 1.0\n",
      "0.0 1.0 1.0\n",
      "0.0 1.0 1.0\n",
      "Iter 70  :1% fpr 0.02908 , F1= 0.97525 , F1c= 0.97163 h= 0.91078 ; loss= [0.20115 0.05659 0.18661 0.14456] ;\n",
      " valid 1% fpr=, 0.87728 , valid F1= 0.72865 , valid F1c= 0.69605 h_valid= 0.38706 ; valid_loss=, [0.81622 0.66726 0.09131 0.14896]\n",
      "0.0 1.0 1.0\n",
      "0.0 1.0 1.0\n",
      "0.0 1.0 1.0\n",
      "0.0 1.0 1.0\n",
      "0.0 1.0 1.0\n",
      "0.0 1.0 1.0\n",
      "0.0 1.0 1.0\n",
      "0.0 1.0 1.0\n",
      "0.0 1.0 1.0\n",
      "0.0 1.0 1.0\n",
      "Iter 80  :1% fpr 0.02962 , F1= 0.96595 , F1c= 0.96139 h= 0.91815 ; loss= [0.20127 0.05777 0.1448  0.1435 ] ;\n",
      " valid 1% fpr=, 0.8812 , valid F1= 0.66404 , valid F1c= 0.75683 h_valid= 0.34422 ; valid_loss=, [0.90345 0.75848 0.09311 0.14496]\n",
      "0.0 1.0 1.0\n",
      "0.0 1.0 1.0\n",
      "0.0 1.0 1.0\n",
      "0.0 1.0 1.0\n",
      "0.0 1.0 1.0\n",
      "0.0 1.0 1.0\n",
      "0.0 1.0 1.0\n",
      "0.0 1.0 1.0\n",
      "0.0 1.0 1.0\n",
      "0.0 1.0 1.0\n",
      "Iter 90  :1% fpr 0.04577 , F1= 0.9624 , F1c= 0.96884 h= 0.88919 ; loss= [0.18767 0.04573 0.14947 0.14193] ;\n",
      " valid 1% fpr=, 0.75587 , valid F1= 0.75827 , valid F1c= 0.75804 h_valid= 0.40328 ; valid_loss=, [0.79568 0.6507  0.08277 0.14498]\n",
      "0.0 1.0 1.0\n",
      "0.0 1.0 1.0\n",
      "0.0 1.0 1.0\n",
      "0.0 1.0 1.0\n",
      "0.0 1.0 1.0\n",
      "0.0 1.0 1.0\n",
      "0.0 1.0 1.0\n",
      "0.0 1.0 1.0\n",
      "0.0 1.0 1.0\n",
      "0.0 1.0 1.0\n",
      "saving model to: ./results/dec/DEC_model_final.h5\n",
      "0 0 0 nan\n",
      "1 1 0 1.0\n",
      "2 0 0 nan\n",
      "3 1937 1 0.9411461022199277\n",
      "4 270 0 0.9037037037037037\n",
      "5 2 0 1.0\n",
      "6 10 1 0.7\n",
      "7 3 0 1.0\n",
      "8 0 0 nan\n",
      "9 4693 0 0.9997869166844237\n",
      "[0. 1.] [0 1]\n",
      "[0, 0, 0, 1, 0, 0, 1, 0, 0, 0]\n"
     ]
    }
   ],
   "source": [
    "y_pred, metrics_dict = dec.clustering(x_train, np_utils.to_categorical(y_train_vote_fractions), \\\n",
    "                                      (x_valid, np_utils.to_categorical(y_valid)), \\\n",
    "                                      pretrained_weights=dec_weights, maxiter=100, \\\n",
    "                                      alpha=K.variable(1.0), beta=K.variable(0.0), gamma=K.variable(1.0),  \\\n",
    "                                      loss_weight_decay=True)"
   ]
  },
  {
   "cell_type": "code",
   "execution_count": 26,
   "metadata": {
    "collapsed": false
   },
   "outputs": [
    {
     "name": "stdout",
     "output_type": "stream",
     "text": [
      "0.4991854024112088\n"
     ]
    }
   ],
   "source": [
    "all_ones_benchmark = f1_score(y_valid, np.ones(y_valid.shape))\n",
    "print(all_ones_benchmark)"
   ]
  },
  {
   "cell_type": "code",
   "execution_count": 42,
   "metadata": {
    "collapsed": false
   },
   "outputs": [
    {
     "name": "stderr",
     "output_type": "stream",
     "text": [
      "/Users/dwright/anaconda2/envs/aind/lib/python3.6/site-packages/matplotlib/axes/_axes.py:545: UserWarning: No labelled objects found. Use label='...' kwarg on individual plots.\n",
      "  warnings.warn(\"No labelled objects found. \"\n"
     ]
    },
    {
     "data": {
      "image/png": "[encoded data removed]",
      "text/plain": [
       "<matplotlib.figure.Figure at 0x12a0cbb70>"
      ]
     },
     "metadata": {},
     "output_type": "display_data"
    }
   ],
   "source": [
    "fig = plt.figure()\n",
    "ax1 = fig.add_subplot(111)\n",
    "ax1.plot(metrics_dict['iteration'], metrics_dict['train_f1'], label='train')\n",
    "ax1.plot(metrics_dict['iteration'], metrics_dict['valid_f1'], label='validation')\n",
    "ax1.set_xlim(0,metrics_dict['iteration'][-1])\n",
    "ax1.set_ylim(-0.01,1.01)\n",
    "ax1.set_xlabel('iteration')\n",
    "ax1.set_ylabel('f1 score')\n",
    "\n",
    "ax2 = fig.add_subplot(111, sharex=ax1, frameon=False)\n",
    "ax2.yaxis.tick_right()\n",
    "ax2.yaxis.set_label_position(\"right\")\n",
    "ax2.plot(metrics_dict['iteration'], human_f1_benchmark*np.ones(np.array(metrics_dict['iteration']).shape), 'k--')\n",
    "ax2.plot(metrics_dict['iteration'], human_vote_fraction_benchmark*np.ones(np.array(metrics_dict['iteration']).shape), 'k--')\n",
    "ax2.plot(metrics_dict['iteration'], all_ones_benchmark*np.ones(np.array(metrics_dict['iteration']).shape), 'k--')\n",
    "ax2.set_xlim(0,metrics_dict['iteration'][-1])\n",
    "ax2.set_ylim(-0.01,1.01)\n",
    "ax2.set_yticks([all_ones_benchmark, human_f1_benchmark, human_vote_fraction_benchmark])\n",
    "ax2.set_yticklabels(['all ones', 'single volunteer', 'vote fractions'])\n",
    "plt.legend(loc='lower center')\n",
    "plt.show()"
   ]
  },
  {
   "cell_type": "code",
   "execution_count": 43,
   "metadata": {
    "collapsed": false
   },
   "outputs": [
    {
     "name": "stderr",
     "output_type": "stream",
     "text": [
      "/Users/dwright/anaconda2/envs/aind/lib/python3.6/site-packages/matplotlib/axes/_axes.py:545: UserWarning: No labelled objects found. Use label='...' kwarg on individual plots.\n",
      "  warnings.warn(\"No labelled objects found. \"\n"
     ]
    },
    {
     "data": {
      "image/png": "[encoded data removed]",
      "text/plain": [
       "<matplotlib.figure.Figure at 0x129f71748>"
      ]
     },
     "metadata": {},
     "output_type": "display_data"
    }
   ],
   "source": [
    "fig = plt.figure()\n",
    "ax1 = fig.add_subplot(111)\n",
    "ax1.plot(metrics_dict['iteration'], metrics_dict['train_f1c'], label='train')\n",
    "ax1.plot(metrics_dict['iteration'], metrics_dict['valid_f1c'], label='validation')\n",
    "ax1.set_xlim(0,metrics_dict['iteration'][-1])\n",
    "ax1.set_ylim(-0.01,1.01)\n",
    "ax1.set_xlabel('iteration')\n",
    "ax1.set_ylabel('clustering f1 score')\n",
    "\n",
    "ax2 = fig.add_subplot(111, sharex=ax1, frameon=False)\n",
    "ax2.yaxis.tick_right()\n",
    "ax2.yaxis.set_label_position(\"right\")\n",
    "ax2.plot(metrics_dict['iteration'], best_mapping_benchmark*np.ones(np.array(metrics_dict['iteration']).shape), 'k--')\n",
    "ax2.set_xlim(0,metrics_dict['iteration'][-1])\n",
    "ax2.set_ylim(-0.01,1.01)\n",
    "ax2.set_yticks([best_mapping_benchmark])\n",
    "ax2.set_yticklabels(['best mapping'])\n",
    "plt.legend(loc='lower center')\n",
    "plt.show()"
   ]
  },
  {
   "cell_type": "code",
   "execution_count": 29,
   "metadata": {
    "collapsed": false
   },
   "outputs": [
    {
     "data": {
      "image/png": "[encoded data removed]",
      "text/plain": [
       "<matplotlib.figure.Figure at 0x127eba7f0>"
      ]
     },
     "metadata": {},
     "output_type": "display_data"
    }
   ],
   "source": [
    "plt.plot(metrics_dict['iteration'], metrics_dict['train_fom'], label='train')\n",
    "plt.plot(metrics_dict['iteration'], metrics_dict['valid_fom'], label='validation')\n",
    "plt.xlim(0,metrics_dict['iteration'][-1])\n",
    "plt.ylim(-0.01,1.01)\n",
    "plt.xlabel('iteration')\n",
    "plt.ylabel('MDR at fixed 1% FPR')\n",
    "plt.legend(loc='lower left')\n",
    "plt.show()"
   ]
  },
  {
   "cell_type": "code",
   "execution_count": 30,
   "metadata": {
    "collapsed": false
   },
   "outputs": [
    {
     "data": {
      "image/png": "[encoded data removed]",
      "text/plain": [
       "<matplotlib.figure.Figure at 0x128332390>"
      ]
     },
     "metadata": {},
     "output_type": "display_data"
    }
   ],
   "source": [
    "plt.plot(metrics_dict['iteration'], metrics_dict['train_h'], label='train')\n",
    "plt.plot(metrics_dict['iteration'], metrics_dict['valid_h'], label='validation')\n",
    "plt.xlim(0,metrics_dict['iteration'][-1])\n",
    "plt.ylim(-0.01,1.01)\n",
    "plt.xlabel('iteration')\n",
    "plt.ylabel('homogeneity')\n",
    "plt.legend(loc='lower center')\n",
    "plt.show()"
   ]
  },
  {
   "cell_type": "code",
   "execution_count": 31,
   "metadata": {
    "collapsed": false
   },
   "outputs": [],
   "source": [
    "cluster_centres = get_cluster_centres(dec)\n",
    "labels = [str(i) for i in range(n_clusters)]"
   ]
  },
  {
   "cell_type": "code",
   "execution_count": 32,
   "metadata": {
    "collapsed": false
   },
   "outputs": [
    {
     "data": {
      "image/png": "[encoded data removed]",
      "text/plain": [
       "<matplotlib.figure.Figure at 0x1273a9a20>"
      ]
     },
     "metadata": {},
     "output_type": "display_data"
    }
   ],
   "source": [
    "pca_plot(dec.encoder, x_train, cluster_centres, y=y_train, labels=labels, lcolours=[lcolours[0], lcolours[1]])"
   ]
  },
  {
   "cell_type": "code",
   "execution_count": 33,
   "metadata": {
    "collapsed": false
   },
   "outputs": [
    {
     "data": {
      "image/png": "[encoded data removed]",
      "text/plain": [
       "<matplotlib.figure.Figure at 0x11ef0e550>"
      ]
     },
     "metadata": {},
     "output_type": "display_data"
    }
   ],
   "source": [
    "pca_plot(dec.encoder, x_valid, cluster_centres, y=y_valid, labels=labels, lcolours=[lcolours[0], lcolours[1]])"
   ]
  },
  {
   "cell_type": "code",
   "execution_count": null,
   "metadata": {
    "collapsed": true
   },
   "outputs": [],
   "source": []
  }
 ],
 "metadata": {
  "kernelspec": {
   "display_name": "Python [aind]",
   "language": "python",
   "name": "Python [aind]"
  },
  "language_info": {
   "codemirror_mode": {
    "name": "ipython",
    "version": 3
   },
   "file_extension": ".py",
   "mimetype": "text/x-python",
   "name": "python",
   "nbconvert_exporter": "python",
   "pygments_lexer": "ipython3",
   "version": "3.6.0"
  }
 },
 "nbformat": 4,
 "nbformat_minor": 2
}
