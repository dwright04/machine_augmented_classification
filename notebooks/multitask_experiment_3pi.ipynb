{
 "cells": [
  {
   "cell_type": "code",
   "execution_count": 1,
   "metadata": {
    "collapsed": false
   },
   "outputs": [
    {
     "name": "stderr",
     "output_type": "stream",
     "text": [
      "Using TensorFlow backend.\n",
      "/Users/dwright/anaconda2/envs/aind/lib/python3.6/importlib/_bootstrap.py:205: RuntimeWarning: compiletime version 3.5 of module 'tensorflow.python.framework.fast_tensor_util' does not match runtime version 3.6\n",
      "  return f(*args, **kwds)\n"
     ]
    }
   ],
   "source": [
    "import sys\n",
    "import pickle\n",
    "import scipy.io as sio\n",
    "import numpy as np\n",
    "from keras.optimizers import SGD\n",
    "from keras.utils import np_utils\n",
    "import matplotlib.pyplot as plt"
   ]
  },
  {
   "cell_type": "code",
   "execution_count": 2,
   "metadata": {
    "collapsed": false,
    "scrolled": true
   },
   "outputs": [
    {
     "name": "stderr",
     "output_type": "stream",
     "text": [
      "/Users/dwright/anaconda2/envs/aind/lib/python3.6/site-packages/matplotlib/__init__.py:1401: UserWarning:  This call to matplotlib.use() has no effect\n",
      "because the backend has already been chosen;\n",
      "matplotlib.use() must be called *before* pylab, matplotlib.pyplot,\n",
      "or matplotlib.backends is imported for the first time.\n",
      "\n",
      "  warnings.warn(_use_error_msg)\n"
     ]
    }
   ],
   "source": [
    "sys.path.insert(0,'/Users/dwright/dev/zoo/machine_augmented_classification/experiments/dissolving/mutitask/snhunters')\n",
    "from multitask_experiment import MultitaskDEC"
   ]
  },
  {
   "cell_type": "code",
   "execution_count": 3,
   "metadata": {
    "collapsed": true
   },
   "outputs": [],
   "source": [
    "from sklearn.metrics import f1_score"
   ]
  },
  {
   "cell_type": "markdown",
   "metadata": {},
   "source": [
    "## Clean labels"
   ]
  },
  {
   "cell_type": "code",
   "execution_count": 4,
   "metadata": {
    "collapsed": false
   },
   "outputs": [
    {
     "name": "stdout",
     "output_type": "stream",
     "text": [
      "(6916, 400) (2303, 400)\n"
     ]
    }
   ],
   "source": [
    "data = sio.loadmat('/Users/dwright/dev/zoo/machine_augmented_classification/data/snhunters/3pi_20x20_skew2_signPreserveNorm.mat')\n",
    "x_valid  = data['testX']\n",
    "y_valid  = np.squeeze(data['testy'])\n",
    "x_train  = data['X']\n",
    "y_train  = np.squeeze(data['y'])\n",
    "print(x_train.shape, x_valid.shape)"
   ]
  },
  {
   "cell_type": "code",
   "execution_count": 5,
   "metadata": {
    "collapsed": true
   },
   "outputs": [],
   "source": [
    "lcolours = ['#D6FF79', '#B0FF92', '#A09BE7', '#5F00BA', '#56CBF9', \\\n",
    "            '#F3C969', '#ED254E', '#CAA8F5', '#D9F0FF', '#46351D']\n",
    "\n",
    "# DEC constants from DEC paper\n",
    "batch_size = 256\n",
    "lr         = 0.01\n",
    "momentum   = 0.9\n",
    "tol        = 0.001\n",
    "maxiter    = 3e2\n",
    "#update_interval = 140 #perhaps this should be 1 for multitask learning\n",
    "update_interval = 10 #perhaps this should be 1 for multitask learning\n",
    "n_clusters = 10 # number of clusters to use\n",
    "n_classes  = 2  # number of classes"
   ]
  },
  {
   "cell_type": "code",
   "execution_count": 6,
   "metadata": {
    "collapsed": true
   },
   "outputs": [],
   "source": [
    "# load the pretrained DEC model for Supernova Hunters\n",
    "ae_weights  = '/Users/dwright/dev/zoo/machine_augmented_classification/DEC-keras/results/snh/ae_weights_snh.h5'\n",
    "dec_weights = '/Users/dwright/dev/zoo/machine_augmented_classification/DEC-keras/results/snh/10/DEC_model_final.h5'"
   ]
  },
  {
   "cell_type": "code",
   "execution_count": 6,
   "metadata": {
    "collapsed": false
   },
   "outputs": [],
   "source": [
    "dec = MultitaskDEC(dims=[x_valid.shape[-1], 500, 500, 2000, 10], \\\n",
    "                   n_clusters=n_clusters, batch_size=batch_size)\n",
    "dec.initialize_model(optimizer=SGD(lr=lr, momentum=momentum),\n",
    "                     ae_weights=ae_weights,\n",
    "                     x=x_train)\n",
    "dec.model.load_weights(dec_weights)"
   ]
  },
  {
   "cell_type": "code",
   "execution_count": 7,
   "metadata": {
    "collapsed": false,
    "scrolled": false
   },
   "outputs": [
    {
     "name": "stdout",
     "output_type": "stream",
     "text": [
      "Update interval 10\n",
      "Save interval 135.078125\n",
      "0 117 0 1.0\n",
      "1 328 0 0.6951219512195121\n",
      "2 710 0 0.7056338028169014\n",
      "3 1069 0 0.7034611786716558\n",
      "4 365 0 0.5726027397260274\n",
      "5 1673 0 0.5630603705917513\n",
      "6 1460 0 0.7904109589041096\n",
      "7 690 0 0.5811594202898551\n",
      "8 2 0 1.0\n",
      "9 502 0 0.603585657370518\n",
      "[0. 1.] [0]\n",
      "[0, 0, 0, 0, 0, 1, 0, 0, 0, 0]\n",
      "5\n",
      "[0.00860719 0.31423348 0.95513695 ... 0.33967993 0.9369725  0.00969982]\n",
      "Iter 0  :1% fpr 0.99003 , F1= 0.28857 h= 0.03865 ; loss= [0 0 0] ;\n",
      "\t valid 1% fpr=, 0.99217 , valid F1= 0.26258 h_valid= 0.0398 ; valid_loss=, [2.0816  1.77795 0.0681  0.30365]\n",
      "saving model:  [inf, inf, inf]  ->  [2.0816  1.77795 0.0681  0.30365]\n",
      "1.0 0.0\n",
      "saving model to: ./results/dec/DEC_model_0.h5\n",
      "0.99 0.00999999\n",
      "0.98 0.01999998\n",
      "0.97 0.029999971\n",
      "0.96 0.04000002\n",
      "0.95 0.050000012\n",
      "0.94 0.060000002\n",
      "0.93 0.06999999\n",
      "0.92 0.07999998\n",
      "0.91 0.089999974\n",
      "[3.1100742e-03 2.0809978e-01 1.9887183e-03 ... 2.4884775e-01 4.2272243e-01\n",
      " 3.6123150e-05]\n",
      "Iter 10  :1% fpr 0.65626 , F1= 0.8691 h= 0.12324 ; loss= [0.39838 0.23393 1.68986 0.16445] ;\n",
      "\t valid 1% fpr=, 0.60183 , valid F1= 0.81239 h_valid= 0.09736 ; valid_loss=, [0.47511 0.3123  0.15721 0.16282]\n",
      "saving model:  [2.0816  1.77795 0.0681  0.30365]  ->  [0.47511 0.3123  0.15721 0.16282]\n",
      "0.9 0.100000024\n",
      "0.89 0.110000014\n",
      "0.88 0.120000005\n",
      "0.87 0.13\n",
      "0.86 0.13999999\n",
      "0.85 0.14999998\n",
      "0.84 0.16000003\n",
      "0.83 0.17000002\n",
      "0.82 0.18\n",
      "0.81 0.19\n",
      "[9.9799749e-08 2.3327852e-03 4.9687234e-05 ... 3.9309828e-04 2.8437806e-02\n",
      " 1.4615481e-10]\n",
      "Iter 20  :1% fpr 0.20763 , F1= 0.9682 h= 0.24108 ; loss= [0.25303 0.09113 0.2411  0.1619 ] ;\n",
      "\t valid 1% fpr=, 0.5 , valid F1= 0.84073 h_valid= 0.18048 ; valid_loss=, [0.4454  0.28485 0.13674 0.16055]\n",
      "saving model:  [0.47511 0.3123  0.15721 0.16282]  ->  [0.4454  0.28485 0.13674 0.16055]\n",
      "0.8 0.19999999\n",
      "0.79 0.20999998\n",
      "0.78 0.22000003\n",
      "0.77 0.23000002\n",
      "0.76 0.24000001\n",
      "0.75 0.25\n",
      "0.74 0.26\n",
      "0.73 0.26999998\n",
      "0.72 0.27999997\n",
      "0.71 0.29000002\n",
      "[3.7577927e-11 3.8760223e-03 3.3539226e-07 ... 6.0499451e-06 1.6997783e-02\n",
      " 1.4727996e-15]\n",
      "Iter 30  :1% fpr 0.013 , F1= 0.98548 h= 0.35043 ; loss= [0.21758 0.05792 0.1602  0.15967] ;\n",
      "\t valid 1% fpr=, 0.5248 , valid F1= 0.84027 h_valid= 0.26984 ; valid_loss=, [0.50123 0.34293 0.12835 0.1583 ]\n",
      "0.7 0.3\n",
      "0.69 0.31\n",
      "0.68 0.32\n",
      "0.67 0.32999998\n",
      "0.66 0.33999997\n",
      "0.65 0.35000002\n",
      "0.64 0.36\n",
      "0.63 0.37\n",
      "0.62 0.38\n",
      "0.61 0.39\n",
      "[2.0618866e-15 1.3361081e-03 7.8578616e-10 ... 1.5105812e-08 7.6593111e-05\n",
      " 3.3699904e-20]\n",
      "Iter 40  :1% fpr 0.0013 , F1= 0.98891 h= 0.42607 ; loss= [0.18612 0.02824 0.14277 0.15788] ;\n",
      "\t valid 1% fpr=, 0.50653 , valid F1= 0.79436 h_valid= 0.29737 ; valid_loss=, [0.67325 0.51659 0.11954 0.15666]\n",
      "0.6 0.39999998\n",
      "0.59 0.41000003\n",
      "0.58 0.42000002\n",
      "0.57 0.43\n",
      "0.56 0.44\n",
      "0.55 0.45\n",
      "0.54 0.45999998\n",
      "0.53 0.47000003\n",
      "0.52 0.48000002\n",
      "0.51 0.49\n",
      "[4.2160856e-16 2.1467723e-03 7.1466651e-08 ... 4.2195779e-08 1.1250198e-04\n",
      " 1.0042254e-20]\n",
      "Iter 50  :1% fpr 0.0 , F1= 0.99055 h= 0.39449 ; loss= [0.19311 0.0364  0.13144 0.15671] ;\n",
      "\t valid 1% fpr=, 0.65405 , valid F1= 0.84029 h_valid= 0.30424 ; valid_loss=, [0.57458 0.41898 0.12749 0.1556 ]\n",
      "0.5 0.5\n",
      "0.49 0.51\n",
      "0.48 0.52\n",
      "0.47 0.53\n",
      "0.46 0.53999996\n",
      "0.45 0.55\n",
      "0.44 0.56\n",
      "0.43 0.57\n",
      "0.42 0.58000004\n",
      "0.41 0.59000003\n",
      "[1.8293225e-17 2.1890119e-01 1.3103582e-10 ... 1.4043473e-08 6.0915658e-03\n",
      " 6.0810449e-21]\n",
      "Iter 60  :1% fpr 0.0052 , F1= 0.98626 h= 0.42819 ; loss= [0.20963 0.05394 0.15324 0.15569] ;\n",
      "\t valid 1% fpr=, 0.63185 , valid F1= 0.83753 h_valid= 0.30706 ; valid_loss=, [0.60085 0.44605 0.12186 0.1548 ]\n",
      "0.4 0.6\n",
      "0.39 0.61\n",
      "0.38 0.62\n",
      "0.37 0.63\n",
      "0.36 0.64\n",
      "0.35 0.65\n",
      "0.34 0.65999997\n",
      "0.33 0.66999996\n",
      "0.32 0.68\n",
      "0.31 0.69\n",
      "[3.7177684e-19 2.8085142e-05 1.6564258e-10 ... 5.1390397e-10 1.9629300e-05\n",
      " 1.6985967e-26]\n",
      "Iter 70  :1% fpr 0.0 , F1= 0.99784 h= 0.49306 ; loss= [0.17537 0.02061 0.14434 0.15475] ;\n",
      "\t valid 1% fpr=, 0.68016 , valid F1= 0.83669 h_valid= 0.35997 ; valid_loss=, [0.66978 0.51597 0.1158  0.15381]\n",
      "0.3 0.7\n",
      "0.29 0.71000004\n",
      "0.28 0.72\n",
      "0.27 0.73\n",
      "0.26 0.74\n",
      "0.25 0.75\n",
      "0.24 0.76\n",
      "0.23 0.77\n",
      "0.22 0.78\n",
      "0.21 0.79\n",
      "[1.9138371e-20 2.1254378e-05 2.8727295e-13 ... 1.7638758e-13 7.0486253e-06\n",
      " 8.8936681e-25]\n",
      "Iter 80  :1% fpr 0.02818 , F1= 0.97108 h= 0.4682 ; loss= [0.1755  0.02163 0.12344 0.15388] ;\n",
      "\t valid 1% fpr=, 0.60183 , valid F1= 0.84301 h_valid= 0.36089 ; valid_loss=, [0.70077 0.54751 0.11101 0.15326]\n",
      "0.2 0.8\n",
      "0.19 0.81\n",
      "0.18 0.82\n",
      "0.17 0.83\n",
      "0.16 0.84000003\n",
      "0.15 0.85\n",
      "0.14 0.86\n",
      "0.13 0.87\n",
      "0.12 0.88\n",
      "0.11 0.89\n",
      "[5.5491127e-23 1.0942462e-06 4.6853194e-14 ... 9.3313612e-12 3.5270128e-07\n",
      " 1.7900797e-30]\n",
      "Iter 90  :1% fpr 0.0 , F1= 1.0 h= 0.5218 ; loss= [0.15474 0.00169 0.12929 0.15304] ;\n",
      "\t valid 1% fpr=, 0.60313 , valid F1= 0.83426 h_valid= 0.35104 ; valid_loss=, [0.72378 0.57154 0.11189 0.15224]\n",
      "0.1 0.9\n",
      "0.09 0.90999997\n",
      "0.08 0.92\n",
      "0.07 0.93\n",
      "0.06 0.94\n",
      "0.05 0.95\n",
      "0.04 0.96\n",
      "0.03 0.97\n",
      "0.02 0.98\n",
      "0.01 0.99\n",
      "saving model to: ./results/dec/DEC_model_final.h5\n"
     ]
    }
   ],
   "source": [
    "y_pred, metrics_dict = dec.clustering(x_train, np_utils.to_categorical(y_train), \\\n",
    "                                      (x_valid, np_utils.to_categorical(y_valid)), \\\n",
    "                                      pretrained_weights=dec_weights, maxiter=100)"
   ]
  },
  {
   "cell_type": "code",
   "execution_count": 12,
   "metadata": {
    "collapsed": false
   },
   "outputs": [
    {
     "data": {
      "image/png": "[encoded data removed]",
      "text/plain": [
       "<matplotlib.figure.Figure at 0x124f68dd8>"
      ]
     },
     "metadata": {},
     "output_type": "display_data"
    }
   ],
   "source": [
    "plt.plot(metrics_dict['iteration'], metrics_dict['train_f1'])\n",
    "plt.plot(metrics_dict['iteration'], metrics_dict['valid_f1'])\n",
    "plt.show()"
   ]
  },
  {
   "cell_type": "code",
   "execution_count": 14,
   "metadata": {
    "collapsed": false
   },
   "outputs": [
    {
     "data": {
      "image/png": "[encoded data removed]",
      "text/plain": [
       "<matplotlib.figure.Figure at 0x125152278>"
      ]
     },
     "metadata": {},
     "output_type": "display_data"
    }
   ],
   "source": [
    "plt.plot(metrics_dict['iteration'], metrics_dict['train_fom'])\n",
    "plt.plot(metrics_dict['iteration'], metrics_dict['valid_fom'])\n",
    "plt.show()"
   ]
  },
  {
   "cell_type": "code",
   "execution_count": 16,
   "metadata": {
    "collapsed": false
   },
   "outputs": [
    {
     "data": {
      "image/png": "[encoded data removed]",
      "text/plain": [
       "<matplotlib.figure.Figure at 0x1252f74e0>"
      ]
     },
     "metadata": {},
     "output_type": "display_data"
    }
   ],
   "source": [
    "plt.plot(metrics_dict['iteration'], metrics_dict['train_h'])\n",
    "plt.plot(metrics_dict['iteration'], metrics_dict['valid_h'])\n",
    "plt.show()"
   ]
  },
  {
   "cell_type": "markdown",
   "metadata": {},
   "source": [
    "## First Vote Only"
   ]
  },
  {
   "cell_type": "code",
   "execution_count": 7,
   "metadata": {
    "collapsed": false
   },
   "outputs": [],
   "source": [
    "data = sio.loadmat('/Users/dwright/dev/zoo/machine_augmented_classification/data/snhunters/3pi_20x20_skew2_signPreserveNorm_volunteer_votes_first_only.mat')\n",
    "y_train  = np.squeeze(data['y']) == 'Yes'                                                                                       \n",
    "#y_valid  = np.squeeze(data['y_test']) == 'Yes'                                                                                   \n",
    "data = sio.loadmat('/Users/dwright/dev/zoo/machine_augmented_classification/data/snhunters/3pi_20x20_skew2_signPreserveNorm.mat')\n",
    "x_train = data['X']\n",
    "x_valid = data['testX']\n",
    "y_valid = np.squeeze(data['testy'])"
   ]
  },
  {
   "cell_type": "code",
   "execution_count": 8,
   "metadata": {
    "collapsed": false
   },
   "outputs": [],
   "source": [
    "dec = MultitaskDEC(dims=[x_valid.shape[-1], 500, 500, 2000, 10], \\\n",
    "                   n_clusters=n_clusters, batch_size=batch_size)\n",
    "dec.initialize_model(optimizer=SGD(lr=lr, momentum=momentum),\n",
    "                     ae_weights=ae_weights,\n",
    "                     x=x_train)\n",
    "dec.model.load_weights(dec_weights)"
   ]
  },
  {
   "cell_type": "code",
   "execution_count": 9,
   "metadata": {
    "collapsed": false,
    "scrolled": false
   },
   "outputs": [
    {
     "name": "stdout",
     "output_type": "stream",
     "text": [
      "Update interval 10\n",
      "Save interval 135.078125\n",
      "0 117 0 0.8888888888888888\n",
      "1 328 0 0.698170731707317\n",
      "2 710 0 0.6985915492957746\n",
      "3 1069 0 0.6744621141253508\n",
      "4 365 0 0.6520547945205479\n",
      "5 1673 0 0.5750149432157801\n",
      "6 1460 0 0.7773972602739726\n",
      "7 690 0 0.636231884057971\n",
      "8 2 0 1.0\n",
      "9 502 0 0.6414342629482072\n",
      "[0. 1.] [0]\n",
      "[0, 0, 0, 0, 0, 1, 0, 0, 0, 0]\n",
      "5\n",
      "[0.00860719 0.31423348 0.95513695 ... 0.33967993 0.9369725  0.00969982]\n",
      "Iter 0  :1% fpr 0.99295 , F1= 0.28986 h= 0.02159 ; loss= [0 0 0] ;\n",
      "\t valid 1% fpr=, 0.99217 , valid F1= 0.26258 h_valid= 0.0398 ; valid_loss=, [2.0816  1.77795 0.0681  0.30365]\n",
      "saving model:  [inf, inf, inf]  ->  [2.0816  1.77795 0.0681  0.30365]\n",
      "1.0 0.0\n",
      "saving model to: ./results/dec/DEC_model_0.h5\n",
      "0.99 0.00999999\n",
      "0.98 0.01999998\n",
      "0.97 0.029999971\n",
      "0.96 0.04000002\n",
      "0.95 0.050000012\n",
      "0.94 0.060000002\n",
      "0.93 0.06999999\n",
      "0.92 0.07999998\n",
      "0.91 0.089999974\n",
      "[0.11004239 0.16899687 0.03698198 ... 0.09780717 0.23672287 0.00198578]\n",
      "Iter 10  :1% fpr 0.93034 , F1= 0.44689 h= 0.07863 ; loss= [0.63263 0.46993 1.66884 0.1627 ] ;\n",
      "\t valid 1% fpr=, 0.84595 , valid F1= 0.46283 h_valid= 0.09006 ; valid_loss=, [0.63212 0.47023 0.1673  0.16189]\n",
      "saving model:  [2.0816  1.77795 0.0681  0.30365]  ->  [0.63212 0.47023 0.1673  0.16189]\n",
      "0.9 0.100000024\n",
      "0.89 0.110000014\n",
      "0.88 0.120000005\n",
      "0.87 0.13\n",
      "0.86 0.13999999\n",
      "0.85 0.14999998\n",
      "0.84 0.16000003\n",
      "0.83 0.17000002\n",
      "0.82 0.18\n",
      "0.81 0.19\n",
      "[0.05067658 0.06201763 0.02910382 ... 0.1292834  0.1904944  0.00386528]\n",
      "Iter 20  :1% fpr 0.8448 , F1= 0.76174 h= 0.10345 ; loss= [0.54625 0.3852  0.22605 0.16104] ;\n",
      "\t valid 1% fpr=, 0.8342 , valid F1= 0.68237 h_valid= 0.07655 ; valid_loss=, [0.59607 0.43547 0.16243 0.16059]\n",
      "saving model:  [0.63212 0.47023 0.1673  0.16189]  ->  [0.59607 0.43547 0.16243 0.16059]\n",
      "0.8 0.19999999\n",
      "0.79 0.20999998\n",
      "0.78 0.22000003\n",
      "0.77 0.23000002\n",
      "0.76 0.24000001\n",
      "0.75 0.25\n",
      "0.74 0.26\n",
      "0.73 0.26999998\n",
      "0.72 0.27999997\n",
      "0.71 0.29000002\n",
      "[0.00100366 0.01530385 0.0002012  ... 0.01058319 0.01308207 0.00012255]\n",
      "Iter 30  :1% fpr 0.68915 , F1= 0.64294 h= 0.19473 ; loss= [0.4451  0.28464 0.23752 0.16047] ;\n",
      "\t valid 1% fpr=, 0.91775 , valid F1= 0.45926 h_valid= 0.107 ; valid_loss=, [0.83463 0.67414 0.16475 0.16049]\n",
      "0.7 0.3\n",
      "0.69 0.31\n",
      "0.68 0.32\n",
      "0.67 0.32999998\n",
      "0.66 0.33999997\n",
      "0.65 0.35000002\n",
      "0.64 0.36\n",
      "0.63 0.37\n",
      "0.62 0.38\n",
      "0.61 0.39\n",
      "[1.3847827e-05 2.1300709e-02 8.8649867e-06 ... 1.7210222e-03 6.8011926e-03\n",
      " 6.3591593e-05]\n",
      "Iter 40  :1% fpr 0.27425 , F1= 0.91093 h= 0.18558 ; loss= [0.3377  0.1779  0.28454 0.1598 ] ;\n",
      "\t valid 1% fpr=, 0.953 , valid F1= 0.65869 h_valid= 0.07531 ; valid_loss=, [0.87194 0.71356 0.14025 0.15838]\n",
      "0.6 0.39999998\n",
      "0.59 0.41000003\n",
      "0.58 0.42000002\n",
      "0.57 0.43\n",
      "0.56 0.44\n",
      "0.55 0.45\n",
      "0.54 0.45999998\n",
      "0.53 0.47000003\n",
      "0.52 0.48000002\n",
      "0.51 0.49\n",
      "[8.2620836e-08 1.7786454e-02 1.7353683e-08 ... 3.1368257e-04 1.0582571e-04\n",
      " 2.4599826e-06]\n",
      "Iter 50  :1% fpr 0.20194 , F1= 0.91579 h= 0.26362 ; loss= [0.28455 0.12581 0.17328 0.15873] ;\n",
      "\t valid 1% fpr=, 0.93995 , valid F1= 0.59304 h_valid= 0.08925 ; valid_loss=, [1.09031 0.93216 0.13968 0.15815]\n",
      "0.5 0.5\n",
      "0.49 0.51\n",
      "0.48 0.52\n",
      "0.47 0.53\n",
      "0.46 0.53999996\n",
      "0.45 0.55\n",
      "0.44 0.56\n",
      "0.43 0.57\n",
      "0.42 0.58000004\n",
      "0.41 0.59000003\n",
      "[3.2841804e-08 1.0702987e-01 2.2182398e-09 ... 8.6878911e-03 8.2147912e-05\n",
      " 1.6312610e-07]\n",
      "Iter 60  :1% fpr 0.15079 , F1= 0.94207 h= 0.27919 ; loss= [0.26479 0.10714 0.16272 0.15765] ;\n",
      "\t valid 1% fpr=, 0.95431 , valid F1= 0.63228 h_valid= 0.09893 ; valid_loss=, [1.19514 1.03847 0.15189 0.15667]\n",
      "0.4 0.6\n",
      "0.39 0.61\n",
      "0.38 0.62\n",
      "0.37 0.63\n",
      "0.36 0.64\n",
      "0.35 0.65\n",
      "0.34 0.65999997\n",
      "0.33 0.66999996\n",
      "0.32 0.68\n",
      "0.31 0.69\n",
      "[1.4747879e-10 5.3073494e-03 6.5995824e-12 ... 1.7531307e-06 1.9094630e-07\n",
      " 1.1487062e-10]\n",
      "Iter 70  :1% fpr 0.33333 , F1= 0.71001 h= 0.34047 ; loss= [0.22437 0.06757 0.1911  0.1568 ] ;\n",
      "\t valid 1% fpr=, 0.93342 , valid F1= 0.39326 h_valid= 0.11854 ; valid_loss=, [1.81913 1.66284 0.14608 0.1563 ]\n",
      "0.3 0.7\n",
      "0.29 0.71000004\n",
      "0.28 0.72\n",
      "0.27 0.73\n",
      "0.26 0.74\n",
      "0.25 0.75\n",
      "0.24 0.76\n",
      "0.23 0.77\n",
      "0.22 0.78\n",
      "0.21 0.79\n",
      "[4.87478360e-07 4.07315418e-03 8.73382616e-12 ... 1.10873925e-05\n",
      " 1.90124138e-05 8.14595857e-09]\n",
      "Iter 80  :1% fpr 0.04497 , F1= 0.96386 h= 0.36525 ; loss= [0.21743 0.0611  0.23549 0.15633] ;\n",
      "\t valid 1% fpr=, 0.95953 , valid F1= 0.60503 h_valid= 0.11866 ; valid_loss=, [1.31332 1.15787 0.14668 0.15546]\n",
      "0.2 0.8\n",
      "0.19 0.81\n",
      "0.18 0.82\n",
      "0.17 0.83\n",
      "0.16 0.84000003\n",
      "0.15 0.85\n",
      "0.14 0.86\n",
      "0.13 0.87\n",
      "0.12 0.88\n",
      "0.11 0.89\n",
      "[1.0896433e-10 2.7899481e-05 7.0480618e-12 ... 4.4150685e-04 5.5365440e-06\n",
      " 1.6106780e-09]\n",
      "Iter 90  :1% fpr 0.01367 , F1= 0.98431 h= 0.37822 ; loss= [0.20788 0.0522  0.17811 0.15569] ;\n",
      "\t valid 1% fpr=, 0.96345 , valid F1= 0.60326 h_valid= 0.11606 ; valid_loss=, [1.39897 1.24411 0.14308 0.15486]\n",
      "0.1 0.9\n",
      "0.09 0.90999997\n",
      "0.08 0.92\n",
      "0.07 0.93\n",
      "0.06 0.94\n",
      "0.05 0.95\n",
      "0.04 0.96\n",
      "0.03 0.97\n",
      "0.02 0.98\n",
      "0.01 0.99\n",
      "saving model to: ./results/dec/DEC_model_final.h5\n"
     ]
    }
   ],
   "source": [
    "y_pred, metrics_dict = dec.clustering(x_train, np_utils.to_categorical(y_train), \\\n",
    "                                      (x_valid, np_utils.to_categorical(y_valid)), \\\n",
    "                                      pretrained_weights=dec_weights, maxiter=100)"
   ]
  },
  {
   "cell_type": "code",
   "execution_count": 10,
   "metadata": {
    "collapsed": false
   },
   "outputs": [
    {
     "name": "stdout",
     "output_type": "stream",
     "text": [
      "0.7223326706428097\n"
     ]
    }
   ],
   "source": [
    "data = sio.loadmat('/Users/dwright/dev/zoo/machine_augmented_classification/data/snhunters/3pi_20x20_skew2_signPreserveNorm_volunteer_votes_first_only.mat')\n",
    "human_f1_benchmark = f1_score(y_valid, np.squeeze(data['y_test']) == 'Yes')\n",
    "print(human_f1_benchmark)"
   ]
  },
  {
   "cell_type": "code",
   "execution_count": 11,
   "metadata": {
    "collapsed": false
   },
   "outputs": [
    {
     "data": {
      "image/png": "[encoded data removed]",
      "text/plain": [
       "<matplotlib.figure.Figure at 0x11bb86860>"
      ]
     },
     "metadata": {},
     "output_type": "display_data"
    }
   ],
   "source": [
    "plt.plot(metrics_dict['iteration'], metrics_dict['train_f1'])\n",
    "plt.plot(metrics_dict['iteration'], metrics_dict['valid_f1'])\n",
    "plt.plot(metrics_dict['iteration'], human_f1_benchmark*np.ones(np.array(metrics_dict['iteration']).shape), 'k--')\n",
    "plt.show()"
   ]
  },
  {
   "cell_type": "code",
   "execution_count": 12,
   "metadata": {
    "collapsed": false
   },
   "outputs": [
    {
     "data": {
      "image/png": "[encoded data removed]",
      "text/plain": [
       "<matplotlib.figure.Figure at 0x11ba94a58>"
      ]
     },
     "metadata": {},
     "output_type": "display_data"
    }
   ],
   "source": [
    "plt.plot(metrics_dict['iteration'], metrics_dict['train_fom'])\n",
    "plt.plot(metrics_dict['iteration'], metrics_dict['valid_fom'])\n",
    "plt.show()"
   ]
  },
  {
   "cell_type": "code",
   "execution_count": 13,
   "metadata": {
    "collapsed": false
   },
   "outputs": [
    {
     "data": {
      "image/png": "[encoded data removed]",
      "text/plain": [
       "<matplotlib.figure.Figure at 0x11bb86a58>"
      ]
     },
     "metadata": {},
     "output_type": "display_data"
    }
   ],
   "source": [
    "plt.plot(metrics_dict['iteration'], metrics_dict['train_h'])\n",
    "plt.plot(metrics_dict['iteration'], metrics_dict['valid_h'])\n",
    "plt.show()"
   ]
  },
  {
   "cell_type": "markdown",
   "metadata": {},
   "source": [
    "## Vote Fraction Analysis"
   ]
  },
  {
   "cell_type": "code",
   "execution_count": 7,
   "metadata": {
    "collapsed": false
   },
   "outputs": [],
   "source": [
    "vote_fraction_dict = pickle.load(open('/Users/dwright/dev/zoo/data/supernova-hunters-vote-fraction-dict.pkl', 'rb'))"
   ]
  },
  {
   "cell_type": "code",
   "execution_count": 8,
   "metadata": {
    "collapsed": false
   },
   "outputs": [
    {
     "name": "stdout",
     "output_type": "stream",
     "text": [
      "1170747061421652300_56452.478_26471976_55_diff\n",
      "['1001246931044034000_56559.515_28603056_68_diff', '1001246931044034000_56559.503_28601931_52_diff', '1001246931044034000_56559.540_28606628_57_diff', '1001246931044034000_56559.527_28604731_58_diff']\n"
     ]
    }
   ],
   "source": [
    "train_files = []\n",
    "for f in data['train_files']:\n",
    "  train_files.append(f.strip().replace('.fits',''))\n",
    "print(train_files[0])\n",
    "#train_files = set(train_files)\n",
    "print(list(set([i for i in train_files if train_files.count(i)>1])))"
   ]
  },
  {
   "cell_type": "code",
   "execution_count": 9,
   "metadata": {
    "collapsed": false
   },
   "outputs": [
    {
     "name": "stdout",
     "output_type": "stream",
     "text": [
      "1140125671321051200_56734.594_31357137_58_diff\n",
      "['1013335101303600300_56578.525_28830506_29_diff', '1001246931044034000_56569.512_28729009_121_diff', '1013335101303600300_56578.536_28832078_27_diff', '1001246931044034000_56569.500_28727063_116_diff']\n"
     ]
    }
   ],
   "source": [
    "valid_files = []\n",
    "for f in data['test_files']:\n",
    "  valid_files.append(f.strip().replace('.fits',''))\n",
    "print(valid_files[0])\n",
    "#train_files = set(train_files)\n",
    "print(list(set([i for i in valid_files if valid_files.count(i)>1])))"
   ]
  },
  {
   "cell_type": "code",
   "execution_count": 10,
   "metadata": {
    "collapsed": false
   },
   "outputs": [
    {
     "name": "stdout",
     "output_type": "stream",
     "text": [
      "0.03125\n",
      "0.6190476190476191\n"
     ]
    }
   ],
   "source": [
    "vote_fractions_train = []\n",
    "vote_fractions_valid = []\n",
    "seen = []\n",
    "for diff in train_files:\n",
    "  vote_fractions_train.append(vote_fraction_dict[diff])\n",
    "  seen.append(diff)\n",
    "for diff in valid_files:\n",
    "  vote_fractions_valid.append(vote_fraction_dict[diff])\n",
    "print(vote_fractions_train[0])\n",
    "print(vote_fractions_valid[0])\n",
    "vote_fractions_train = np.array(vote_fractions_train)\n",
    "vote_fractions_valid = np.array(vote_fractions_valid)"
   ]
  },
  {
   "cell_type": "code",
   "execution_count": 11,
   "metadata": {
    "collapsed": false
   },
   "outputs": [
    {
     "data": {
      "image/png": "[encoded data removed]",
      "text/plain": [
       "<matplotlib.figure.Figure at 0x11a5bf390>"
      ]
     },
     "metadata": {},
     "output_type": "display_data"
    }
   ],
   "source": [
    "bins = [x for x in np.arange(0,1.04,0.04)]\n",
    "plt.hist(vote_fractions_train[np.where(y_train==0)], alpha=0.5)\n",
    "plt.hist(vote_fractions_train[np.where(y_train==1)], alpha=0.5)\n",
    "plt.show()"
   ]
  },
  {
   "cell_type": "code",
   "execution_count": 12,
   "metadata": {
    "collapsed": false
   },
   "outputs": [
    {
     "data": {
      "image/png": "[encoded data removed]",
      "text/plain": [
       "<matplotlib.figure.Figure at 0x118013208>"
      ]
     },
     "metadata": {},
     "output_type": "display_data"
    }
   ],
   "source": [
    "data = sio.loadmat('/Users/dwright/dev/zoo/machine_augmented_classification/data/snhunters/3pi_20x20_skew2_signPreserveNorm.mat')\n",
    "y_train_true = np.squeeze(data['y'])\n",
    "bins = [x for x in np.arange(0,1.04,0.04)]\n",
    "plt.hist(vote_fractions_train[np.where(y_train_true==0)], alpha=0.5)\n",
    "plt.hist(vote_fractions_train[np.where(y_train_true==1)], alpha=0.5)\n",
    "plt.show()"
   ]
  },
  {
   "cell_type": "code",
   "execution_count": 13,
   "metadata": {
    "collapsed": true
   },
   "outputs": [],
   "source": [
    "y_train_vote_fractions = vote_fractions_train > 0.5\n",
    "y_valid_vote_fractions = vote_fractions_valid > 0.5"
   ]
  },
  {
   "cell_type": "code",
   "execution_count": 14,
   "metadata": {
    "collapsed": false
   },
   "outputs": [
    {
     "data": {
      "text/plain": [
       "0.8133333333333332"
      ]
     },
     "execution_count": 14,
     "metadata": {},
     "output_type": "execute_result"
    }
   ],
   "source": [
    "f1_score(y_valid, y_valid_vote_fractions)"
   ]
  },
  {
   "cell_type": "code",
   "execution_count": 15,
   "metadata": {
    "collapsed": true
   },
   "outputs": [],
   "source": [
    "dec = MultitaskDEC(dims=[x_valid.shape[-1], 500, 500, 2000, 10], \\\n",
    "                   n_clusters=n_clusters, batch_size=batch_size)\n",
    "dec.initialize_model(optimizer=SGD(lr=lr, momentum=momentum),\n",
    "                     ae_weights=ae_weights,\n",
    "                     x=x_train)\n",
    "dec.model.load_weights(dec_weights)"
   ]
  },
  {
   "cell_type": "code",
   "execution_count": 16,
   "metadata": {
    "collapsed": false,
    "scrolled": false
   },
   "outputs": [
    {
     "name": "stdout",
     "output_type": "stream",
     "text": [
      "Update interval 10\n",
      "Save interval 135.078125\n",
      "0 117 0 1.0\n",
      "1 328 0 0.7652439024390244\n",
      "2 710 0 0.7507042253521127\n",
      "3 1069 0 0.7567820392890552\n",
      "4 365 0 0.6876712328767123\n",
      "5 1673 0 0.6210400478182905\n",
      "6 1460 0 0.8397260273972603\n",
      "7 690 0 0.6898550724637681\n",
      "8 2 0 1.0\n",
      "9 502 0 0.7071713147410359\n",
      "[0. 1.] [0]\n",
      "[0, 0, 0, 0, 0, 1, 0, 0, 0, 0]\n",
      "5\n",
      "[0.00860719 0.31423348 0.95513695 ... 0.33967993 0.9369725  0.00969982]\n",
      "Iter 0  :1% fpr 0.99408 , F1= 0.25623 h= 0.03551 ; loss= [0 0 0] ;\n",
      "\t valid 1% fpr=, 0.99217 , valid F1= 0.26258 h_valid= 0.0398 ; valid_loss=, [2.0816  1.77795 0.0681  0.30365]\n",
      "saving model:  [inf, inf, inf]  ->  [2.0816  1.77795 0.0681  0.30365]\n",
      "1.0 0.0\n",
      "saving model to: ./results/dec/DEC_model_0.h5\n",
      "0.99 0.00999999\n",
      "0.98 0.01999998\n",
      "0.97 0.029999971\n",
      "0.96 0.04000002\n",
      "0.95 0.050000012\n",
      "0.94 0.060000002\n",
      "0.93 0.06999999\n",
      "0.92 0.07999998\n",
      "0.91 0.089999974\n",
      "[5.5909908e-04 3.5733005e-03 1.0172845e-03 ... 6.0736467e-03 8.3540753e-02\n",
      " 3.6429583e-06]\n",
      "Iter 10  :1% fpr 0.86861 , F1= 0.14018 h= 0.094 ; loss= [0.50316 0.33928 1.58984 0.16388] ;\n",
      "\t valid 1% fpr=, 0.85117 , valid F1= 0.09901 h_valid= 0.07642 ; valid_loss=, [1.00502 0.83863 0.14973 0.16639]\n",
      "saving model:  [2.0816  1.77795 0.0681  0.30365]  ->  [1.00502 0.83863 0.14973 0.16639]\n",
      "0.9 0.100000024\n",
      "0.89 0.110000014\n",
      "0.88 0.120000005\n",
      "0.87 0.13\n",
      "0.86 0.13999999\n",
      "0.85 0.14999998\n",
      "0.84 0.16000003\n",
      "0.83 0.17000002\n",
      "0.82 0.18\n",
      "0.81 0.19\n",
      "[5.3531397e-04 2.7183106e-03 7.5547454e-05 ... 4.4037909e-03 1.5437631e-01\n",
      " 1.0060836e-06]\n",
      "Iter 20  :1% fpr 0.57404 , F1= 0.84091 h= 0.1391 ; loss= [0.37912 0.21705 0.18945 0.16207] ;\n",
      "\t valid 1% fpr=, 0.74151 , valid F1= 0.77749 h_valid= 0.09442 ; valid_loss=, [0.50861 0.34757 0.15559 0.16103]\n",
      "saving model:  [1.00502 0.83863 0.14973 0.16639]  ->  [0.50861 0.34757 0.15559 0.16103]\n",
      "0.8 0.19999999\n",
      "0.79 0.20999998\n",
      "0.78 0.22000003\n",
      "0.77 0.23000002\n",
      "0.76 0.24000001\n",
      "0.75 0.25\n",
      "0.74 0.26\n",
      "0.73 0.26999998\n",
      "0.72 0.27999997\n",
      "0.71 0.29000002\n",
      "[2.1948500e-07 8.4243119e-09 1.1996821e-07 ... 1.4630669e-08 9.4223265e-03\n",
      " 4.3038395e-14]\n",
      "Iter 30  :1% fpr 0.37857 , F1= 0.80334 h= 0.18898 ; loss= [0.28621 0.12545 0.23272 0.16076] ;\n",
      "\t valid 1% fpr=, 0.75326 , valid F1= 0.56401 h_valid= 0.09941 ; valid_loss=, [1.01046 0.85019 0.13801 0.16027]\n",
      "0.7 0.3\n",
      "0.69 0.31\n",
      "0.68 0.32\n",
      "0.67 0.32999998\n",
      "0.66 0.33999997\n",
      "0.65 0.35000002\n",
      "0.64 0.36\n",
      "0.63 0.37\n",
      "0.62 0.38\n",
      "0.61 0.39\n",
      "[2.6352465e-08 2.4318587e-09 4.4828763e-08 ... 9.5402844e-12 1.1245839e-03\n",
      " 1.2197960e-17]\n",
      "Iter 40  :1% fpr 0.05708 , F1= 0.96353 h= 0.27838 ; loss= [0.2347  0.07538 0.17339 0.15932] ;\n",
      "\t valid 1% fpr=, 0.77285 , valid F1= 0.69832 h_valid= 0.16257 ; valid_loss=, [0.88648 0.7283  0.13365 0.15817]\n",
      "0.6 0.39999998\n",
      "0.59 0.41000003\n",
      "0.58 0.42000002\n",
      "0.57 0.43\n",
      "0.56 0.44\n",
      "0.55 0.45\n",
      "0.54 0.45999998\n",
      "0.53 0.47000003\n",
      "0.52 0.48000002\n",
      "0.51 0.49\n",
      "[1.5447172e-08 1.4399879e-09 1.5298274e-09 ... 9.8717402e-16 1.3052722e-03\n",
      " 2.0786882e-19]\n",
      "Iter 50  :1% fpr 0.03931 , F1= 0.94926 h= 0.27467 ; loss= [0.21229 0.05436 0.15834 0.15793] ;\n",
      "\t valid 1% fpr=, 0.89687 , valid F1= 0.71923 h_valid= 0.14335 ; valid_loss=, [0.94462 0.78758 0.12796 0.15704]\n",
      "0.5 0.5\n",
      "0.49 0.51\n",
      "0.48 0.52\n",
      "0.47 0.53\n",
      "0.46 0.53999996\n",
      "0.45 0.55\n",
      "0.44 0.56\n",
      "0.43 0.57\n",
      "0.42 0.58000004\n",
      "0.41 0.59000003\n",
      "[4.34066359e-11 8.04948552e-10 2.82850521e-09 ... 1.38027104e-17\n",
      " 8.62891786e-04 3.15370969e-21]\n",
      "Iter 60  :1% fpr 0.00969 , F1= 0.97576 h= 0.31296 ; loss= [0.19967 0.04286 0.15126 0.15681] ;\n",
      "\t valid 1% fpr=, 0.79896 , valid F1= 0.74032 h_valid= 0.17784 ; valid_loss=, [0.92898 0.77291 0.12821 0.15607]\n",
      "0.4 0.6\n",
      "0.39 0.61\n",
      "0.38 0.62\n",
      "0.37 0.63\n",
      "0.36 0.64\n",
      "0.35 0.65\n",
      "0.34 0.65999997\n",
      "0.33 0.66999996\n",
      "0.32 0.68\n",
      "0.31 0.69\n",
      "[5.7827848e-10 6.3052319e-10 4.7405763e-10 ... 8.2286777e-20 2.9192812e-05\n",
      " 2.7196752e-20]\n",
      "Iter 70  :1% fpr 0.07162 , F1= 0.95106 h= 0.30372 ; loss= [0.21971 0.06377 0.14475 0.15594] ;\n",
      "\t valid 1% fpr=, 0.90339 , valid F1= 0.70014 h_valid= 0.15529 ; valid_loss=, [1.02269 0.86719 0.13311 0.15551]\n",
      "0.3 0.7\n",
      "0.29 0.71000004\n",
      "0.28 0.72\n",
      "0.27 0.73\n",
      "0.26 0.74\n",
      "0.25 0.75\n",
      "0.24 0.76\n",
      "0.23 0.77\n",
      "0.22 0.78\n",
      "0.21 0.79\n",
      "[1.7580391e-12 9.5200844e-13 4.1553319e-12 ... 1.7020257e-21 8.9875330e-06\n",
      " 2.8509056e-25]\n",
      "Iter 80  :1% fpr 0.00108 , F1= 0.99032 h= 0.39036 ; loss= [0.18446 0.02925 0.18629 0.15521] ;\n",
      "\t valid 1% fpr=, 0.77807 , valid F1= 0.66182 h_valid= 0.19124 ; valid_loss=, [1.29913 1.14467 0.12093 0.15446]\n",
      "0.2 0.8\n",
      "0.19 0.81\n",
      "0.18 0.82\n",
      "0.17 0.83\n",
      "0.16 0.84000003\n",
      "0.15 0.85\n",
      "0.14 0.86\n",
      "0.13 0.87\n",
      "0.12 0.88\n",
      "0.11 0.89\n",
      "[1.2505515e-12 2.2200269e-12 1.6326973e-13 ... 1.3225482e-22 6.9900784e-06\n",
      " 8.7296001e-26]\n",
      "Iter 90  :1% fpr 0.00431 , F1= 0.98947 h= 0.41353 ; loss= [0.18114 0.02661 0.13214 0.15452] ;\n",
      "\t valid 1% fpr=, 0.81332 , valid F1= 0.66824 h_valid= 0.21185 ; valid_loss=, [1.27402 1.12013 0.11997 0.15389]\n",
      "0.1 0.9\n",
      "0.09 0.90999997\n",
      "0.08 0.92\n",
      "0.07 0.93\n",
      "0.06 0.94\n",
      "0.05 0.95\n",
      "0.04 0.96\n",
      "0.03 0.97\n",
      "0.02 0.98\n",
      "0.01 0.99\n",
      "saving model to: ./results/dec/DEC_model_final.h5\n"
     ]
    }
   ],
   "source": [
    "y_pred, metrics_dict = dec.clustering(x_train, np_utils.to_categorical(y_train_vote_fractions), \\\n",
    "                                      (x_valid, np_utils.to_categorical(y_valid)), \\\n",
    "                                      pretrained_weights=dec_weights, maxiter=100)"
   ]
  },
  {
   "cell_type": "code",
   "execution_count": 18,
   "metadata": {
    "collapsed": false
   },
   "outputs": [
    {
     "data": {
      "image/png": "[encoded data removed]",
      "text/plain": [
       "<matplotlib.figure.Figure at 0x125ab92b0>"
      ]
     },
     "metadata": {},
     "output_type": "display_data"
    }
   ],
   "source": [
    "plt.plot(metrics_dict['iteration'], metrics_dict['train_f1'])\n",
    "plt.plot(metrics_dict['iteration'], metrics_dict['valid_f1'])\n",
    "plt.show()"
   ]
  },
  {
   "cell_type": "code",
   "execution_count": 19,
   "metadata": {
    "collapsed": false
   },
   "outputs": [
    {
     "data": {
      "image/png": "[encoded data removed]",
      "text/plain": [
       "<matplotlib.figure.Figure at 0x1261fdef0>"
      ]
     },
     "metadata": {},
     "output_type": "display_data"
    }
   ],
   "source": [
    "plt.plot(metrics_dict['iteration'], metrics_dict['train_fom'])\n",
    "plt.plot(metrics_dict['iteration'], metrics_dict['valid_fom'])\n",
    "plt.show()"
   ]
  },
  {
   "cell_type": "code",
   "execution_count": 20,
   "metadata": {
    "collapsed": false
   },
   "outputs": [
    {
     "data": {
      "image/png": "[encoded data removed]",
      "text/plain": [
       "<matplotlib.figure.Figure at 0x126780940>"
      ]
     },
     "metadata": {},
     "output_type": "display_data"
    }
   ],
   "source": [
    "plt.plot(metrics_dict['iteration'], metrics_dict['train_h'])\n",
    "plt.plot(metrics_dict['iteration'], metrics_dict['valid_h'])\n",
    "plt.show()"
   ]
  },
  {
   "cell_type": "code",
   "execution_count": null,
   "metadata": {
    "collapsed": true
   },
   "outputs": [],
   "source": []
  }
 ],
 "metadata": {
  "kernelspec": {
   "display_name": "Python [aind]",
   "language": "python",
   "name": "Python [aind]"
  },
  "language_info": {
   "codemirror_mode": {
    "name": "ipython",
    "version": 3
   },
   "file_extension": ".py",
   "mimetype": "text/x-python",
   "name": "python",
   "nbconvert_exporter": "python",
   "pygments_lexer": "ipython3",
   "version": "3.6.0"
  }
 },
 "nbformat": 4,
 "nbformat_minor": 2
}
